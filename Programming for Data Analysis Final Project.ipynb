{
 "cells": [
  {
   "cell_type": "markdown",
   "metadata": {},
   "source": [
    "## Programming for Data Analysis Final Project\n",
    "### Lecturer: Brian McGinley\n",
    "#### Submission Date: 16/12/2019\n",
    "\n"
   ]
  },
  {
   "cell_type": "markdown",
   "metadata": {},
   "source": [
    "Tanguy (2019)\n",
    "when you use numpy.random in multiprocess application - it can lead to misleading behaviors.\n",
    "\n",
    "Cohen (2019)\n",
    "Which data to sample.\n",
    "Which sampling distribution to follow and when?\n",
    "Which sampling algorithm to use.\n",
    "How many to sample?\n",
    "\n",
    "#### Criteria and Workflow.\n",
    "Count\n",
    "Simple definition and short task description.\n",
    "Routine measurements and agreement between measurements.\n",
    "Sample appropriately & create the dataset.\n",
    "Carefully choose solution\n",
    "Use a simple visualizations to explain task.\n",
    "\n",
    "Geeks for Geeks (2019) \"Generating random numbers has always been an useful utility in day-day programming for games or various types of gambling etc. Hence knowledge and shorthands of it in any programming language is always a plus to have\""
   ]
  },
  {
   "cell_type": "markdown",
   "metadata": {},
   "source": [
    "Number of Inputs: 150\n",
    "Number of Attributes/columns: chipcount, gameweeksplayed, level, win percentage, sex, entries\n",
    "Attribute Measurement: \n",
    "* chipcount = numeric 1,000,000 total\n",
    "* gameweeksplayed = numeric - 30 total\n",
    "* winpercentage = numeric percentage - ranges out of 100 - highest 65%\n",
    "* level = beginner, intermediate, advanced\n",
    "* sex = Male/Female\n",
    "* size = count of players in the final - 150\n",
    "* analysis Type: Multivariate"
   ]
  },
  {
   "cell_type": "markdown",
   "metadata": {},
   "source": []
  },
  {
   "cell_type": "code",
   "execution_count": 3,
   "metadata": {},
   "outputs": [
    {
     "data": {
      "text/plain": [
       "array([149, 603, 475, 760, 719, 351, 556, 735, 476, 167, 219, 297, 352,\n",
       "       503, 581, 480, 183, 742, 719, 389, 234, 374, 749, 725, 690, 324,\n",
       "       271, 734, 538, 279, 155, 216, 237, 278, 565, 151, 442, 227, 343,\n",
       "       263, 182,  95, 717, 438, 368, 111, 133, 208, 467, 471, 548,  81,\n",
       "       678, 313, 501, 420, 459,  61,  74, 469, 653, 597, 697, 730, 176,\n",
       "        82, 408, 167, 662,  90,  78, 708, 311, 216, 726, 737, 280, 337,\n",
       "       364, 150, 289,  80, 540, 106, 284, 178, 272,  66, 513, 199, 518,\n",
       "       265, 212, 488, 671, 155, 508, 534, 637, 428, 753, 332, 129, 341,\n",
       "        46, 470,  28,  53, 577,  56, 625, 797, 691, 224,  95, 495, 695,\n",
       "       350, 228, 616, 311, 469, 386, 478, 608, 641, 354,  82, 743, 518,\n",
       "       442, 383,  74, 699, 131, 402, 360, 395,  79, 410, 528,  68, 238,\n",
       "       106, 130, 516, 415, 392,  88, 413])"
      ]
     },
     "execution_count": 3,
     "metadata": {},
     "output_type": "execute_result"
    }
   ],
   "source": [
    "#points\n",
    "import numpy as np\n",
    "aweeks = np.random.randint(low = 1, high = 150, size = 150)\n",
    "points = 5 * weeks + 10 + np.random.randint(low = 1, high = 50, size = 150)\n",
    "points"
   ]
  },
  {
   "cell_type": "code",
   "execution_count": 34,
   "metadata": {},
   "outputs": [
    {
     "data": {
      "text/plain": [
       "array([6, 9, 6, 1, 1, 2, 8, 7, 3, 5, 6, 3, 5, 3, 5, 8, 8, 2, 8, 1, 7, 8,\n",
       "       7, 2, 1, 2, 9, 9, 4, 9, 8, 4, 7, 6, 2, 4, 5, 9, 2, 5, 1, 4, 3, 1,\n",
       "       5, 3, 8, 8, 9, 7])"
      ]
     },
     "execution_count": 34,
     "metadata": {},
     "output_type": "execute_result"
    }
   ],
   "source": [
    "#gameweeks attended\n",
    "np.random.seed(1)\n",
    "gwp10 = np.random.randint(1, 10, 50)\n",
    "gwp10"
   ]
  },
  {
   "cell_type": "code",
   "execution_count": 35,
   "metadata": {},
   "outputs": [
    {
     "data": {
      "text/plain": [
       "array([16, 19, 16, 11, 11, 12, 18, 17, 13, 15, 16, 13, 15, 13, 15, 18, 18,\n",
       "       12, 18, 11, 17, 18, 17, 12, 11, 12, 19, 19, 14, 19, 18, 14, 17, 16,\n",
       "       12, 14, 15, 19, 12, 15, 11, 14, 13, 11, 15, 13, 18, 18, 19, 17])"
      ]
     },
     "execution_count": 35,
     "metadata": {},
     "output_type": "execute_result"
    }
   ],
   "source": [
    "np.random.seed(1)\n",
    "gwp20 = np.random.randint(11, 20, 50)\n",
    "gwp20"
   ]
  },
  {
   "cell_type": "code",
   "execution_count": 38,
   "metadata": {},
   "outputs": [
    {
     "data": {
      "text/plain": [
       "array([26, 29, 26, 21, 21, 22, 28, 27, 23, 25, 26, 23, 25, 23, 25, 28, 28,\n",
       "       22, 28, 21, 27, 28, 27, 22, 21, 22, 29, 29, 24, 29, 28, 24, 27, 26,\n",
       "       22, 24, 25, 29, 22, 25, 21, 24, 23, 21, 25, 23, 28, 28, 29, 27])"
      ]
     },
     "execution_count": 38,
     "metadata": {},
     "output_type": "execute_result"
    }
   ],
   "source": [
    "np.random.seed(1)\n",
    "gwp30 = np.random.randint(21, 30, 50)\n",
    "gwp30"
   ]
  },
  {
   "cell_type": "code",
   "execution_count": 53,
   "metadata": {},
   "outputs": [
    {
     "data": {
      "text/plain": [
       "array([ 38, 141,  73, 138, 134,  80, 145, 130,  72, 135,  26,  21, 102,\n",
       "       147, 140, 143,  51,  69,  97,  87, 142, 138,   8,  64,  62,  23,\n",
       "        58,   2, 129,  61,   9, 142, 116, 122,  31,  72, 132,  50,  58,\n",
       "         4,  25,  44,  77,  27,  53,  81, 110, 116,  42,  16])"
      ]
     },
     "execution_count": 53,
     "metadata": {},
     "output_type": "execute_result"
    }
   ],
   "source": [
    "#points generation\n",
    "np.random.seed(1)\n",
    "chiplow = np.random.randint(1, 150, 50)\n",
    "chiplow"
   ]
  },
  {
   "cell_type": "code",
   "execution_count": 54,
   "metadata": {},
   "outputs": [
    {
     "data": {
      "text/plain": [
       "array([188, 291, 223, 288, 284, 230, 295, 280, 222, 285, 176, 171, 252,\n",
       "       297, 290, 293, 201, 219, 247, 237, 292, 288, 158, 214, 212, 173,\n",
       "       208, 152, 279, 211, 159, 292, 266, 272, 181, 222, 282, 200, 208,\n",
       "       154, 175, 194, 227, 177, 203, 231, 260, 266, 192, 166])"
      ]
     },
     "execution_count": 54,
     "metadata": {},
     "output_type": "execute_result"
    }
   ],
   "source": [
    "np.random.seed(1)\n",
    "chipmid = np.random.randint(151, 300, 50)\n",
    "chipmid"
   ]
  },
  {
   "cell_type": "code",
   "execution_count": 55,
   "metadata": {},
   "outputs": [
    {
     "data": {
      "text/plain": [
       "array([338, 536, 373, 556, 504, 434, 445, 430, 372, 538, 582, 479, 577,\n",
       "       555, 553, 457, 351, 369, 516, 542, 387, 442, 308, 323, 302, 510,\n",
       "       565, 517, 442, 416, 422, 331, 372, 350, 304, 581, 344, 377, 327,\n",
       "       410, 598, 316, 365, 497, 326, 527, 583, 454, 405, 323])"
      ]
     },
     "execution_count": 55,
     "metadata": {},
     "output_type": "execute_result"
    }
   ],
   "source": [
    "np.random.seed(1)\n",
    "chiphigh = np.random.randint(301, 600, 50)\n",
    "chiphigh"
   ]
  },
  {
   "cell_type": "code",
   "execution_count": 56,
   "metadata": {},
   "outputs": [
    {
     "data": {
      "text/plain": [
       "array([  2,   4,   8,   9,  16,  21,  23,  25,  26,  27,  31,  38,  42,\n",
       "        44,  50,  51,  53,  58,  58,  61,  62,  64,  69,  72,  72,  73,\n",
       "        77,  80,  81,  87,  97, 102, 110, 116, 116, 122, 129, 130, 132,\n",
       "       134, 135, 138, 138, 140, 141, 142, 142, 143, 145, 147])"
      ]
     },
     "execution_count": 56,
     "metadata": {},
     "output_type": "execute_result"
    }
   ],
   "source": [
    "np.random.seed(1)\n",
    "np.sort(chiplow)"
   ]
  },
  {
   "cell_type": "code",
   "execution_count": 57,
   "metadata": {},
   "outputs": [
    {
     "data": {
      "text/plain": [
       "array([  1,   2,   3,   4,   5,   6,   7,   8,   9,  10,  11,  12,  13,\n",
       "        14,  15,  16,  17,  18,  19,  20,  21,  22,  23,  24,  25,  26,\n",
       "        27,  28,  29,  30,  31,  32,  33,  34,  35,  36,  37,  38,  39,\n",
       "        40,  41,  42,  43,  44,  45,  46,  47,  48,  49,  50,  51,  52,\n",
       "        53,  54,  55,  56,  57,  58,  59,  60,  61,  62,  63,  64,  65,\n",
       "        66,  67,  68,  69,  70,  71,  72,  73,  74,  75,  76,  77,  78,\n",
       "        79,  80,  81,  82,  83,  84,  85,  86,  87,  88,  89,  90,  91,\n",
       "        92,  93,  94,  95,  96,  97,  98,  99, 100, 101, 102, 103, 104,\n",
       "       105, 106, 107, 108, 109, 110, 111, 112, 113, 114, 115, 116, 117,\n",
       "       118, 119, 120, 121, 122, 123, 124, 125, 126, 127, 128, 129, 130,\n",
       "       131, 132, 133, 134, 135, 136, 137, 138, 139, 140, 141, 142, 143,\n",
       "       144, 145, 146, 147, 148, 149, 150])"
      ]
     },
     "execution_count": 57,
     "metadata": {},
     "output_type": "execute_result"
    }
   ],
   "source": [
    "#field\n",
    "field = np.arange(1, 151, 1)\n",
    "field"
   ]
  },
  {
   "cell_type": "code",
   "execution_count": 131,
   "metadata": {},
   "outputs": [
    {
     "name": "stdout",
     "output_type": "stream",
     "text": [
      "[ 38 141  73 138 134  80 145 130  72 135  26  21 102 147 140 143  51  69\n",
      "  97  87 142 138   8  64  62  23  58   2 129  61   9 142 116 122  31  72\n",
      " 132  50  58   4  25  44  77  27  53  81 110 116  42  16 188 291 223 288\n",
      " 284 230 295 280 222 285 176 171 252 297 290 293 201 219 247 237 292 288\n",
      " 158 214 212 173 208 152 279 211 159 292 266 272 181 222 282 200 208 154\n",
      " 175 194 227 177 203 231 260 266 192 166 338 536 373 556 504 434 445 430\n",
      " 372 538 582 479 577 555 553 457 351 369 516 542 387 442 308 323 302 510\n",
      " 565 517 442 416 422 331 372 350 304 581 344 377 327 410 598 316 365 497\n",
      " 326 527 583 454 405 323]\n"
     ]
    }
   ],
   "source": [
    "np.random.seed(1)\n",
    "partchip = np.append(chiplow, chipmid)\n",
    "totalchip = np.append(partchip, chiphigh)\n",
    "print(totalchip)"
   ]
  },
  {
   "cell_type": "code",
   "execution_count": null,
   "metadata": {},
   "outputs": [],
   "source": []
  },
  {
   "cell_type": "code",
   "execution_count": 6,
   "metadata": {},
   "outputs": [
    {
     "name": "stdout",
     "output_type": "stream",
     "text": [
      "1 1\n"
     ]
    }
   ],
   "source": [
    "#binomial example 55% tournament win rate)\n",
    "import matplotlib.pyplot as plt\n",
    "cash = np.zeros(10000)\n",
    "cash[0] = 0\n",
    "outcome = np.random.binomial(1, 1, size=len(cash))\n",
    "\n",
    "for i in range(1, len(cash)):\n",
    "    if outcome[i] < 1:\n",
    "        cash[i] = cash[i - 1] - 1\n",
    "    elif outcome[i] < 3:\n",
    "        cash[i] = cash[i - 1] + 1\n",
    "                \n",
    "print(outcome.min(), outcome.max())"
   ]
  },
  {
   "cell_type": "code",
   "execution_count": 7,
   "metadata": {},
   "outputs": [
    {
     "data": {
      "image/png": "[encoded data removed]",
      "text/plain": [
       "<Figure size 432x288 with 1 Axes>"
      ]
     },
     "metadata": {
      "needs_background": "light"
     },
     "output_type": "display_data"
    }
   ],
   "source": [
    "straight = np.arange(len(cash))\n",
    "plt.plot(straight, cash)\n",
    "plt.show()"
   ]
  },
  {
   "cell_type": "code",
   "execution_count": 78,
   "metadata": {},
   "outputs": [
    {
     "data": {
      "text/plain": [
       "array([42.09790219, 54.53330423, 25.00468937, 37.39563548, 31.01699152,\n",
       "       28.78588239, 32.63666867, 39.16798981, 41.26746644, 47.09148609,\n",
       "       42.18697509, 53.09399952, 33.38254224, 61.00281489, 26.12289132,\n",
       "       52.48916792, 42.1094969 , 47.90628297, 30.75586448, 33.12216105,\n",
       "       57.83052732, 64.6987246 , 37.8503913 , 53.38522724, 60.93195524,\n",
       "       61.6788732 , 28.48681267, 26.60124611, 31.9630472 , 61.00384264,\n",
       "       29.03222019, 42.26541263, 64.27347074, 46.85977668, 53.36696167,\n",
       "       37.93614087, 53.14653803, 59.21965255, 25.74981937, 55.75591691,\n",
       "       65.54330465, 55.67479183, 36.49820367, 57.36045247, 29.23226627,\n",
       "       43.36363457, 62.25241563, 37.03818008, 36.79878888, 30.33117146,\n",
       "       25.79404527, 52.83225685, 33.67675276, 35.88741303, 45.15449953,\n",
       "       27.18786435, 48.53882183, 31.01587157, 49.16152701, 53.69009276,\n",
       "       29.19571158, 41.9762955 , 53.47040647, 41.98135005, 27.04809182,\n",
       "       46.97175264, 52.21558045, 46.11045359, 63.728385  , 49.04875666,\n",
       "       62.03947853, 30.63646287, 30.71033024, 58.10304284, 41.30475032,\n",
       "       31.77952208, 63.0278518 , 39.25840025, 55.78329623, 54.7659174 ,\n",
       "       61.21554974, 50.57056049, 55.7886398 , 39.30483202, 36.06704356,\n",
       "       61.73133495, 42.55173878, 64.55844193, 52.20110141, 50.48952453,\n",
       "       29.70458489, 63.92905961, 43.44639747, 48.71397419, 41.73360891,\n",
       "       34.71810619, 62.03856034, 48.52085895, 25.11768341, 50.30294146,\n",
       "       38.39244097, 46.60938219, 61.32362607, 39.64806016, 62.24994119,\n",
       "       50.55776475, 25.64867096, 63.10692658, 53.32677362, 65.89023687,\n",
       "       32.06596084, 30.62256573, 63.23641398, 53.56954462, 27.70600708,\n",
       "       55.97398516, 55.90892373, 62.84400596, 54.1725151 , 30.09510944,\n",
       "       25.81508549, 26.07465046, 26.16056601, 35.09465377, 60.2611459 ,\n",
       "       47.09207364, 47.66570113, 59.52326659, 30.09110592, 36.44653084,\n",
       "       49.01613013, 64.75342568, 48.00223899, 25.76453886, 57.82593958,\n",
       "       34.55194523, 58.09131302, 40.90228641, 60.40521604, 55.63198735,\n",
       "       47.80584959, 30.59466425, 27.45662527, 29.97508169, 26.82662702,\n",
       "       29.40725929, 34.25408288, 54.2325482 , 47.94839626, 25.51479519])"
      ]
     },
     "execution_count": 78,
     "metadata": {},
     "output_type": "execute_result"
    }
   ],
   "source": [
    "np.random.seed(1)\n",
    "np.random.uniform(low= 25, high=66, size=150)"
   ]
  },
  {
   "cell_type": "code",
   "execution_count": 116,
   "metadata": {},
   "outputs": [
    {
     "data": {
      "text/plain": [
       "7.1e-05"
      ]
     },
     "execution_count": 116,
     "metadata": {},
     "output_type": "execute_result"
    }
   ],
   "source": [
    "n, p = 150, .55  # number of hands, probability of each hand\n",
    "s = np.random.binomial(n, p)\n",
    "\n",
    "sum(np.random.binomial(9, 0.65, 1000000) == 0)/1000000."
   ]
  },
  {
   "cell_type": "code",
   "execution_count": null,
   "metadata": {},
   "outputs": [],
   "source": []
  },
  {
   "cell_type": "code",
   "execution_count": 97,
   "metadata": {},
   "outputs": [],
   "source": [
    "#groups\n",
    "np.random.seed(1)\n",
    "three_groups = ('beginner', 'intermediate', 'advanced')\n",
    "level = np.random.choice(three_groups, 150)"
   ]
  },
  {
   "cell_type": "code",
   "execution_count": 72,
   "metadata": {},
   "outputs": [
    {
     "data": {
      "text/plain": [
       "array(['intermediate', 'beginner', 'beginner', 'intermediate',\n",
       "       'intermediate', 'beginner', 'beginner', 'intermediate', 'beginner',\n",
       "       'intermediate', 'beginner', 'advanced', 'intermediate', 'advanced',\n",
       "       'beginner', 'advanced', 'intermediate', 'advanced', 'beginner',\n",
       "       'beginner', 'advanced', 'beginner', 'intermediate', 'advanced',\n",
       "       'advanced', 'beginner', 'intermediate', 'intermediate', 'advanced',\n",
       "       'beginner', 'advanced', 'intermediate', 'intermediate',\n",
       "       'intermediate', 'intermediate', 'advanced', 'intermediate',\n",
       "       'intermediate', 'beginner', 'beginner', 'intermediate', 'beginner',\n",
       "       'beginner', 'intermediate', 'advanced', 'intermediate', 'beginner',\n",
       "       'advanced', 'advanced', 'intermediate', 'intermediate',\n",
       "       'intermediate', 'beginner', 'beginner', 'intermediate', 'beginner',\n",
       "       'advanced', 'beginner', 'beginner', 'intermediate', 'intermediate',\n",
       "       'advanced', 'beginner', 'beginner', 'intermediate', 'advanced',\n",
       "       'advanced', 'intermediate', 'beginner', 'advanced', 'intermediate',\n",
       "       'advanced', 'intermediate', 'beginner', 'intermediate',\n",
       "       'intermediate', 'advanced', 'beginner', 'beginner', 'advanced',\n",
       "       'advanced', 'intermediate', 'beginner', 'advanced', 'advanced',\n",
       "       'advanced', 'beginner', 'beginner', 'intermediate', 'intermediate',\n",
       "       'intermediate', 'beginner', 'beginner', 'intermediate',\n",
       "       'intermediate', 'advanced', 'beginner', 'intermediate', 'advanced',\n",
       "       'advanced', 'beginner', 'intermediate', 'intermediate', 'beginner',\n",
       "       'beginner', 'beginner', 'advanced', 'beginner', 'intermediate',\n",
       "       'beginner', 'intermediate', 'beginner', 'beginner', 'advanced',\n",
       "       'beginner', 'intermediate', 'advanced', 'beginner', 'intermediate',\n",
       "       'intermediate', 'beginner', 'advanced', 'beginner', 'beginner',\n",
       "       'beginner', 'beginner', 'intermediate', 'advanced', 'beginner',\n",
       "       'intermediate', 'beginner', 'advanced', 'intermediate', 'advanced',\n",
       "       'beginner', 'beginner', 'advanced', 'advanced', 'advanced',\n",
       "       'beginner', 'intermediate', 'advanced', 'advanced', 'advanced',\n",
       "       'advanced', 'beginner', 'advanced', 'intermediate', 'intermediate',\n",
       "       'advanced'], dtype='<U12')"
      ]
     },
     "execution_count": 72,
     "metadata": {},
     "output_type": "execute_result"
    }
   ],
   "source": [
    "level"
   ]
  },
  {
   "cell_type": "code",
   "execution_count": 124,
   "metadata": {},
   "outputs": [
    {
     "data": {
      "text/plain": [
       "array(['female', 'female', 'male', 'male', 'female', 'female', 'female',\n",
       "       'female', 'female', 'male', 'male', 'female', 'male', 'female',\n",
       "       'female', 'male', 'male', 'female', 'male', 'male', 'male',\n",
       "       'female', 'male', 'male', 'female', 'male', 'male', 'male',\n",
       "       'female', 'male', 'male', 'male', 'female', 'female', 'female',\n",
       "       'female', 'female', 'male', 'male', 'male', 'female', 'female',\n",
       "       'female', 'female', 'female', 'female', 'male', 'female', 'female',\n",
       "       'male', 'male', 'female', 'male', 'male', 'female', 'female',\n",
       "       'female', 'male', 'female', 'male', 'male', 'female', 'female',\n",
       "       'male', 'female', 'female', 'female', 'female', 'male', 'male',\n",
       "       'female', 'female', 'male', 'male', 'male', 'male', 'female',\n",
       "       'female', 'female', 'male', 'female', 'male', 'male', 'female',\n",
       "       'female', 'male', 'female', 'female', 'male', 'female', 'male',\n",
       "       'male', 'female', 'female', 'female', 'male', 'female', 'female',\n",
       "       'male', 'female', 'female', 'female', 'female', 'male', 'male',\n",
       "       'male', 'male', 'male', 'female', 'female', 'female', 'female',\n",
       "       'female', 'female', 'female', 'male', 'male', 'male', 'male',\n",
       "       'male', 'male', 'female', 'female', 'female', 'female', 'female',\n",
       "       'female', 'male', 'male', 'female', 'female', 'male', 'male',\n",
       "       'female', 'male', 'male', 'male', 'female', 'female', 'female',\n",
       "       'female', 'female', 'male', 'female', 'male', 'female', 'male',\n",
       "       'male', 'male', 'female'], dtype='<U6')"
      ]
     },
     "execution_count": 124,
     "metadata": {},
     "output_type": "execute_result"
    }
   ],
   "source": [
    "# sex\n",
    "np.random.seed(1)\n",
    "sex = ('male', 'female')\n",
    "np.random.choice(sex, 150)"
   ]
  }
 ],
 "metadata": {
  "kernelspec": {
   "display_name": "Python 3",
   "language": "python",
   "name": "python3"
  },
  "language_info": {
   "codemirror_mode": {
    "name": "ipython",
    "version": 3
   },
   "file_extension": ".py",
   "mimetype": "text/x-python",
   "name": "python",
   "nbconvert_exporter": "python",
   "pygments_lexer": "ipython3",
   "version": "3.7.3"
  }
 },
 "nbformat": 4,
 "nbformat_minor": 2
}
