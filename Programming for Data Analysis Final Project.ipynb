{
 "cells": [
  {
   "cell_type": "markdown",
   "metadata": {},
   "source": [
    "## Programming for Data Analysis Final Project\n",
    "### Lecturer: Brian McGinley\n",
    "#### Submission Date: 16/12/2019\n",
    "\n"
   ]
  },
  {
   "cell_type": "markdown",
   "metadata": {},
   "source": [
    "Tanguy (2019)\n",
    "when you use numpy.random in multiprocess application - it can lead to misleading behaviors.\n",
    "\n",
    "Cohen (2019)\n",
    "Which data to sample.\n",
    "Which sampling distribution to follow and when?\n",
    "Which sampling algorithm to use.\n",
    "How many to sample?\n",
    "\n",
    "#### Criteria and Workflow.\n",
    "Count\n",
    "Simple definition and short task description.\n",
    "Routine measurements and agreement between measurements.\n",
    "Sample appropriately & create the dataset.\n",
    "Carefully choose solution\n",
    "Use a simple visualizations to explain task.\n",
    "\n",
    "Geeks for Geeks (2019) \"Generating random numbers has always been an useful utility in day-day programming for games or various types of gambling etc. Hence knowledge and shorthands of it in any programming language is always a plus to have\""
   ]
  },
  {
   "cell_type": "code",
   "execution_count": 1,
   "metadata": {},
   "outputs": [
    {
     "data": {
      "text/plain": [
       "array([696, 453, 413, 576, 535, 261, 881, 222, 485, 646, 695, 150, 729,\n",
       "       803, 318, 649, 202, 572, 328, 726, 540, 318, 234, 405, 477, 792,\n",
       "       404, 238, 636, 701, 702, 760, 112, 348, 807, 423, 119, 474, 237,\n",
       "       258, 163, 721, 602, 600, 428, 269, 255, 696, 724, 557, 342, 108,\n",
       "       823, 228, 670, 416, 444, 189, 341, 453, 380, 371, 153, 153, 334,\n",
       "       836, 239, 591, 286,  89, 382, 582, 640, 854, 692, 620, 344, 494,\n",
       "       712, 127, 696, 470, 609, 391,  67, 363, 514, 674, 312, 802, 157,\n",
       "       578, 201, 192, 141, 450, 692, 288, 624, 295, 386, 665, 291, 482,\n",
       "       648, 186, 289, 303, 572, 599, 537, 783, 285, 714, 518, 479, 460,\n",
       "       599,  87, 484, 415, 242, 619, 486, 493, 250, 606, 699, 597, 748,\n",
       "       780, 318, 469, 443, 146, 181, 253, 884, 531, 153, 367, 119, 740,\n",
       "       723, 349, 743, 493, 370, 805, 583])"
      ]
     },
     "execution_count": 1,
     "metadata": {},
     "output_type": "execute_result"
    }
   ],
   "source": [
    "#points\n",
    "import numpy as np\n",
    "weeks = np.random.randint(low = 1, high = 150, size = 150)\n",
    "points = 5 * weeks + 10 + np.random.randint(low = 1, high = 150, size = 150)\n",
    "points"
   ]
  },
  {
   "cell_type": "code",
   "execution_count": 2,
   "metadata": {},
   "outputs": [
    {
     "data": {
      "text/plain": [
       "array([  1,   2,   3,   4,   5,   6,   7,   8,   9,  10,  11,  12,  13,\n",
       "        14,  15,  16,  17,  18,  19,  20,  21,  22,  23,  24,  25,  26,\n",
       "        27,  28,  29,  30,  31,  32,  33,  34,  35,  36,  37,  38,  39,\n",
       "        40,  41,  42,  43,  44,  45,  46,  47,  48,  49,  50,  51,  52,\n",
       "        53,  54,  55,  56,  57,  58,  59,  60,  61,  62,  63,  64,  65,\n",
       "        66,  67,  68,  69,  70,  71,  72,  73,  74,  75,  76,  77,  78,\n",
       "        79,  80,  81,  82,  83,  84,  85,  86,  87,  88,  89,  90,  91,\n",
       "        92,  93,  94,  95,  96,  97,  98,  99, 100, 101, 102, 103, 104,\n",
       "       105, 106, 107, 108, 109, 110, 111, 112, 113, 114, 115, 116, 117,\n",
       "       118, 119, 120, 121, 122, 123, 124, 125, 126, 127, 128, 129, 130,\n",
       "       131, 132, 133, 134, 135, 136, 137, 138, 139, 140, 141, 142, 143,\n",
       "       144, 145, 146, 147, 148, 149, 150])"
      ]
     },
     "execution_count": 2,
     "metadata": {},
     "output_type": "execute_result"
    }
   ],
   "source": [
    "#field\n",
    "np.arange(1, 151, 1)"
   ]
  },
  {
   "cell_type": "code",
   "execution_count": 4,
   "metadata": {},
   "outputs": [
    {
     "data": {
      "text/plain": [
       "array([ 67,  87,  89, 108, 112, 119, 119, 127, 141, 146, 150, 153, 153,\n",
       "       153, 157, 163, 181, 186, 189, 192, 201, 202, 222, 228, 234, 237,\n",
       "       238, 239, 242, 250, 253, 255, 258, 261, 269, 285, 286, 288, 289,\n",
       "       291, 295, 303, 312, 318, 318, 318, 328, 334, 341, 342, 344, 348,\n",
       "       349, 363, 367, 370, 371, 380, 382, 386, 391, 404, 405, 413, 415,\n",
       "       416, 423, 428, 443, 444, 450, 453, 453, 460, 469, 470, 474, 477,\n",
       "       479, 482, 484, 485, 486, 493, 493, 494, 514, 518, 531, 535, 537,\n",
       "       540, 557, 572, 572, 576, 578, 582, 583, 591, 597, 599, 599, 600,\n",
       "       602, 606, 609, 619, 620, 624, 636, 640, 646, 648, 649, 665, 670,\n",
       "       674, 692, 692, 695, 696, 696, 696, 699, 701, 702, 712, 714, 721,\n",
       "       723, 724, 726, 729, 740, 743, 748, 760, 780, 783, 792, 802, 803,\n",
       "       805, 807, 823, 836, 854, 881, 884])"
      ]
     },
     "execution_count": 4,
     "metadata": {},
     "output_type": "execute_result"
    }
   ],
   "source": [
    "np.sort(points)"
   ]
  },
  {
   "cell_type": "code",
   "execution_count": 5,
   "metadata": {},
   "outputs": [
    {
     "data": {
      "text/plain": [
       "array([ 6, 12, 13,  9, 10, 12,  6, 16,  1, 17,  2, 13,  8, 14,  7, 19,  6,\n",
       "       19, 12, 11, 15, 19,  5, 10, 18,  1, 14, 10, 10,  8,  2,  1, 18,  9,\n",
       "       14, 16, 11,  9,  8,  4,  7, 18,  4,  5, 18, 12, 13, 17, 14, 10, 19,\n",
       "       16,  1,  5, 16,  3,  8,  9, 10,  4,  8,  5,  6,  7,  9,  1,  3, 11,\n",
       "       16, 16,  8, 11, 15,  1,  2, 18, 14,  4,  1, 14,  7,  7,  3, 13, 12,\n",
       "        8, 14,  9, 12, 13, 12,  5,  8,  8, 14,  5, 17, 19,  1, 14, 11, 18,\n",
       "        8, 11,  1, 13,  2, 10, 19,  2,  3, 13,  8,  3, 11,  1, 10, 19,  7,\n",
       "        3,  8,  8, 17, 16,  6, 18, 11, 17,  6, 14, 18, 19,  2, 11,  1,  8,\n",
       "        1, 18, 15, 14, 12,  7, 14, 16, 10,  3,  8,  6,  5,  6])"
      ]
     },
     "execution_count": 5,
     "metadata": {},
     "output_type": "execute_result"
    }
   ],
   "source": [
    "#gameweeks attended\n",
    "np.random.seed(1)\n",
    "np.random.randint(low = 1, high = 20, size = 150)"
   ]
  },
  {
   "cell_type": "code",
   "execution_count": 6,
   "metadata": {},
   "outputs": [
    {
     "name": "stdout",
     "output_type": "stream",
     "text": [
      "1 1\n"
     ]
    }
   ],
   "source": [
    "#binomial example 55% tournament win rate)\n",
    "import matplotlib.pyplot as plt\n",
    "cash = np.zeros(10000)\n",
    "cash[0] = 0\n",
    "outcome = np.random.binomial(1, 1, size=len(cash))\n",
    "\n",
    "for i in range(1, len(cash)):\n",
    "    if outcome[i] < 1:\n",
    "        cash[i] = cash[i - 1] - 1\n",
    "    elif outcome[i] < 3:\n",
    "        cash[i] = cash[i - 1] + 1\n",
    "                \n",
    "print(outcome.min(), outcome.max())"
   ]
  },
  {
   "cell_type": "code",
   "execution_count": 7,
   "metadata": {},
   "outputs": [
    {
     "data": {
      "image/png": "[encoded data removed]",
      "text/plain": [
       "<Figure size 432x288 with 1 Axes>"
      ]
     },
     "metadata": {
      "needs_background": "light"
     },
     "output_type": "display_data"
    }
   ],
   "source": [
    "straight = np.arange(len(cash))\n",
    "plt.plot(straight, cash)\n",
    "plt.show()"
   ]
  },
  {
   "cell_type": "code",
   "execution_count": 8,
   "metadata": {},
   "outputs": [
    {
     "data": {
      "text/plain": [
       "array(['beginner', 'advanced', 'advanced', 'intermediate', 'advanced',\n",
       "       'beginner', 'intermediate', 'beginner', 'intermediate', 'advanced',\n",
       "       'intermediate', 'advanced', 'intermediate', 'beginner',\n",
       "       'intermediate', 'intermediate', 'intermediate', 'intermediate',\n",
       "       'beginner', 'advanced', 'beginner', 'advanced', 'beginner',\n",
       "       'beginner', 'beginner', 'intermediate', 'advanced', 'beginner',\n",
       "       'beginner', 'advanced', 'intermediate', 'advanced', 'beginner',\n",
       "       'beginner', 'intermediate', 'advanced', 'beginner', 'advanced',\n",
       "       'beginner', 'beginner', 'intermediate', 'advanced', 'advanced',\n",
       "       'beginner', 'beginner', 'beginner', 'intermediate', 'advanced',\n",
       "       'beginner', 'advanced', 'advanced', 'intermediate', 'advanced',\n",
       "       'advanced', 'advanced', 'intermediate', 'intermediate',\n",
       "       'intermediate', 'beginner', 'advanced', 'advanced', 'advanced',\n",
       "       'intermediate', 'intermediate', 'intermediate', 'advanced',\n",
       "       'advanced', 'advanced', 'intermediate', 'advanced', 'intermediate',\n",
       "       'beginner', 'advanced', 'advanced', 'beginner', 'intermediate',\n",
       "       'beginner', 'beginner', 'advanced', 'beginner', 'beginner',\n",
       "       'intermediate', 'beginner', 'intermediate', 'advanced', 'beginner',\n",
       "       'advanced', 'intermediate', 'intermediate', 'beginner', 'beginner',\n",
       "       'intermediate', 'intermediate', 'beginner', 'intermediate',\n",
       "       'intermediate', 'intermediate', 'advanced', 'intermediate',\n",
       "       'intermediate', 'advanced', 'beginner', 'beginner', 'advanced',\n",
       "       'beginner', 'advanced', 'intermediate', 'beginner', 'beginner',\n",
       "       'beginner', 'advanced', 'beginner', 'beginner', 'advanced',\n",
       "       'beginner', 'intermediate', 'advanced', 'advanced', 'advanced',\n",
       "       'advanced', 'beginner', 'advanced', 'beginner', 'advanced',\n",
       "       'beginner', 'beginner', 'beginner', 'intermediate', 'advanced',\n",
       "       'advanced', 'intermediate', 'beginner', 'intermediate', 'beginner',\n",
       "       'beginner', 'intermediate', 'beginner', 'beginner', 'beginner',\n",
       "       'intermediate', 'advanced', 'intermediate', 'intermediate',\n",
       "       'intermediate', 'intermediate', 'advanced', 'beginner', 'advanced',\n",
       "       'intermediate', 'advanced'], dtype='<U12')"
      ]
     },
     "execution_count": 8,
     "metadata": {},
     "output_type": "execute_result"
    }
   ],
   "source": [
    "#groups\n",
    "three_groups = ('beginner', 'intermediate', 'advanced')\n",
    "np.random.choice(three_groups, 150)"
   ]
  }
 ],
 "metadata": {
  "kernelspec": {
   "display_name": "Python 3",
   "language": "python",
   "name": "python3"
  },
  "language_info": {
   "codemirror_mode": {
    "name": "ipython",
    "version": 3
   },
   "file_extension": ".py",
   "mimetype": "text/x-python",
   "name": "python",
   "nbconvert_exporter": "python",
   "pygments_lexer": "ipython3",
   "version": "3.7.3"
  }
 },
 "nbformat": 4,
 "nbformat_minor": 2
}
