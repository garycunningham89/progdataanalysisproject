{
 "cells": [
  {
   "cell_type": "markdown",
   "metadata": {},
   "source": [
    "## Programming for Data Analysis Final Project\n",
    "### Lecturer: Brian McGinley\n",
    "#### Submission Date: 16/12/2019\n",
    "\n",
    "#### Instructions\n",
    "\n",
    "* Choose a real-world phenomenon that can be measured and for which you could collect at least one-hundred data points across at least four different variables. \n",
    "* Investigate the types of variables involved, their likely distributions, and their relationships with each other. \n",
    "* Synthesise/simulate a data set as closely matching their properties as possible.\n",
    "* Detail your research and implement the simulation in a Jupyter notebook – the data set itself can simply be displayed in an output cell within the notebook.\n",
    "\n",
    "#### Assignment Criteria and Workflow\n",
    "* Create Jupyter notebook, synced to a Github account for lecturer access.\n",
    "* Choose an accurate phenomenon and count exceeding 100 data points with at least four variables.\n",
    "* Compose simple definitions and short task descriptions.\n",
    "* Compile routine measurements and agreement between measurements.\n",
    "* Carefully choose solutions.\n",
    "* Sample appropriately & create the dataset.\n",
    "* Use a simple visualizations to explain relationships.\n",
    "* Analyze dataset and phenomenon and detail any conclusions.  \n",
    "\n",
    "#### Structure\n",
    "\n",
    "###### 1. Introduction\n",
    "###### 2. Phenomenon\n",
    "###### 3. Assumptions\n",
    "###### 4. Dataset Generation\n",
    "###### 5. Analysis of Variables\n",
    "###### 6. Conclusion\n",
    "###### 7. Reference List\n",
    "\n",
    "# 1. Introduction\n",
    " \n",
    "The objective of this assignment is to simulate a dataset of a real world phenomenon that is of interest and then analyze the dataset using various python codes and python packages throughout. \n",
    "The packages used in this dataset include Numpy, Scipy, Matplotlib, Seaborn and Pandas. \n",
    "The simulation of the dataset will be completed using Numpys random package and then Pandas dataframe function to create the dataset on one output. \n",
    "\n",
    "The simulated dataset will be based on the phenomenon of the final of a league based poker tournament format where the participants gain entry by entering at least one of the leagues gameweeks. There will be 150 entrants used within this poker tournament example.\n",
    "\n",
    "The description of this phenomenon, assumptions related to it, and generation of this dataset in its entirety will be discussed first. The simulated dataset will then be output in this notebook.\n",
    "\n",
    "Finally the dataset will be analyzed, manipulated, visualized, assessed and have conclusions drawn from it in its entirety and the relationships, if any, between the variables within it to justify the phenomenon.\n",
    "\n",
    "To introduce the following code is submitted to import the various packages used throughout this assignment. \n"
   ]
  },
  {
   "cell_type": "code",
   "execution_count": 1,
   "metadata": {},
   "outputs": [],
   "source": [
    "#Importing the Python packages to be used in this assignment\n",
    "import numpy as np\n",
    "import pandas as pd\n",
    "import matplotlib.pyplot as plt\n",
    "#allow inline interactive matplotlib plots\n",
    "%matplotlib inline\n",
    "import seaborn as sns"
   ]
  },
  {
   "cell_type": "markdown",
   "metadata": {},
   "source": [
    "# 2. Phenomenon\n",
    "\n",
    "### Final of a League Format Poker Tournament\n",
    "\n",
    "The phenomenon chosen for this assignment is the generation of the final table dataset for a poker tournament based on several variables. The reasoning behind this is an interest in poker and the unpredicatable, probability driven nature of poker and the fact that the dataset can be simulated using randomization allows an open interpretation. Geeks for Geeks (2019) also state that \"generating random numbers has always been an useful utility in day-day programming for games or various types of gambling etc. Hence knowledge and shorthands of it in any programming language is always a plus to have\". \n",
    "\n",
    "The poker tournament used is based on a league format. The league consists of 150 participants/players. There are 30 gameweeks. The 150 participants are defined based on sex, age and into randomly assigned poker playing levels of beginner, intermediate and advanced.\n",
    "\n",
    "The players gain points each week for playing, graded on the participants placement in each gameweek, i.e. 1 point for each of the 150 participants meaning last place gets 1 point, 75th gets 75 points and 1st gets 150, and so on.\n",
    "\n",
    "These points are accumulated throughout gameweeks and are related to the gameweeks played meaning those in the range of gameweeks played 0-10 will have less points than 10-20 and so on.\n",
    "\n",
    "The final tournament chip count for playing is then calculated from these points accumulated to give final chip counts which the players will play with at the final of the tournament.\n",
    "\n",
    "The final data point that will be simulated and added into the dataset to assume its relevance to a players positioning in the final draw, is previous hand win percentage. The following table stands to show details of the data set, the data types within and their stipulations in one list;\n",
    "\n",
    "Number of Inputs: 150\n",
    "Number of Attributes/columns: 8 - chip count, total points from game weeks, game weeks played, level of player, hands win percentage, sex, age, count.\n",
    "Attribute Measurement:\n",
    "* count = numeric - count of players in the final - 150 total.\n",
    "* chips = numeric - count of chips per player in the final - 500 per point + 1000 bonus.\n",
    "* gwp = numeric - amount of game weeks played in the tournament = 30 total.\n",
    "* totalpts = numeric - full count of points gathered throughout the league = ranging 1-150 per week.\n",
    "* gender = classification of sex - Male/Female.\n",
    "* age = numeric - range of ages of players - range chosen - 18 - 75.\n",
    "* level = classification - 3 levels of player - beginner, intermediate, advanced.\n",
    "* handswon% = numeric percentage - percentage of hands played, where player was successful - lowest win rate 25% - highest 65%.\n",
    "Dataset Analysis Type: Multivariate\n",
    "\n",
    "The multivariate analysis style of this dataset is an overall classification but within these assignment there will a mixture of univariate analysis, bivariate analysis and multivariate analysis in an attempt to see if there are more explanations inferred in the dataset to explain the relationships.\n",
    "\n",
    "The dependent variable in this dataset, i.e. the variable that needs to be understood or predicted, is the total chip count. The independent variables which may or may not have influence in the total chip counts are the remaining variables in the dataset, excluding arguably the total points column as it is correlated with chip counts. Thus, the simulated dataset will use all of these pre-tournament data points to try and figure out some of these primary following queries;\n",
    "\n",
    "- Is there a relationship between final chip counts and gameweeks played?\n",
    "\n",
    "- Is there a relationship between final chip counts and gender?\n",
    "\n",
    "- Is there a relationship between final chip counts and age?\n",
    "\n",
    "- Is there a relationship between final chip counts and level?\n",
    "\n",
    "- Is there a relationship between final chip counts and hands won percentage?\n",
    "\n",
    "- Are there other interesting observations within a combination of these relationships and do any of them tend to explain the participants amassing of chips for the final and possibly predict their potential to win the tournament overall?\n",
    "\n",
    "# 3. Assumptions\n",
    "\n",
    "This section is included because there are several assumptions proposed prior to generating the dataset in an attempt to justify the phenomenon and to administer some semblance of structure so that it is not entirely randomized. A brief justification and/or brief assumptions per column are explained below;\n",
    "\n",
    "###### Count - \n",
    "150 Players - The count fits above the boundaries of 100 data points as per this assignment and the 150 players allow for easier section in low, middle and high range that are used in the code generation here after. It could also be an accurate and realistic field for a poker tournament such as the one detailed.\n",
    "\n",
    "###### Game weeks played - \n",
    "30 Weeks - A realistic weeks played assumption for similar formats but again it can be easier subdivided in line with 150 players.\n",
    "\n",
    "###### Total points from game weeks -  \n",
    "Many of the poker league formats work off a point system, with some of them rewarding those in the top 10 but a point for each player and then distributed along the 150 participants was assumed as the simulation of data could make it difficult to award points just to the top players where Numpy's random generator could over assign to some participants and vice versa.\n",
    "\n",
    "###### Level of player - \n",
    "Standardized level of any sports and the only entirely randomized simulation across the 150 as many tournaments and card games in general can have beginners, intermediate and advanced players. It can be assumed that the points gathered and likelihood to perform better would be based on experience level.\n",
    "\n",
    "###### Sex -\n",
    "Gender plays a big part in poker as the significant majority are male and Sofen (2018) explains \"Poker is unquestionably thriving among men, but women remain underrepresented in poker rooms all around the world and at the Main Event.Last year, just 272 of the 7,221 entries were female (3.7 percent)\" (Sofen, 2018). For the purpose of this assignment males will represent 90% of the field and female the remaining 10% to reflect a little higher than this representation.\n",
    "\n",
    "###### Age -\n",
    "Age is another element which could impact a poker tournament. There is no upper age limit in card playing games and as jurisdiction dependent lower age limit of 18. There was a trend for more younger players in 18-25 but that has decreased in recent years (Ruddock, 2018) and here we will use a fully randomized age range of 18 to 75 and map these onto the count overall. \n",
    "\n",
    "###### Hand win percentage: \n",
    "The per hand win range has been set between 25% and 65% for the participants. It has been said the best players only win 55% - 60% of the time but as BlackRain79 (2018) argue this range can be must larger but only the most successful got above 70% so it was limited at 65% for the purpose of this assignment. The range was subdivided in to a smaller range, middle range and higher range and then combined low to high so as to justify how those with lower chips should by logic have a lesser win rate. \n",
    "\n",
    "###### Total chip count -\n",
    "The participants ages will be generated in the range 18-75 considering the likelihood of ages of participants in a tournament.\n",
    "Each point gets 500 chips so these are generated from the points column by multiplying them plus a 1000 bonus chips for each participant in the final."
   ]
  },
  {
   "cell_type": "markdown",
   "metadata": {},
   "source": [
    "# 4. Dataset Generation \n",
    "### Using numpy.random package\n",
    "\n",
    "The dataset for the poker league phenomenon will be simulated under each of the variables listed above, and the code to do such will be listed below. The numpy.random and its respective programs all utlize what is known as a pseudorandom number generator to provide the random numbers which are returned. \"Pseudorandomness is a sample of numbers that look close to random, but were generated using a deterministic process\" (Brownlee, 2019) and the logic input to these generations stem from the assumptions above and numpy's random package is used because \"an important part of any simulation is the ability to generate random numbers\" (Phuong and Czygan, 2015, p.8). The primary numpy and numpy.random functions that will be used in this section are listed and briefly detailed below;\n",
    "\n",
    "* sort() - for sorting a list from low to high of an array.\n",
    "* append() - adding elements into a combined array.\n",
    "* arange() - provides a sorted array with inputs to define the arrangement.\n",
    "* randint() - returns an array of inputted shape with random integers in range (low, high). The elements can be inputted as (low, high, size, datatype).\n",
    "* random_integers() - returns random integers of type np.int in style (low, high, size) between low and high, inclusive. Except a high does not have to be defined and the low can be thus the high as shown.\n",
    "* choice() - Generates a random sample from a given 1-D array.\n",
    "* permutation() - Randomly permute or rearrange a sequence, or return a rearranged range.\n",
    "* random.seed() - sets the random seed in the pseudorandom number generator (PRNG) and provides an essential input required for the PRNG to return pseudo-random numbers.\n",
    "\n",
    "Next, each variables array, or data points, will be generated with 150 returns using a combination of these numpy random functions with short explanations supplementing the code;\n",
    "\n",
    "##### (i) Count"
   ]
  },
  {
   "cell_type": "code",
   "execution_count": 2,
   "metadata": {},
   "outputs": [],
   "source": [
    "# The count of players in the poker tournament using arange() which returns 1-150 as expected\n",
    "field = np.arange(1, 151)"
   ]
  },
  {
   "cell_type": "markdown",
   "metadata": {},
   "source": [
    "##### (ii) Gameweeks Played"
   ]
  },
  {
   "cell_type": "code",
   "execution_count": 3,
   "metadata": {},
   "outputs": [
    {
     "data": {
      "text/plain": [
       "array([ 6,  9,  6,  1,  1,  2,  8,  7,  3,  5,  6,  3,  5,  3,  5,  8,  8,\n",
       "        2,  8,  1,  7,  8,  7,  2,  1,  2,  9,  9,  4,  9,  8,  4,  7,  6,\n",
       "        2,  4,  5,  9,  2,  5,  1,  4,  3,  1,  5,  3,  8,  8,  9,  7, 16,\n",
       "       19, 16, 11, 11, 12, 18, 17, 13, 15, 16, 13, 15, 13, 15, 18, 18, 12,\n",
       "       18, 11, 17, 18, 17, 12, 11, 12, 19, 19, 14, 19, 18, 14, 17, 16, 12,\n",
       "       14, 15, 19, 12, 15, 11, 14, 13, 11, 15, 13, 18, 18, 19, 17, 26, 29,\n",
       "       26, 21, 21, 22, 28, 27, 23, 25, 26, 23, 25, 23, 25, 28, 28, 22, 28,\n",
       "       21, 27, 28, 27, 22, 21, 22, 29, 29, 24, 29, 28, 24, 27, 26, 22, 24,\n",
       "       25, 29, 22, 25, 21, 24, 23, 21, 25, 23, 28, 28, 29, 27])"
      ]
     },
     "execution_count": 3,
     "metadata": {},
     "output_type": "execute_result"
    }
   ],
   "source": [
    "#The creation of gameweeks played using random.randint() in three separate returns of size 50.\n",
    "#The 3 returns are in the ranges, 1-10, 11-20, 21-30 gameweeks.\n",
    "#The functions are seeded using random.seed() and joined using append().\n",
    "np.random.seed(1)\n",
    "gwp10 = np.random.randint(1, 10, 50)\n",
    "np.random.seed(1)\n",
    "gwp20 = np.random.randint(11, 20, 50)\n",
    "np.random.seed(1)\n",
    "gwp30 = np.random.randint(21, 30, 50)\n",
    "np.random.seed(1)\n",
    "#created ranges and joined to combine into a single array.\n",
    "partweek = np.append(gwp10, gwp20)\n",
    "totalgwp = np.append(partweek, gwp30)\n",
    "#Returning combined array of 150 random simulated gameweeks played.\n",
    "totalgwp"
   ]
  },
  {
   "cell_type": "markdown",
   "metadata": {},
   "source": [
    "###### (iii) Total Points"
   ]
  },
  {
   "cell_type": "code",
   "execution_count": 4,
   "metadata": {},
   "outputs": [
    {
     "data": {
      "text/plain": [
       "array([ 67, 137,  42, 102,  39, 105,  35, 109,  94,  46,  31, 106, 101,\n",
       "       139,  36,  55,  80,  50, 131,  48, 114,  41, 136,  58,  59,  44,\n",
       "        80,  98, 117, 117, 135, 143, 149, 124, 126, 116,  43, 135,  39,\n",
       "        37,  93,  91,  52,  87,  31,  30,  90, 111,  38, 118, 188, 291,\n",
       "       223, 288, 284, 230, 295, 280, 222, 285, 176, 171, 252, 297, 290,\n",
       "       293, 201, 219, 247, 237, 292, 288, 158, 214, 212, 173, 208, 152,\n",
       "       279, 211, 159, 292, 266, 272, 181, 222, 282, 200, 208, 154, 175,\n",
       "       194, 227, 177, 203, 231, 260, 266, 192, 166, 338, 536, 373, 556,\n",
       "       504, 434, 445, 430, 372, 538, 582, 479, 577, 555, 553, 457, 351,\n",
       "       369, 516, 542, 387, 442, 308, 323, 302, 510, 565, 517, 442, 416,\n",
       "       422, 331, 372, 350, 304, 581, 344, 377, 327, 410, 598, 316, 365,\n",
       "       497, 326, 527, 583, 454, 405, 323])"
      ]
     },
     "execution_count": 4,
     "metadata": {},
     "output_type": "execute_result"
    }
   ],
   "source": [
    "#The creation of total points using random.randint() in three separate returns of size 50.\n",
    "#The 3 returns are in the ranges, 30-150, 151-300, 301-600 gameweeks.\n",
    "#The lowest range of 30 was chosen to avoid the random generator providing points\n",
    "#which would not correspond to gameweeks played.\n",
    "# i.e. Player could have 10 gwp and only 1 point ---- does not compute with logic.\n",
    "#The functions are seeded using random.seed() and joined using append().\n",
    "np.random.seed(1)\n",
    "ptlow = np.random.randint(30, 150, 50)\n",
    "np.random.seed(1)\n",
    "ptmed = np.random.randint(151, 300, 50)\n",
    "np.random.seed(1)\n",
    "pthigh = np.random.randint(301, 600, 50)\n",
    "np.random.seed(1)\n",
    "#created ranges and joined to combine into a single array.\n",
    "ptpart = np.append(ptlow, ptmed)\n",
    "totalpts = np.append(ptpart, pthigh)\n",
    "#Returning combined array of 150 random simulated points gained.\n",
    "totalpts"
   ]
  },
  {
   "cell_type": "markdown",
   "metadata": {},
   "source": [
    "##### (iv) Level of Player"
   ]
  },
  {
   "cell_type": "code",
   "execution_count": 5,
   "metadata": {},
   "outputs": [
    {
     "data": {
      "text/plain": [
       "array(['intermediate', 'beginner', 'beginner', 'intermediate',\n",
       "       'intermediate', 'beginner', 'beginner', 'intermediate', 'beginner',\n",
       "       'intermediate', 'beginner', 'advanced', 'intermediate', 'advanced',\n",
       "       'beginner', 'advanced', 'intermediate', 'advanced', 'beginner',\n",
       "       'beginner', 'advanced', 'beginner', 'intermediate', 'advanced',\n",
       "       'advanced', 'beginner', 'intermediate', 'intermediate', 'advanced',\n",
       "       'beginner', 'advanced', 'intermediate', 'intermediate',\n",
       "       'intermediate', 'intermediate', 'advanced', 'intermediate',\n",
       "       'intermediate', 'beginner', 'beginner', 'intermediate', 'beginner',\n",
       "       'beginner', 'intermediate', 'advanced', 'intermediate', 'beginner',\n",
       "       'advanced', 'advanced', 'intermediate', 'intermediate',\n",
       "       'intermediate', 'beginner', 'beginner', 'intermediate', 'beginner',\n",
       "       'advanced', 'beginner', 'beginner', 'intermediate', 'intermediate',\n",
       "       'advanced', 'beginner', 'beginner', 'intermediate', 'advanced',\n",
       "       'advanced', 'intermediate', 'beginner', 'advanced', 'intermediate',\n",
       "       'advanced', 'intermediate', 'beginner', 'intermediate',\n",
       "       'intermediate', 'advanced', 'beginner', 'beginner', 'advanced',\n",
       "       'advanced', 'intermediate', 'beginner', 'advanced', 'advanced',\n",
       "       'advanced', 'beginner', 'beginner', 'intermediate', 'intermediate',\n",
       "       'intermediate', 'beginner', 'beginner', 'intermediate',\n",
       "       'intermediate', 'advanced', 'beginner', 'intermediate', 'advanced',\n",
       "       'advanced', 'beginner', 'intermediate', 'intermediate', 'beginner',\n",
       "       'beginner', 'beginner', 'advanced', 'beginner', 'intermediate',\n",
       "       'beginner', 'intermediate', 'beginner', 'beginner', 'advanced',\n",
       "       'beginner', 'intermediate', 'advanced', 'beginner', 'intermediate',\n",
       "       'intermediate', 'beginner', 'advanced', 'beginner', 'beginner',\n",
       "       'beginner', 'beginner', 'intermediate', 'advanced', 'beginner',\n",
       "       'intermediate', 'beginner', 'advanced', 'intermediate', 'advanced',\n",
       "       'beginner', 'beginner', 'advanced', 'advanced', 'advanced',\n",
       "       'beginner', 'intermediate', 'advanced', 'advanced', 'advanced',\n",
       "       'advanced', 'beginner', 'advanced', 'intermediate', 'intermediate',\n",
       "       'advanced'], dtype='<U12')"
      ]
     },
     "execution_count": 5,
     "metadata": {},
     "output_type": "execute_result"
    }
   ],
   "source": [
    "#The creation of level of player using random.choice() in size 50.\n",
    "#using random.seed to seed return.\n",
    "np.random.seed(1)\n",
    "# Defining the 3 groups.\n",
    "three_groups = ('beginner', 'intermediate', 'advanced')\n",
    "# Creating level array using random choice of groups with 150 returns.\n",
    "level = np.random.choice(three_groups, 150)\n",
    "level"
   ]
  },
  {
   "cell_type": "markdown",
   "metadata": {},
   "source": [
    "##### (v) Gender of Player"
   ]
  },
  {
   "cell_type": "code",
   "execution_count": 6,
   "metadata": {},
   "outputs": [
    {
     "data": {
      "text/plain": [
       "array(['male', 'male', 'male', 'male', 'male', 'male', 'female', 'male',\n",
       "       'male', 'male', 'male', 'male', 'male', 'male', 'male', 'male',\n",
       "       'male', 'male', 'male', 'male', 'male', 'male', 'male', 'male',\n",
       "       'male', 'male', 'male', 'male', 'male', 'female', 'male', 'female',\n",
       "       'male', 'male', 'male', 'male', 'male', 'male', 'male', 'male',\n",
       "       'male', 'male', 'male', 'male', 'male', 'male', 'male', 'male',\n",
       "       'male', 'male', 'male', 'male', 'male', 'female', 'male', 'male',\n",
       "       'male', 'male', 'male', 'male', 'male', 'male', 'male', 'male',\n",
       "       'male', 'male', 'male', 'male', 'male', 'male', 'male', 'female',\n",
       "       'female', 'male', 'male', 'male', 'male', 'male', 'male', 'male',\n",
       "       'male', 'male', 'male', 'male', 'male', 'male', 'male', 'female',\n",
       "       'male', 'male', 'male', 'male', 'male', 'male', 'male', 'female',\n",
       "       'male', 'female', 'male', 'male', 'male', 'male', 'male', 'male',\n",
       "       'male', 'male', 'male', 'male', 'male', 'female', 'male', 'female',\n",
       "       'male', 'male', 'male', 'male', 'female', 'male', 'female', 'male',\n",
       "       'male', 'male', 'male', 'male', 'male', 'male', 'male', 'male',\n",
       "       'male', 'male', 'male', 'male', 'male', 'male', 'male', 'male',\n",
       "       'male', 'male', 'male', 'male', 'male', 'male', 'male', 'male',\n",
       "       'male', 'male', 'female', 'male', 'female', 'male'], dtype='<U6')"
      ]
     },
     "execution_count": 6,
     "metadata": {},
     "output_type": "execute_result"
    }
   ],
   "source": [
    "# Creating 150 returns of gender for assignment to players.\n",
    "# Seeding the return.\n",
    "np.random.seed(1)\n",
    "# Creating small array of male and female strings for using random.choice() of strings.\n",
    "male = ('male', 'male')\n",
    "female = ('female', 'female')\n",
    "# 10% women calculation as per assumptions means 135 male and 15 female.\n",
    "# Using choice() to get split returns and append() to combine.\n",
    "sex = (np.append(np.random.choice(male, 135), np.random.choice(female, 15)))\n",
    "np.random.seed(1)\n",
    "# Using the random.permutation function to reshuffle the females into the combined array.\n",
    "gender = np.random.permutation(sex)\n",
    "gender"
   ]
  },
  {
   "cell_type": "markdown",
   "metadata": {},
   "source": [
    "##### (vi) Age of Player"
   ]
  },
  {
   "cell_type": "code",
   "execution_count": 7,
   "metadata": {},
   "outputs": [
    {
     "data": {
      "text/plain": [
       "array([55, 61, 30, 26, 27, 29, 23, 33, 18, 34, 19, 30, 25, 63, 24, 43, 68,\n",
       "       38, 55, 36, 38, 29, 60, 46, 47, 32, 68, 22, 41, 41, 59, 67, 73, 48,\n",
       "       50, 40, 31, 59, 27, 25, 40, 19, 18, 35, 26, 42, 31, 69, 65, 60, 26,\n",
       "       48, 25, 21, 24, 39, 67, 21, 22, 42, 67, 61, 30, 44, 70, 34, 63, 69,\n",
       "       59, 36, 33, 18, 22, 43, 65, 52, 41, 25, 44, 43, 58, 40, 27, 21, 57,\n",
       "       41, 54, 45, 55, 37, 56, 26, 50, 52, 28, 41, 33, 65, 41, 43, 25, 69,\n",
       "       46, 28, 64, 50, 42, 41, 73, 19, 67, 31, 21, 18, 74, 31, 24, 70, 39,\n",
       "       24, 20, 30, 45, 39, 29, 25, 31, 26, 29, 30, 61, 38, 48, 54, 57, 25,\n",
       "       63, 22, 66, 36, 50, 31, 28, 41, 35, 25, 42, 28, 46, 38])"
      ]
     },
     "execution_count": 7,
     "metadata": {},
     "output_type": "execute_result"
    }
   ],
   "source": [
    "# Randomly generating 150 ages of players between the assumed range 18-75.\n",
    "# Seeding the return.\n",
    "np.random.seed(1)\n",
    "# Using random.randint() using low 18 and high 75 with size 150.\n",
    "age = np.random.randint(18, 75, 150)\n",
    "age"
   ]
  },
  {
   "cell_type": "markdown",
   "metadata": {},
   "source": [
    "##### (vii) Percentage of Hands Won"
   ]
  },
  {
   "cell_type": "code",
   "execution_count": 8,
   "metadata": {},
   "outputs": [
    {
     "data": {
      "text/plain": [
       "array([30, 36, 37, 33, 34, 36, 30, 40, 25, 41, 26, 37, 32, 38, 53, 31, 50,\n",
       "       43, 45, 30, 43, 45, 36, 53, 35, 53, 54, 39, 43, 29, 48, 48, 34, 42,\n",
       "       48, 25, 47, 38, 34, 34, 32, 54, 47, 50, 26, 25, 53, 42, 33, 49, 48,\n",
       "       54, 50, 45, 43, 42, 38, 41, 56, 52, 38, 39, 59, 52, 46, 47, 55, 51,\n",
       "       48, 54, 44, 53, 50, 35, 39, 50, 37, 58, 42, 43, 57, 44, 38, 42, 58,\n",
       "       39, 40, 54, 41, 43, 35, 37, 45, 58, 50, 50, 58, 42, 54, 45, 59, 45,\n",
       "       46, 62, 58, 48, 45, 58, 51, 51, 47, 57, 56, 52, 58, 53, 56, 57, 56,\n",
       "       49, 52, 52, 58, 49, 61, 63, 45, 58, 55, 62, 52, 55, 45, 57, 46, 54,\n",
       "       63, 64, 46, 47, 57, 52, 47, 55, 45, 54, 63, 51, 47, 52])"
      ]
     },
     "execution_count": 8,
     "metadata": {},
     "output_type": "execute_result"
    }
   ],
   "source": [
    "#The creation of hands won percentage using random.randint() in three separate returns of size 50.\n",
    "#The 3 returns are in the ranges, 25-55, 35-60, 45-65 - representing percentage ranges.\n",
    "#The size of 150 was split into 3 to reflect that those with the highest points\n",
    "#are more likely to have a higher win percentage than those with less points.\n",
    "#Seeding the return.\n",
    "np.random.seed(1)\n",
    "# Using random.randint() for each of the 3 ranges with different lows, highs and same size of 50.\n",
    "smallwin = np.random.randint(low= 25, high=55, size = 50)\n",
    "midwin = np.random.randint(low= 35, high=60, size = 50)\n",
    "highwin = np.random.randint(low = 45, high =65, size =50)\n",
    "#created ranges and joined to combine into a single array.\n",
    "allwin = np.append(smallwin, midwin)\n",
    "handswon = np.append(allwin, highwin)\n",
    "# Returning combined array of 150 returns showing hand win percentage figures.\n",
    "handswon"
   ]
  },
  {
   "cell_type": "markdown",
   "metadata": {},
   "source": [
    "##### (viii) Total Chip Counts"
   ]
  },
  {
   "cell_type": "code",
   "execution_count": 9,
   "metadata": {},
   "outputs": [
    {
     "data": {
      "text/plain": [
       "array([ 34500,  69500,  22000,  52000,  20500,  53500,  18500,  55500,\n",
       "        48000,  24000,  16500,  54000,  51500,  70500,  19000,  28500,\n",
       "        41000,  26000,  66500,  25000,  58000,  21500,  69000,  30000,\n",
       "        30500,  23000,  41000,  50000,  59500,  59500,  68500,  72500,\n",
       "        75500,  63000,  64000,  59000,  22500,  68500,  20500,  19500,\n",
       "        47500,  46500,  27000,  44500,  16500,  16000,  46000,  56500,\n",
       "        20000,  60000,  95000, 146500, 112500, 145000, 143000, 116000,\n",
       "       148500, 141000, 112000, 143500,  89000,  86500, 127000, 149500,\n",
       "       146000, 147500, 101500, 110500, 124500, 119500, 147000, 145000,\n",
       "        80000, 108000, 107000,  87500, 105000,  77000, 140500, 106500,\n",
       "        80500, 147000, 134000, 137000,  91500, 112000, 142000, 101000,\n",
       "       105000,  78000,  88500,  98000, 114500,  89500, 102500, 116500,\n",
       "       131000, 134000,  97000,  84000, 170000, 269000, 187500, 279000,\n",
       "       253000, 218000, 223500, 216000, 187000, 270000, 292000, 240500,\n",
       "       289500, 278500, 277500, 229500, 176500, 185500, 259000, 272000,\n",
       "       194500, 222000, 155000, 162500, 152000, 256000, 283500, 259500,\n",
       "       222000, 209000, 212000, 166500, 187000, 176000, 153000, 291500,\n",
       "       173000, 189500, 164500, 206000, 300000, 159000, 183500, 249500,\n",
       "       164000, 264500, 292500, 228000, 203500, 162500])"
      ]
     },
     "execution_count": 9,
     "metadata": {},
     "output_type": "execute_result"
    }
   ],
   "source": [
    "#Calculating total chip counts from the total points column for 150 players.\n",
    "#Each point generates 500 value chip so this is multiplied by the totalpts column.\n",
    "#There is a bonus 1000 for each participant of the tournament which is then added.\n",
    "#Seeding the return\n",
    "np.random.seed(1)\n",
    "#Defining chips 500(Chip) x point + 1000(Bonus)\n",
    "chips = 500 * totalpts + 1000\n",
    "chips"
   ]
  },
  {
   "cell_type": "markdown",
   "metadata": {},
   "source": [
    "### Creating the Dataset using Pandas Dataframe Function\n",
    "\n",
    "Now that the arrays are generated using Numpy they shall now be combined into one single dataset output using the imported pandas package. Each array called above had a defined title and the following python programs inputted show the importing into a pandas Dataframe. Dataframe offers two dimensional labelled data structures with columns which can accept different data types.\n",
    "As Willems (2019) states pandas \"offers powerful, expressive and flexible data structures that make data manipulation and analysis easy\" and \"the DataFrame is one of these structures\"."
   ]
  },
  {
   "cell_type": "code",
   "execution_count": 10,
   "metadata": {},
   "outputs": [
    {
     "data": {
      "text/html": [
       "<style  type=\"text/css\" >\n",
       "</style><table id=\"T_85adeb38_1fd0_11ea_969f_482ae3057161\" ><thead>    <tr>        <th class=\"col_heading level0 col0\" >count</th>        <th class=\"col_heading level0 col1\" >chips</th>        <th class=\"col_heading level0 col2\" >gwp</th>        <th class=\"col_heading level0 col3\" >totalpts</th>        <th class=\"col_heading level0 col4\" >gender</th>        <th class=\"col_heading level0 col5\" >age</th>        <th class=\"col_heading level0 col6\" >level</th>        <th class=\"col_heading level0 col7\" >handswon%</th>    </tr></thead><tbody>\n",
       "                <tr>\n",
       "                                <td id=\"T_85adeb38_1fd0_11ea_969f_482ae3057161row0_col0\" class=\"data row0 col0\" >1</td>\n",
       "                        <td id=\"T_85adeb38_1fd0_11ea_969f_482ae3057161row0_col1\" class=\"data row0 col1\" >34500</td>\n",
       "                        <td id=\"T_85adeb38_1fd0_11ea_969f_482ae3057161row0_col2\" class=\"data row0 col2\" >6</td>\n",
       "                        <td id=\"T_85adeb38_1fd0_11ea_969f_482ae3057161row0_col3\" class=\"data row0 col3\" >67</td>\n",
       "                        <td id=\"T_85adeb38_1fd0_11ea_969f_482ae3057161row0_col4\" class=\"data row0 col4\" >male</td>\n",
       "                        <td id=\"T_85adeb38_1fd0_11ea_969f_482ae3057161row0_col5\" class=\"data row0 col5\" >55</td>\n",
       "                        <td id=\"T_85adeb38_1fd0_11ea_969f_482ae3057161row0_col6\" class=\"data row0 col6\" >intermediate</td>\n",
       "                        <td id=\"T_85adeb38_1fd0_11ea_969f_482ae3057161row0_col7\" class=\"data row0 col7\" >30</td>\n",
       "            </tr>\n",
       "            <tr>\n",
       "                                <td id=\"T_85adeb38_1fd0_11ea_969f_482ae3057161row1_col0\" class=\"data row1 col0\" >2</td>\n",
       "                        <td id=\"T_85adeb38_1fd0_11ea_969f_482ae3057161row1_col1\" class=\"data row1 col1\" >69500</td>\n",
       "                        <td id=\"T_85adeb38_1fd0_11ea_969f_482ae3057161row1_col2\" class=\"data row1 col2\" >9</td>\n",
       "                        <td id=\"T_85adeb38_1fd0_11ea_969f_482ae3057161row1_col3\" class=\"data row1 col3\" >137</td>\n",
       "                        <td id=\"T_85adeb38_1fd0_11ea_969f_482ae3057161row1_col4\" class=\"data row1 col4\" >male</td>\n",
       "                        <td id=\"T_85adeb38_1fd0_11ea_969f_482ae3057161row1_col5\" class=\"data row1 col5\" >61</td>\n",
       "                        <td id=\"T_85adeb38_1fd0_11ea_969f_482ae3057161row1_col6\" class=\"data row1 col6\" >beginner</td>\n",
       "                        <td id=\"T_85adeb38_1fd0_11ea_969f_482ae3057161row1_col7\" class=\"data row1 col7\" >36</td>\n",
       "            </tr>\n",
       "            <tr>\n",
       "                                <td id=\"T_85adeb38_1fd0_11ea_969f_482ae3057161row2_col0\" class=\"data row2 col0\" >3</td>\n",
       "                        <td id=\"T_85adeb38_1fd0_11ea_969f_482ae3057161row2_col1\" class=\"data row2 col1\" >22000</td>\n",
       "                        <td id=\"T_85adeb38_1fd0_11ea_969f_482ae3057161row2_col2\" class=\"data row2 col2\" >6</td>\n",
       "                        <td id=\"T_85adeb38_1fd0_11ea_969f_482ae3057161row2_col3\" class=\"data row2 col3\" >42</td>\n",
       "                        <td id=\"T_85adeb38_1fd0_11ea_969f_482ae3057161row2_col4\" class=\"data row2 col4\" >male</td>\n",
       "                        <td id=\"T_85adeb38_1fd0_11ea_969f_482ae3057161row2_col5\" class=\"data row2 col5\" >30</td>\n",
       "                        <td id=\"T_85adeb38_1fd0_11ea_969f_482ae3057161row2_col6\" class=\"data row2 col6\" >beginner</td>\n",
       "                        <td id=\"T_85adeb38_1fd0_11ea_969f_482ae3057161row2_col7\" class=\"data row2 col7\" >37</td>\n",
       "            </tr>\n",
       "            <tr>\n",
       "                                <td id=\"T_85adeb38_1fd0_11ea_969f_482ae3057161row3_col0\" class=\"data row3 col0\" >4</td>\n",
       "                        <td id=\"T_85adeb38_1fd0_11ea_969f_482ae3057161row3_col1\" class=\"data row3 col1\" >52000</td>\n",
       "                        <td id=\"T_85adeb38_1fd0_11ea_969f_482ae3057161row3_col2\" class=\"data row3 col2\" >1</td>\n",
       "                        <td id=\"T_85adeb38_1fd0_11ea_969f_482ae3057161row3_col3\" class=\"data row3 col3\" >102</td>\n",
       "                        <td id=\"T_85adeb38_1fd0_11ea_969f_482ae3057161row3_col4\" class=\"data row3 col4\" >male</td>\n",
       "                        <td id=\"T_85adeb38_1fd0_11ea_969f_482ae3057161row3_col5\" class=\"data row3 col5\" >26</td>\n",
       "                        <td id=\"T_85adeb38_1fd0_11ea_969f_482ae3057161row3_col6\" class=\"data row3 col6\" >intermediate</td>\n",
       "                        <td id=\"T_85adeb38_1fd0_11ea_969f_482ae3057161row3_col7\" class=\"data row3 col7\" >33</td>\n",
       "            </tr>\n",
       "            <tr>\n",
       "                                <td id=\"T_85adeb38_1fd0_11ea_969f_482ae3057161row4_col0\" class=\"data row4 col0\" >5</td>\n",
       "                        <td id=\"T_85adeb38_1fd0_11ea_969f_482ae3057161row4_col1\" class=\"data row4 col1\" >20500</td>\n",
       "                        <td id=\"T_85adeb38_1fd0_11ea_969f_482ae3057161row4_col2\" class=\"data row4 col2\" >1</td>\n",
       "                        <td id=\"T_85adeb38_1fd0_11ea_969f_482ae3057161row4_col3\" class=\"data row4 col3\" >39</td>\n",
       "                        <td id=\"T_85adeb38_1fd0_11ea_969f_482ae3057161row4_col4\" class=\"data row4 col4\" >male</td>\n",
       "                        <td id=\"T_85adeb38_1fd0_11ea_969f_482ae3057161row4_col5\" class=\"data row4 col5\" >27</td>\n",
       "                        <td id=\"T_85adeb38_1fd0_11ea_969f_482ae3057161row4_col6\" class=\"data row4 col6\" >intermediate</td>\n",
       "                        <td id=\"T_85adeb38_1fd0_11ea_969f_482ae3057161row4_col7\" class=\"data row4 col7\" >34</td>\n",
       "            </tr>\n",
       "            <tr>\n",
       "                                <td id=\"T_85adeb38_1fd0_11ea_969f_482ae3057161row5_col0\" class=\"data row5 col0\" >6</td>\n",
       "                        <td id=\"T_85adeb38_1fd0_11ea_969f_482ae3057161row5_col1\" class=\"data row5 col1\" >53500</td>\n",
       "                        <td id=\"T_85adeb38_1fd0_11ea_969f_482ae3057161row5_col2\" class=\"data row5 col2\" >2</td>\n",
       "                        <td id=\"T_85adeb38_1fd0_11ea_969f_482ae3057161row5_col3\" class=\"data row5 col3\" >105</td>\n",
       "                        <td id=\"T_85adeb38_1fd0_11ea_969f_482ae3057161row5_col4\" class=\"data row5 col4\" >male</td>\n",
       "                        <td id=\"T_85adeb38_1fd0_11ea_969f_482ae3057161row5_col5\" class=\"data row5 col5\" >29</td>\n",
       "                        <td id=\"T_85adeb38_1fd0_11ea_969f_482ae3057161row5_col6\" class=\"data row5 col6\" >beginner</td>\n",
       "                        <td id=\"T_85adeb38_1fd0_11ea_969f_482ae3057161row5_col7\" class=\"data row5 col7\" >36</td>\n",
       "            </tr>\n",
       "            <tr>\n",
       "                                <td id=\"T_85adeb38_1fd0_11ea_969f_482ae3057161row6_col0\" class=\"data row6 col0\" >7</td>\n",
       "                        <td id=\"T_85adeb38_1fd0_11ea_969f_482ae3057161row6_col1\" class=\"data row6 col1\" >18500</td>\n",
       "                        <td id=\"T_85adeb38_1fd0_11ea_969f_482ae3057161row6_col2\" class=\"data row6 col2\" >8</td>\n",
       "                        <td id=\"T_85adeb38_1fd0_11ea_969f_482ae3057161row6_col3\" class=\"data row6 col3\" >35</td>\n",
       "                        <td id=\"T_85adeb38_1fd0_11ea_969f_482ae3057161row6_col4\" class=\"data row6 col4\" >female</td>\n",
       "                        <td id=\"T_85adeb38_1fd0_11ea_969f_482ae3057161row6_col5\" class=\"data row6 col5\" >23</td>\n",
       "                        <td id=\"T_85adeb38_1fd0_11ea_969f_482ae3057161row6_col6\" class=\"data row6 col6\" >beginner</td>\n",
       "                        <td id=\"T_85adeb38_1fd0_11ea_969f_482ae3057161row6_col7\" class=\"data row6 col7\" >30</td>\n",
       "            </tr>\n",
       "            <tr>\n",
       "                                <td id=\"T_85adeb38_1fd0_11ea_969f_482ae3057161row7_col0\" class=\"data row7 col0\" >8</td>\n",
       "                        <td id=\"T_85adeb38_1fd0_11ea_969f_482ae3057161row7_col1\" class=\"data row7 col1\" >55500</td>\n",
       "                        <td id=\"T_85adeb38_1fd0_11ea_969f_482ae3057161row7_col2\" class=\"data row7 col2\" >7</td>\n",
       "                        <td id=\"T_85adeb38_1fd0_11ea_969f_482ae3057161row7_col3\" class=\"data row7 col3\" >109</td>\n",
       "                        <td id=\"T_85adeb38_1fd0_11ea_969f_482ae3057161row7_col4\" class=\"data row7 col4\" >male</td>\n",
       "                        <td id=\"T_85adeb38_1fd0_11ea_969f_482ae3057161row7_col5\" class=\"data row7 col5\" >33</td>\n",
       "                        <td id=\"T_85adeb38_1fd0_11ea_969f_482ae3057161row7_col6\" class=\"data row7 col6\" >intermediate</td>\n",
       "                        <td id=\"T_85adeb38_1fd0_11ea_969f_482ae3057161row7_col7\" class=\"data row7 col7\" >40</td>\n",
       "            </tr>\n",
       "            <tr>\n",
       "                                <td id=\"T_85adeb38_1fd0_11ea_969f_482ae3057161row8_col0\" class=\"data row8 col0\" >9</td>\n",
       "                        <td id=\"T_85adeb38_1fd0_11ea_969f_482ae3057161row8_col1\" class=\"data row8 col1\" >48000</td>\n",
       "                        <td id=\"T_85adeb38_1fd0_11ea_969f_482ae3057161row8_col2\" class=\"data row8 col2\" >3</td>\n",
       "                        <td id=\"T_85adeb38_1fd0_11ea_969f_482ae3057161row8_col3\" class=\"data row8 col3\" >94</td>\n",
       "                        <td id=\"T_85adeb38_1fd0_11ea_969f_482ae3057161row8_col4\" class=\"data row8 col4\" >male</td>\n",
       "                        <td id=\"T_85adeb38_1fd0_11ea_969f_482ae3057161row8_col5\" class=\"data row8 col5\" >18</td>\n",
       "                        <td id=\"T_85adeb38_1fd0_11ea_969f_482ae3057161row8_col6\" class=\"data row8 col6\" >beginner</td>\n",
       "                        <td id=\"T_85adeb38_1fd0_11ea_969f_482ae3057161row8_col7\" class=\"data row8 col7\" >25</td>\n",
       "            </tr>\n",
       "            <tr>\n",
       "                                <td id=\"T_85adeb38_1fd0_11ea_969f_482ae3057161row9_col0\" class=\"data row9 col0\" >10</td>\n",
       "                        <td id=\"T_85adeb38_1fd0_11ea_969f_482ae3057161row9_col1\" class=\"data row9 col1\" >24000</td>\n",
       "                        <td id=\"T_85adeb38_1fd0_11ea_969f_482ae3057161row9_col2\" class=\"data row9 col2\" >5</td>\n",
       "                        <td id=\"T_85adeb38_1fd0_11ea_969f_482ae3057161row9_col3\" class=\"data row9 col3\" >46</td>\n",
       "                        <td id=\"T_85adeb38_1fd0_11ea_969f_482ae3057161row9_col4\" class=\"data row9 col4\" >male</td>\n",
       "                        <td id=\"T_85adeb38_1fd0_11ea_969f_482ae3057161row9_col5\" class=\"data row9 col5\" >34</td>\n",
       "                        <td id=\"T_85adeb38_1fd0_11ea_969f_482ae3057161row9_col6\" class=\"data row9 col6\" >intermediate</td>\n",
       "                        <td id=\"T_85adeb38_1fd0_11ea_969f_482ae3057161row9_col7\" class=\"data row9 col7\" >41</td>\n",
       "            </tr>\n",
       "            <tr>\n",
       "                                <td id=\"T_85adeb38_1fd0_11ea_969f_482ae3057161row10_col0\" class=\"data row10 col0\" >11</td>\n",
       "                        <td id=\"T_85adeb38_1fd0_11ea_969f_482ae3057161row10_col1\" class=\"data row10 col1\" >16500</td>\n",
       "                        <td id=\"T_85adeb38_1fd0_11ea_969f_482ae3057161row10_col2\" class=\"data row10 col2\" >6</td>\n",
       "                        <td id=\"T_85adeb38_1fd0_11ea_969f_482ae3057161row10_col3\" class=\"data row10 col3\" >31</td>\n",
       "                        <td id=\"T_85adeb38_1fd0_11ea_969f_482ae3057161row10_col4\" class=\"data row10 col4\" >male</td>\n",
       "                        <td id=\"T_85adeb38_1fd0_11ea_969f_482ae3057161row10_col5\" class=\"data row10 col5\" >19</td>\n",
       "                        <td id=\"T_85adeb38_1fd0_11ea_969f_482ae3057161row10_col6\" class=\"data row10 col6\" >beginner</td>\n",
       "                        <td id=\"T_85adeb38_1fd0_11ea_969f_482ae3057161row10_col7\" class=\"data row10 col7\" >26</td>\n",
       "            </tr>\n",
       "            <tr>\n",
       "                                <td id=\"T_85adeb38_1fd0_11ea_969f_482ae3057161row11_col0\" class=\"data row11 col0\" >12</td>\n",
       "                        <td id=\"T_85adeb38_1fd0_11ea_969f_482ae3057161row11_col1\" class=\"data row11 col1\" >54000</td>\n",
       "                        <td id=\"T_85adeb38_1fd0_11ea_969f_482ae3057161row11_col2\" class=\"data row11 col2\" >3</td>\n",
       "                        <td id=\"T_85adeb38_1fd0_11ea_969f_482ae3057161row11_col3\" class=\"data row11 col3\" >106</td>\n",
       "                        <td id=\"T_85adeb38_1fd0_11ea_969f_482ae3057161row11_col4\" class=\"data row11 col4\" >male</td>\n",
       "                        <td id=\"T_85adeb38_1fd0_11ea_969f_482ae3057161row11_col5\" class=\"data row11 col5\" >30</td>\n",
       "                        <td id=\"T_85adeb38_1fd0_11ea_969f_482ae3057161row11_col6\" class=\"data row11 col6\" >advanced</td>\n",
       "                        <td id=\"T_85adeb38_1fd0_11ea_969f_482ae3057161row11_col7\" class=\"data row11 col7\" >37</td>\n",
       "            </tr>\n",
       "            <tr>\n",
       "                                <td id=\"T_85adeb38_1fd0_11ea_969f_482ae3057161row12_col0\" class=\"data row12 col0\" >13</td>\n",
       "                        <td id=\"T_85adeb38_1fd0_11ea_969f_482ae3057161row12_col1\" class=\"data row12 col1\" >51500</td>\n",
       "                        <td id=\"T_85adeb38_1fd0_11ea_969f_482ae3057161row12_col2\" class=\"data row12 col2\" >5</td>\n",
       "                        <td id=\"T_85adeb38_1fd0_11ea_969f_482ae3057161row12_col3\" class=\"data row12 col3\" >101</td>\n",
       "                        <td id=\"T_85adeb38_1fd0_11ea_969f_482ae3057161row12_col4\" class=\"data row12 col4\" >male</td>\n",
       "                        <td id=\"T_85adeb38_1fd0_11ea_969f_482ae3057161row12_col5\" class=\"data row12 col5\" >25</td>\n",
       "                        <td id=\"T_85adeb38_1fd0_11ea_969f_482ae3057161row12_col6\" class=\"data row12 col6\" >intermediate</td>\n",
       "                        <td id=\"T_85adeb38_1fd0_11ea_969f_482ae3057161row12_col7\" class=\"data row12 col7\" >32</td>\n",
       "            </tr>\n",
       "            <tr>\n",
       "                                <td id=\"T_85adeb38_1fd0_11ea_969f_482ae3057161row13_col0\" class=\"data row13 col0\" >14</td>\n",
       "                        <td id=\"T_85adeb38_1fd0_11ea_969f_482ae3057161row13_col1\" class=\"data row13 col1\" >70500</td>\n",
       "                        <td id=\"T_85adeb38_1fd0_11ea_969f_482ae3057161row13_col2\" class=\"data row13 col2\" >3</td>\n",
       "                        <td id=\"T_85adeb38_1fd0_11ea_969f_482ae3057161row13_col3\" class=\"data row13 col3\" >139</td>\n",
       "                        <td id=\"T_85adeb38_1fd0_11ea_969f_482ae3057161row13_col4\" class=\"data row13 col4\" >male</td>\n",
       "                        <td id=\"T_85adeb38_1fd0_11ea_969f_482ae3057161row13_col5\" class=\"data row13 col5\" >63</td>\n",
       "                        <td id=\"T_85adeb38_1fd0_11ea_969f_482ae3057161row13_col6\" class=\"data row13 col6\" >advanced</td>\n",
       "                        <td id=\"T_85adeb38_1fd0_11ea_969f_482ae3057161row13_col7\" class=\"data row13 col7\" >38</td>\n",
       "            </tr>\n",
       "            <tr>\n",
       "                                <td id=\"T_85adeb38_1fd0_11ea_969f_482ae3057161row14_col0\" class=\"data row14 col0\" >15</td>\n",
       "                        <td id=\"T_85adeb38_1fd0_11ea_969f_482ae3057161row14_col1\" class=\"data row14 col1\" >19000</td>\n",
       "                        <td id=\"T_85adeb38_1fd0_11ea_969f_482ae3057161row14_col2\" class=\"data row14 col2\" >5</td>\n",
       "                        <td id=\"T_85adeb38_1fd0_11ea_969f_482ae3057161row14_col3\" class=\"data row14 col3\" >36</td>\n",
       "                        <td id=\"T_85adeb38_1fd0_11ea_969f_482ae3057161row14_col4\" class=\"data row14 col4\" >male</td>\n",
       "                        <td id=\"T_85adeb38_1fd0_11ea_969f_482ae3057161row14_col5\" class=\"data row14 col5\" >24</td>\n",
       "                        <td id=\"T_85adeb38_1fd0_11ea_969f_482ae3057161row14_col6\" class=\"data row14 col6\" >beginner</td>\n",
       "                        <td id=\"T_85adeb38_1fd0_11ea_969f_482ae3057161row14_col7\" class=\"data row14 col7\" >53</td>\n",
       "            </tr>\n",
       "            <tr>\n",
       "                                <td id=\"T_85adeb38_1fd0_11ea_969f_482ae3057161row15_col0\" class=\"data row15 col0\" >16</td>\n",
       "                        <td id=\"T_85adeb38_1fd0_11ea_969f_482ae3057161row15_col1\" class=\"data row15 col1\" >28500</td>\n",
       "                        <td id=\"T_85adeb38_1fd0_11ea_969f_482ae3057161row15_col2\" class=\"data row15 col2\" >8</td>\n",
       "                        <td id=\"T_85adeb38_1fd0_11ea_969f_482ae3057161row15_col3\" class=\"data row15 col3\" >55</td>\n",
       "                        <td id=\"T_85adeb38_1fd0_11ea_969f_482ae3057161row15_col4\" class=\"data row15 col4\" >male</td>\n",
       "                        <td id=\"T_85adeb38_1fd0_11ea_969f_482ae3057161row15_col5\" class=\"data row15 col5\" >43</td>\n",
       "                        <td id=\"T_85adeb38_1fd0_11ea_969f_482ae3057161row15_col6\" class=\"data row15 col6\" >advanced</td>\n",
       "                        <td id=\"T_85adeb38_1fd0_11ea_969f_482ae3057161row15_col7\" class=\"data row15 col7\" >31</td>\n",
       "            </tr>\n",
       "            <tr>\n",
       "                                <td id=\"T_85adeb38_1fd0_11ea_969f_482ae3057161row16_col0\" class=\"data row16 col0\" >17</td>\n",
       "                        <td id=\"T_85adeb38_1fd0_11ea_969f_482ae3057161row16_col1\" class=\"data row16 col1\" >41000</td>\n",
       "                        <td id=\"T_85adeb38_1fd0_11ea_969f_482ae3057161row16_col2\" class=\"data row16 col2\" >8</td>\n",
       "                        <td id=\"T_85adeb38_1fd0_11ea_969f_482ae3057161row16_col3\" class=\"data row16 col3\" >80</td>\n",
       "                        <td id=\"T_85adeb38_1fd0_11ea_969f_482ae3057161row16_col4\" class=\"data row16 col4\" >male</td>\n",
       "                        <td id=\"T_85adeb38_1fd0_11ea_969f_482ae3057161row16_col5\" class=\"data row16 col5\" >68</td>\n",
       "                        <td id=\"T_85adeb38_1fd0_11ea_969f_482ae3057161row16_col6\" class=\"data row16 col6\" >intermediate</td>\n",
       "                        <td id=\"T_85adeb38_1fd0_11ea_969f_482ae3057161row16_col7\" class=\"data row16 col7\" >50</td>\n",
       "            </tr>\n",
       "            <tr>\n",
       "                                <td id=\"T_85adeb38_1fd0_11ea_969f_482ae3057161row17_col0\" class=\"data row17 col0\" >18</td>\n",
       "                        <td id=\"T_85adeb38_1fd0_11ea_969f_482ae3057161row17_col1\" class=\"data row17 col1\" >26000</td>\n",
       "                        <td id=\"T_85adeb38_1fd0_11ea_969f_482ae3057161row17_col2\" class=\"data row17 col2\" >2</td>\n",
       "                        <td id=\"T_85adeb38_1fd0_11ea_969f_482ae3057161row17_col3\" class=\"data row17 col3\" >50</td>\n",
       "                        <td id=\"T_85adeb38_1fd0_11ea_969f_482ae3057161row17_col4\" class=\"data row17 col4\" >male</td>\n",
       "                        <td id=\"T_85adeb38_1fd0_11ea_969f_482ae3057161row17_col5\" class=\"data row17 col5\" >38</td>\n",
       "                        <td id=\"T_85adeb38_1fd0_11ea_969f_482ae3057161row17_col6\" class=\"data row17 col6\" >advanced</td>\n",
       "                        <td id=\"T_85adeb38_1fd0_11ea_969f_482ae3057161row17_col7\" class=\"data row17 col7\" >43</td>\n",
       "            </tr>\n",
       "            <tr>\n",
       "                                <td id=\"T_85adeb38_1fd0_11ea_969f_482ae3057161row18_col0\" class=\"data row18 col0\" >19</td>\n",
       "                        <td id=\"T_85adeb38_1fd0_11ea_969f_482ae3057161row18_col1\" class=\"data row18 col1\" >66500</td>\n",
       "                        <td id=\"T_85adeb38_1fd0_11ea_969f_482ae3057161row18_col2\" class=\"data row18 col2\" >8</td>\n",
       "                        <td id=\"T_85adeb38_1fd0_11ea_969f_482ae3057161row18_col3\" class=\"data row18 col3\" >131</td>\n",
       "                        <td id=\"T_85adeb38_1fd0_11ea_969f_482ae3057161row18_col4\" class=\"data row18 col4\" >male</td>\n",
       "                        <td id=\"T_85adeb38_1fd0_11ea_969f_482ae3057161row18_col5\" class=\"data row18 col5\" >55</td>\n",
       "                        <td id=\"T_85adeb38_1fd0_11ea_969f_482ae3057161row18_col6\" class=\"data row18 col6\" >beginner</td>\n",
       "                        <td id=\"T_85adeb38_1fd0_11ea_969f_482ae3057161row18_col7\" class=\"data row18 col7\" >45</td>\n",
       "            </tr>\n",
       "            <tr>\n",
       "                                <td id=\"T_85adeb38_1fd0_11ea_969f_482ae3057161row19_col0\" class=\"data row19 col0\" >20</td>\n",
       "                        <td id=\"T_85adeb38_1fd0_11ea_969f_482ae3057161row19_col1\" class=\"data row19 col1\" >25000</td>\n",
       "                        <td id=\"T_85adeb38_1fd0_11ea_969f_482ae3057161row19_col2\" class=\"data row19 col2\" >1</td>\n",
       "                        <td id=\"T_85adeb38_1fd0_11ea_969f_482ae3057161row19_col3\" class=\"data row19 col3\" >48</td>\n",
       "                        <td id=\"T_85adeb38_1fd0_11ea_969f_482ae3057161row19_col4\" class=\"data row19 col4\" >male</td>\n",
       "                        <td id=\"T_85adeb38_1fd0_11ea_969f_482ae3057161row19_col5\" class=\"data row19 col5\" >36</td>\n",
       "                        <td id=\"T_85adeb38_1fd0_11ea_969f_482ae3057161row19_col6\" class=\"data row19 col6\" >beginner</td>\n",
       "                        <td id=\"T_85adeb38_1fd0_11ea_969f_482ae3057161row19_col7\" class=\"data row19 col7\" >30</td>\n",
       "            </tr>\n",
       "            <tr>\n",
       "                                <td id=\"T_85adeb38_1fd0_11ea_969f_482ae3057161row20_col0\" class=\"data row20 col0\" >21</td>\n",
       "                        <td id=\"T_85adeb38_1fd0_11ea_969f_482ae3057161row20_col1\" class=\"data row20 col1\" >58000</td>\n",
       "                        <td id=\"T_85adeb38_1fd0_11ea_969f_482ae3057161row20_col2\" class=\"data row20 col2\" >7</td>\n",
       "                        <td id=\"T_85adeb38_1fd0_11ea_969f_482ae3057161row20_col3\" class=\"data row20 col3\" >114</td>\n",
       "                        <td id=\"T_85adeb38_1fd0_11ea_969f_482ae3057161row20_col4\" class=\"data row20 col4\" >male</td>\n",
       "                        <td id=\"T_85adeb38_1fd0_11ea_969f_482ae3057161row20_col5\" class=\"data row20 col5\" >38</td>\n",
       "                        <td id=\"T_85adeb38_1fd0_11ea_969f_482ae3057161row20_col6\" class=\"data row20 col6\" >advanced</td>\n",
       "                        <td id=\"T_85adeb38_1fd0_11ea_969f_482ae3057161row20_col7\" class=\"data row20 col7\" >43</td>\n",
       "            </tr>\n",
       "            <tr>\n",
       "                                <td id=\"T_85adeb38_1fd0_11ea_969f_482ae3057161row21_col0\" class=\"data row21 col0\" >22</td>\n",
       "                        <td id=\"T_85adeb38_1fd0_11ea_969f_482ae3057161row21_col1\" class=\"data row21 col1\" >21500</td>\n",
       "                        <td id=\"T_85adeb38_1fd0_11ea_969f_482ae3057161row21_col2\" class=\"data row21 col2\" >8</td>\n",
       "                        <td id=\"T_85adeb38_1fd0_11ea_969f_482ae3057161row21_col3\" class=\"data row21 col3\" >41</td>\n",
       "                        <td id=\"T_85adeb38_1fd0_11ea_969f_482ae3057161row21_col4\" class=\"data row21 col4\" >male</td>\n",
       "                        <td id=\"T_85adeb38_1fd0_11ea_969f_482ae3057161row21_col5\" class=\"data row21 col5\" >29</td>\n",
       "                        <td id=\"T_85adeb38_1fd0_11ea_969f_482ae3057161row21_col6\" class=\"data row21 col6\" >beginner</td>\n",
       "                        <td id=\"T_85adeb38_1fd0_11ea_969f_482ae3057161row21_col7\" class=\"data row21 col7\" >45</td>\n",
       "            </tr>\n",
       "            <tr>\n",
       "                                <td id=\"T_85adeb38_1fd0_11ea_969f_482ae3057161row22_col0\" class=\"data row22 col0\" >23</td>\n",
       "                        <td id=\"T_85adeb38_1fd0_11ea_969f_482ae3057161row22_col1\" class=\"data row22 col1\" >69000</td>\n",
       "                        <td id=\"T_85adeb38_1fd0_11ea_969f_482ae3057161row22_col2\" class=\"data row22 col2\" >7</td>\n",
       "                        <td id=\"T_85adeb38_1fd0_11ea_969f_482ae3057161row22_col3\" class=\"data row22 col3\" >136</td>\n",
       "                        <td id=\"T_85adeb38_1fd0_11ea_969f_482ae3057161row22_col4\" class=\"data row22 col4\" >male</td>\n",
       "                        <td id=\"T_85adeb38_1fd0_11ea_969f_482ae3057161row22_col5\" class=\"data row22 col5\" >60</td>\n",
       "                        <td id=\"T_85adeb38_1fd0_11ea_969f_482ae3057161row22_col6\" class=\"data row22 col6\" >intermediate</td>\n",
       "                        <td id=\"T_85adeb38_1fd0_11ea_969f_482ae3057161row22_col7\" class=\"data row22 col7\" >36</td>\n",
       "            </tr>\n",
       "            <tr>\n",
       "                                <td id=\"T_85adeb38_1fd0_11ea_969f_482ae3057161row23_col0\" class=\"data row23 col0\" >24</td>\n",
       "                        <td id=\"T_85adeb38_1fd0_11ea_969f_482ae3057161row23_col1\" class=\"data row23 col1\" >30000</td>\n",
       "                        <td id=\"T_85adeb38_1fd0_11ea_969f_482ae3057161row23_col2\" class=\"data row23 col2\" >2</td>\n",
       "                        <td id=\"T_85adeb38_1fd0_11ea_969f_482ae3057161row23_col3\" class=\"data row23 col3\" >58</td>\n",
       "                        <td id=\"T_85adeb38_1fd0_11ea_969f_482ae3057161row23_col4\" class=\"data row23 col4\" >male</td>\n",
       "                        <td id=\"T_85adeb38_1fd0_11ea_969f_482ae3057161row23_col5\" class=\"data row23 col5\" >46</td>\n",
       "                        <td id=\"T_85adeb38_1fd0_11ea_969f_482ae3057161row23_col6\" class=\"data row23 col6\" >advanced</td>\n",
       "                        <td id=\"T_85adeb38_1fd0_11ea_969f_482ae3057161row23_col7\" class=\"data row23 col7\" >53</td>\n",
       "            </tr>\n",
       "            <tr>\n",
       "                                <td id=\"T_85adeb38_1fd0_11ea_969f_482ae3057161row24_col0\" class=\"data row24 col0\" >25</td>\n",
       "                        <td id=\"T_85adeb38_1fd0_11ea_969f_482ae3057161row24_col1\" class=\"data row24 col1\" >30500</td>\n",
       "                        <td id=\"T_85adeb38_1fd0_11ea_969f_482ae3057161row24_col2\" class=\"data row24 col2\" >1</td>\n",
       "                        <td id=\"T_85adeb38_1fd0_11ea_969f_482ae3057161row24_col3\" class=\"data row24 col3\" >59</td>\n",
       "                        <td id=\"T_85adeb38_1fd0_11ea_969f_482ae3057161row24_col4\" class=\"data row24 col4\" >male</td>\n",
       "                        <td id=\"T_85adeb38_1fd0_11ea_969f_482ae3057161row24_col5\" class=\"data row24 col5\" >47</td>\n",
       "                        <td id=\"T_85adeb38_1fd0_11ea_969f_482ae3057161row24_col6\" class=\"data row24 col6\" >advanced</td>\n",
       "                        <td id=\"T_85adeb38_1fd0_11ea_969f_482ae3057161row24_col7\" class=\"data row24 col7\" >35</td>\n",
       "            </tr>\n",
       "            <tr>\n",
       "                                <td id=\"T_85adeb38_1fd0_11ea_969f_482ae3057161row25_col0\" class=\"data row25 col0\" >26</td>\n",
       "                        <td id=\"T_85adeb38_1fd0_11ea_969f_482ae3057161row25_col1\" class=\"data row25 col1\" >23000</td>\n",
       "                        <td id=\"T_85adeb38_1fd0_11ea_969f_482ae3057161row25_col2\" class=\"data row25 col2\" >2</td>\n",
       "                        <td id=\"T_85adeb38_1fd0_11ea_969f_482ae3057161row25_col3\" class=\"data row25 col3\" >44</td>\n",
       "                        <td id=\"T_85adeb38_1fd0_11ea_969f_482ae3057161row25_col4\" class=\"data row25 col4\" >male</td>\n",
       "                        <td id=\"T_85adeb38_1fd0_11ea_969f_482ae3057161row25_col5\" class=\"data row25 col5\" >32</td>\n",
       "                        <td id=\"T_85adeb38_1fd0_11ea_969f_482ae3057161row25_col6\" class=\"data row25 col6\" >beginner</td>\n",
       "                        <td id=\"T_85adeb38_1fd0_11ea_969f_482ae3057161row25_col7\" class=\"data row25 col7\" >53</td>\n",
       "            </tr>\n",
       "            <tr>\n",
       "                                <td id=\"T_85adeb38_1fd0_11ea_969f_482ae3057161row26_col0\" class=\"data row26 col0\" >27</td>\n",
       "                        <td id=\"T_85adeb38_1fd0_11ea_969f_482ae3057161row26_col1\" class=\"data row26 col1\" >41000</td>\n",
       "                        <td id=\"T_85adeb38_1fd0_11ea_969f_482ae3057161row26_col2\" class=\"data row26 col2\" >9</td>\n",
       "                        <td id=\"T_85adeb38_1fd0_11ea_969f_482ae3057161row26_col3\" class=\"data row26 col3\" >80</td>\n",
       "                        <td id=\"T_85adeb38_1fd0_11ea_969f_482ae3057161row26_col4\" class=\"data row26 col4\" >male</td>\n",
       "                        <td id=\"T_85adeb38_1fd0_11ea_969f_482ae3057161row26_col5\" class=\"data row26 col5\" >68</td>\n",
       "                        <td id=\"T_85adeb38_1fd0_11ea_969f_482ae3057161row26_col6\" class=\"data row26 col6\" >intermediate</td>\n",
       "                        <td id=\"T_85adeb38_1fd0_11ea_969f_482ae3057161row26_col7\" class=\"data row26 col7\" >54</td>\n",
       "            </tr>\n",
       "            <tr>\n",
       "                                <td id=\"T_85adeb38_1fd0_11ea_969f_482ae3057161row27_col0\" class=\"data row27 col0\" >28</td>\n",
       "                        <td id=\"T_85adeb38_1fd0_11ea_969f_482ae3057161row27_col1\" class=\"data row27 col1\" >50000</td>\n",
       "                        <td id=\"T_85adeb38_1fd0_11ea_969f_482ae3057161row27_col2\" class=\"data row27 col2\" >9</td>\n",
       "                        <td id=\"T_85adeb38_1fd0_11ea_969f_482ae3057161row27_col3\" class=\"data row27 col3\" >98</td>\n",
       "                        <td id=\"T_85adeb38_1fd0_11ea_969f_482ae3057161row27_col4\" class=\"data row27 col4\" >male</td>\n",
       "                        <td id=\"T_85adeb38_1fd0_11ea_969f_482ae3057161row27_col5\" class=\"data row27 col5\" >22</td>\n",
       "                        <td id=\"T_85adeb38_1fd0_11ea_969f_482ae3057161row27_col6\" class=\"data row27 col6\" >intermediate</td>\n",
       "                        <td id=\"T_85adeb38_1fd0_11ea_969f_482ae3057161row27_col7\" class=\"data row27 col7\" >39</td>\n",
       "            </tr>\n",
       "            <tr>\n",
       "                                <td id=\"T_85adeb38_1fd0_11ea_969f_482ae3057161row28_col0\" class=\"data row28 col0\" >29</td>\n",
       "                        <td id=\"T_85adeb38_1fd0_11ea_969f_482ae3057161row28_col1\" class=\"data row28 col1\" >59500</td>\n",
       "                        <td id=\"T_85adeb38_1fd0_11ea_969f_482ae3057161row28_col2\" class=\"data row28 col2\" >4</td>\n",
       "                        <td id=\"T_85adeb38_1fd0_11ea_969f_482ae3057161row28_col3\" class=\"data row28 col3\" >117</td>\n",
       "                        <td id=\"T_85adeb38_1fd0_11ea_969f_482ae3057161row28_col4\" class=\"data row28 col4\" >male</td>\n",
       "                        <td id=\"T_85adeb38_1fd0_11ea_969f_482ae3057161row28_col5\" class=\"data row28 col5\" >41</td>\n",
       "                        <td id=\"T_85adeb38_1fd0_11ea_969f_482ae3057161row28_col6\" class=\"data row28 col6\" >advanced</td>\n",
       "                        <td id=\"T_85adeb38_1fd0_11ea_969f_482ae3057161row28_col7\" class=\"data row28 col7\" >43</td>\n",
       "            </tr>\n",
       "            <tr>\n",
       "                                <td id=\"T_85adeb38_1fd0_11ea_969f_482ae3057161row29_col0\" class=\"data row29 col0\" >30</td>\n",
       "                        <td id=\"T_85adeb38_1fd0_11ea_969f_482ae3057161row29_col1\" class=\"data row29 col1\" >59500</td>\n",
       "                        <td id=\"T_85adeb38_1fd0_11ea_969f_482ae3057161row29_col2\" class=\"data row29 col2\" >9</td>\n",
       "                        <td id=\"T_85adeb38_1fd0_11ea_969f_482ae3057161row29_col3\" class=\"data row29 col3\" >117</td>\n",
       "                        <td id=\"T_85adeb38_1fd0_11ea_969f_482ae3057161row29_col4\" class=\"data row29 col4\" >female</td>\n",
       "                        <td id=\"T_85adeb38_1fd0_11ea_969f_482ae3057161row29_col5\" class=\"data row29 col5\" >41</td>\n",
       "                        <td id=\"T_85adeb38_1fd0_11ea_969f_482ae3057161row29_col6\" class=\"data row29 col6\" >beginner</td>\n",
       "                        <td id=\"T_85adeb38_1fd0_11ea_969f_482ae3057161row29_col7\" class=\"data row29 col7\" >29</td>\n",
       "            </tr>\n",
       "            <tr>\n",
       "                                <td id=\"T_85adeb38_1fd0_11ea_969f_482ae3057161row30_col0\" class=\"data row30 col0\" >31</td>\n",
       "                        <td id=\"T_85adeb38_1fd0_11ea_969f_482ae3057161row30_col1\" class=\"data row30 col1\" >68500</td>\n",
       "                        <td id=\"T_85adeb38_1fd0_11ea_969f_482ae3057161row30_col2\" class=\"data row30 col2\" >8</td>\n",
       "                        <td id=\"T_85adeb38_1fd0_11ea_969f_482ae3057161row30_col3\" class=\"data row30 col3\" >135</td>\n",
       "                        <td id=\"T_85adeb38_1fd0_11ea_969f_482ae3057161row30_col4\" class=\"data row30 col4\" >male</td>\n",
       "                        <td id=\"T_85adeb38_1fd0_11ea_969f_482ae3057161row30_col5\" class=\"data row30 col5\" >59</td>\n",
       "                        <td id=\"T_85adeb38_1fd0_11ea_969f_482ae3057161row30_col6\" class=\"data row30 col6\" >advanced</td>\n",
       "                        <td id=\"T_85adeb38_1fd0_11ea_969f_482ae3057161row30_col7\" class=\"data row30 col7\" >48</td>\n",
       "            </tr>\n",
       "            <tr>\n",
       "                                <td id=\"T_85adeb38_1fd0_11ea_969f_482ae3057161row31_col0\" class=\"data row31 col0\" >32</td>\n",
       "                        <td id=\"T_85adeb38_1fd0_11ea_969f_482ae3057161row31_col1\" class=\"data row31 col1\" >72500</td>\n",
       "                        <td id=\"T_85adeb38_1fd0_11ea_969f_482ae3057161row31_col2\" class=\"data row31 col2\" >4</td>\n",
       "                        <td id=\"T_85adeb38_1fd0_11ea_969f_482ae3057161row31_col3\" class=\"data row31 col3\" >143</td>\n",
       "                        <td id=\"T_85adeb38_1fd0_11ea_969f_482ae3057161row31_col4\" class=\"data row31 col4\" >female</td>\n",
       "                        <td id=\"T_85adeb38_1fd0_11ea_969f_482ae3057161row31_col5\" class=\"data row31 col5\" >67</td>\n",
       "                        <td id=\"T_85adeb38_1fd0_11ea_969f_482ae3057161row31_col6\" class=\"data row31 col6\" >intermediate</td>\n",
       "                        <td id=\"T_85adeb38_1fd0_11ea_969f_482ae3057161row31_col7\" class=\"data row31 col7\" >48</td>\n",
       "            </tr>\n",
       "            <tr>\n",
       "                                <td id=\"T_85adeb38_1fd0_11ea_969f_482ae3057161row32_col0\" class=\"data row32 col0\" >33</td>\n",
       "                        <td id=\"T_85adeb38_1fd0_11ea_969f_482ae3057161row32_col1\" class=\"data row32 col1\" >75500</td>\n",
       "                        <td id=\"T_85adeb38_1fd0_11ea_969f_482ae3057161row32_col2\" class=\"data row32 col2\" >7</td>\n",
       "                        <td id=\"T_85adeb38_1fd0_11ea_969f_482ae3057161row32_col3\" class=\"data row32 col3\" >149</td>\n",
       "                        <td id=\"T_85adeb38_1fd0_11ea_969f_482ae3057161row32_col4\" class=\"data row32 col4\" >male</td>\n",
       "                        <td id=\"T_85adeb38_1fd0_11ea_969f_482ae3057161row32_col5\" class=\"data row32 col5\" >73</td>\n",
       "                        <td id=\"T_85adeb38_1fd0_11ea_969f_482ae3057161row32_col6\" class=\"data row32 col6\" >intermediate</td>\n",
       "                        <td id=\"T_85adeb38_1fd0_11ea_969f_482ae3057161row32_col7\" class=\"data row32 col7\" >34</td>\n",
       "            </tr>\n",
       "            <tr>\n",
       "                                <td id=\"T_85adeb38_1fd0_11ea_969f_482ae3057161row33_col0\" class=\"data row33 col0\" >34</td>\n",
       "                        <td id=\"T_85adeb38_1fd0_11ea_969f_482ae3057161row33_col1\" class=\"data row33 col1\" >63000</td>\n",
       "                        <td id=\"T_85adeb38_1fd0_11ea_969f_482ae3057161row33_col2\" class=\"data row33 col2\" >6</td>\n",
       "                        <td id=\"T_85adeb38_1fd0_11ea_969f_482ae3057161row33_col3\" class=\"data row33 col3\" >124</td>\n",
       "                        <td id=\"T_85adeb38_1fd0_11ea_969f_482ae3057161row33_col4\" class=\"data row33 col4\" >male</td>\n",
       "                        <td id=\"T_85adeb38_1fd0_11ea_969f_482ae3057161row33_col5\" class=\"data row33 col5\" >48</td>\n",
       "                        <td id=\"T_85adeb38_1fd0_11ea_969f_482ae3057161row33_col6\" class=\"data row33 col6\" >intermediate</td>\n",
       "                        <td id=\"T_85adeb38_1fd0_11ea_969f_482ae3057161row33_col7\" class=\"data row33 col7\" >42</td>\n",
       "            </tr>\n",
       "            <tr>\n",
       "                                <td id=\"T_85adeb38_1fd0_11ea_969f_482ae3057161row34_col0\" class=\"data row34 col0\" >35</td>\n",
       "                        <td id=\"T_85adeb38_1fd0_11ea_969f_482ae3057161row34_col1\" class=\"data row34 col1\" >64000</td>\n",
       "                        <td id=\"T_85adeb38_1fd0_11ea_969f_482ae3057161row34_col2\" class=\"data row34 col2\" >2</td>\n",
       "                        <td id=\"T_85adeb38_1fd0_11ea_969f_482ae3057161row34_col3\" class=\"data row34 col3\" >126</td>\n",
       "                        <td id=\"T_85adeb38_1fd0_11ea_969f_482ae3057161row34_col4\" class=\"data row34 col4\" >male</td>\n",
       "                        <td id=\"T_85adeb38_1fd0_11ea_969f_482ae3057161row34_col5\" class=\"data row34 col5\" >50</td>\n",
       "                        <td id=\"T_85adeb38_1fd0_11ea_969f_482ae3057161row34_col6\" class=\"data row34 col6\" >intermediate</td>\n",
       "                        <td id=\"T_85adeb38_1fd0_11ea_969f_482ae3057161row34_col7\" class=\"data row34 col7\" >48</td>\n",
       "            </tr>\n",
       "            <tr>\n",
       "                                <td id=\"T_85adeb38_1fd0_11ea_969f_482ae3057161row35_col0\" class=\"data row35 col0\" >36</td>\n",
       "                        <td id=\"T_85adeb38_1fd0_11ea_969f_482ae3057161row35_col1\" class=\"data row35 col1\" >59000</td>\n",
       "                        <td id=\"T_85adeb38_1fd0_11ea_969f_482ae3057161row35_col2\" class=\"data row35 col2\" >4</td>\n",
       "                        <td id=\"T_85adeb38_1fd0_11ea_969f_482ae3057161row35_col3\" class=\"data row35 col3\" >116</td>\n",
       "                        <td id=\"T_85adeb38_1fd0_11ea_969f_482ae3057161row35_col4\" class=\"data row35 col4\" >male</td>\n",
       "                        <td id=\"T_85adeb38_1fd0_11ea_969f_482ae3057161row35_col5\" class=\"data row35 col5\" >40</td>\n",
       "                        <td id=\"T_85adeb38_1fd0_11ea_969f_482ae3057161row35_col6\" class=\"data row35 col6\" >advanced</td>\n",
       "                        <td id=\"T_85adeb38_1fd0_11ea_969f_482ae3057161row35_col7\" class=\"data row35 col7\" >25</td>\n",
       "            </tr>\n",
       "            <tr>\n",
       "                                <td id=\"T_85adeb38_1fd0_11ea_969f_482ae3057161row36_col0\" class=\"data row36 col0\" >37</td>\n",
       "                        <td id=\"T_85adeb38_1fd0_11ea_969f_482ae3057161row36_col1\" class=\"data row36 col1\" >22500</td>\n",
       "                        <td id=\"T_85adeb38_1fd0_11ea_969f_482ae3057161row36_col2\" class=\"data row36 col2\" >5</td>\n",
       "                        <td id=\"T_85adeb38_1fd0_11ea_969f_482ae3057161row36_col3\" class=\"data row36 col3\" >43</td>\n",
       "                        <td id=\"T_85adeb38_1fd0_11ea_969f_482ae3057161row36_col4\" class=\"data row36 col4\" >male</td>\n",
       "                        <td id=\"T_85adeb38_1fd0_11ea_969f_482ae3057161row36_col5\" class=\"data row36 col5\" >31</td>\n",
       "                        <td id=\"T_85adeb38_1fd0_11ea_969f_482ae3057161row36_col6\" class=\"data row36 col6\" >intermediate</td>\n",
       "                        <td id=\"T_85adeb38_1fd0_11ea_969f_482ae3057161row36_col7\" class=\"data row36 col7\" >47</td>\n",
       "            </tr>\n",
       "            <tr>\n",
       "                                <td id=\"T_85adeb38_1fd0_11ea_969f_482ae3057161row37_col0\" class=\"data row37 col0\" >38</td>\n",
       "                        <td id=\"T_85adeb38_1fd0_11ea_969f_482ae3057161row37_col1\" class=\"data row37 col1\" >68500</td>\n",
       "                        <td id=\"T_85adeb38_1fd0_11ea_969f_482ae3057161row37_col2\" class=\"data row37 col2\" >9</td>\n",
       "                        <td id=\"T_85adeb38_1fd0_11ea_969f_482ae3057161row37_col3\" class=\"data row37 col3\" >135</td>\n",
       "                        <td id=\"T_85adeb38_1fd0_11ea_969f_482ae3057161row37_col4\" class=\"data row37 col4\" >male</td>\n",
       "                        <td id=\"T_85adeb38_1fd0_11ea_969f_482ae3057161row37_col5\" class=\"data row37 col5\" >59</td>\n",
       "                        <td id=\"T_85adeb38_1fd0_11ea_969f_482ae3057161row37_col6\" class=\"data row37 col6\" >intermediate</td>\n",
       "                        <td id=\"T_85adeb38_1fd0_11ea_969f_482ae3057161row37_col7\" class=\"data row37 col7\" >38</td>\n",
       "            </tr>\n",
       "            <tr>\n",
       "                                <td id=\"T_85adeb38_1fd0_11ea_969f_482ae3057161row38_col0\" class=\"data row38 col0\" >39</td>\n",
       "                        <td id=\"T_85adeb38_1fd0_11ea_969f_482ae3057161row38_col1\" class=\"data row38 col1\" >20500</td>\n",
       "                        <td id=\"T_85adeb38_1fd0_11ea_969f_482ae3057161row38_col2\" class=\"data row38 col2\" >2</td>\n",
       "                        <td id=\"T_85adeb38_1fd0_11ea_969f_482ae3057161row38_col3\" class=\"data row38 col3\" >39</td>\n",
       "                        <td id=\"T_85adeb38_1fd0_11ea_969f_482ae3057161row38_col4\" class=\"data row38 col4\" >male</td>\n",
       "                        <td id=\"T_85adeb38_1fd0_11ea_969f_482ae3057161row38_col5\" class=\"data row38 col5\" >27</td>\n",
       "                        <td id=\"T_85adeb38_1fd0_11ea_969f_482ae3057161row38_col6\" class=\"data row38 col6\" >beginner</td>\n",
       "                        <td id=\"T_85adeb38_1fd0_11ea_969f_482ae3057161row38_col7\" class=\"data row38 col7\" >34</td>\n",
       "            </tr>\n",
       "            <tr>\n",
       "                                <td id=\"T_85adeb38_1fd0_11ea_969f_482ae3057161row39_col0\" class=\"data row39 col0\" >40</td>\n",
       "                        <td id=\"T_85adeb38_1fd0_11ea_969f_482ae3057161row39_col1\" class=\"data row39 col1\" >19500</td>\n",
       "                        <td id=\"T_85adeb38_1fd0_11ea_969f_482ae3057161row39_col2\" class=\"data row39 col2\" >5</td>\n",
       "                        <td id=\"T_85adeb38_1fd0_11ea_969f_482ae3057161row39_col3\" class=\"data row39 col3\" >37</td>\n",
       "                        <td id=\"T_85adeb38_1fd0_11ea_969f_482ae3057161row39_col4\" class=\"data row39 col4\" >male</td>\n",
       "                        <td id=\"T_85adeb38_1fd0_11ea_969f_482ae3057161row39_col5\" class=\"data row39 col5\" >25</td>\n",
       "                        <td id=\"T_85adeb38_1fd0_11ea_969f_482ae3057161row39_col6\" class=\"data row39 col6\" >beginner</td>\n",
       "                        <td id=\"T_85adeb38_1fd0_11ea_969f_482ae3057161row39_col7\" class=\"data row39 col7\" >34</td>\n",
       "            </tr>\n",
       "            <tr>\n",
       "                                <td id=\"T_85adeb38_1fd0_11ea_969f_482ae3057161row40_col0\" class=\"data row40 col0\" >41</td>\n",
       "                        <td id=\"T_85adeb38_1fd0_11ea_969f_482ae3057161row40_col1\" class=\"data row40 col1\" >47500</td>\n",
       "                        <td id=\"T_85adeb38_1fd0_11ea_969f_482ae3057161row40_col2\" class=\"data row40 col2\" >1</td>\n",
       "                        <td id=\"T_85adeb38_1fd0_11ea_969f_482ae3057161row40_col3\" class=\"data row40 col3\" >93</td>\n",
       "                        <td id=\"T_85adeb38_1fd0_11ea_969f_482ae3057161row40_col4\" class=\"data row40 col4\" >male</td>\n",
       "                        <td id=\"T_85adeb38_1fd0_11ea_969f_482ae3057161row40_col5\" class=\"data row40 col5\" >40</td>\n",
       "                        <td id=\"T_85adeb38_1fd0_11ea_969f_482ae3057161row40_col6\" class=\"data row40 col6\" >intermediate</td>\n",
       "                        <td id=\"T_85adeb38_1fd0_11ea_969f_482ae3057161row40_col7\" class=\"data row40 col7\" >32</td>\n",
       "            </tr>\n",
       "            <tr>\n",
       "                                <td id=\"T_85adeb38_1fd0_11ea_969f_482ae3057161row41_col0\" class=\"data row41 col0\" >42</td>\n",
       "                        <td id=\"T_85adeb38_1fd0_11ea_969f_482ae3057161row41_col1\" class=\"data row41 col1\" >46500</td>\n",
       "                        <td id=\"T_85adeb38_1fd0_11ea_969f_482ae3057161row41_col2\" class=\"data row41 col2\" >4</td>\n",
       "                        <td id=\"T_85adeb38_1fd0_11ea_969f_482ae3057161row41_col3\" class=\"data row41 col3\" >91</td>\n",
       "                        <td id=\"T_85adeb38_1fd0_11ea_969f_482ae3057161row41_col4\" class=\"data row41 col4\" >male</td>\n",
       "                        <td id=\"T_85adeb38_1fd0_11ea_969f_482ae3057161row41_col5\" class=\"data row41 col5\" >19</td>\n",
       "                        <td id=\"T_85adeb38_1fd0_11ea_969f_482ae3057161row41_col6\" class=\"data row41 col6\" >beginner</td>\n",
       "                        <td id=\"T_85adeb38_1fd0_11ea_969f_482ae3057161row41_col7\" class=\"data row41 col7\" >54</td>\n",
       "            </tr>\n",
       "            <tr>\n",
       "                                <td id=\"T_85adeb38_1fd0_11ea_969f_482ae3057161row42_col0\" class=\"data row42 col0\" >43</td>\n",
       "                        <td id=\"T_85adeb38_1fd0_11ea_969f_482ae3057161row42_col1\" class=\"data row42 col1\" >27000</td>\n",
       "                        <td id=\"T_85adeb38_1fd0_11ea_969f_482ae3057161row42_col2\" class=\"data row42 col2\" >3</td>\n",
       "                        <td id=\"T_85adeb38_1fd0_11ea_969f_482ae3057161row42_col3\" class=\"data row42 col3\" >52</td>\n",
       "                        <td id=\"T_85adeb38_1fd0_11ea_969f_482ae3057161row42_col4\" class=\"data row42 col4\" >male</td>\n",
       "                        <td id=\"T_85adeb38_1fd0_11ea_969f_482ae3057161row42_col5\" class=\"data row42 col5\" >18</td>\n",
       "                        <td id=\"T_85adeb38_1fd0_11ea_969f_482ae3057161row42_col6\" class=\"data row42 col6\" >beginner</td>\n",
       "                        <td id=\"T_85adeb38_1fd0_11ea_969f_482ae3057161row42_col7\" class=\"data row42 col7\" >47</td>\n",
       "            </tr>\n",
       "            <tr>\n",
       "                                <td id=\"T_85adeb38_1fd0_11ea_969f_482ae3057161row43_col0\" class=\"data row43 col0\" >44</td>\n",
       "                        <td id=\"T_85adeb38_1fd0_11ea_969f_482ae3057161row43_col1\" class=\"data row43 col1\" >44500</td>\n",
       "                        <td id=\"T_85adeb38_1fd0_11ea_969f_482ae3057161row43_col2\" class=\"data row43 col2\" >1</td>\n",
       "                        <td id=\"T_85adeb38_1fd0_11ea_969f_482ae3057161row43_col3\" class=\"data row43 col3\" >87</td>\n",
       "                        <td id=\"T_85adeb38_1fd0_11ea_969f_482ae3057161row43_col4\" class=\"data row43 col4\" >male</td>\n",
       "                        <td id=\"T_85adeb38_1fd0_11ea_969f_482ae3057161row43_col5\" class=\"data row43 col5\" >35</td>\n",
       "                        <td id=\"T_85adeb38_1fd0_11ea_969f_482ae3057161row43_col6\" class=\"data row43 col6\" >intermediate</td>\n",
       "                        <td id=\"T_85adeb38_1fd0_11ea_969f_482ae3057161row43_col7\" class=\"data row43 col7\" >50</td>\n",
       "            </tr>\n",
       "            <tr>\n",
       "                                <td id=\"T_85adeb38_1fd0_11ea_969f_482ae3057161row44_col0\" class=\"data row44 col0\" >45</td>\n",
       "                        <td id=\"T_85adeb38_1fd0_11ea_969f_482ae3057161row44_col1\" class=\"data row44 col1\" >16500</td>\n",
       "                        <td id=\"T_85adeb38_1fd0_11ea_969f_482ae3057161row44_col2\" class=\"data row44 col2\" >5</td>\n",
       "                        <td id=\"T_85adeb38_1fd0_11ea_969f_482ae3057161row44_col3\" class=\"data row44 col3\" >31</td>\n",
       "                        <td id=\"T_85adeb38_1fd0_11ea_969f_482ae3057161row44_col4\" class=\"data row44 col4\" >male</td>\n",
       "                        <td id=\"T_85adeb38_1fd0_11ea_969f_482ae3057161row44_col5\" class=\"data row44 col5\" >26</td>\n",
       "                        <td id=\"T_85adeb38_1fd0_11ea_969f_482ae3057161row44_col6\" class=\"data row44 col6\" >advanced</td>\n",
       "                        <td id=\"T_85adeb38_1fd0_11ea_969f_482ae3057161row44_col7\" class=\"data row44 col7\" >26</td>\n",
       "            </tr>\n",
       "            <tr>\n",
       "                                <td id=\"T_85adeb38_1fd0_11ea_969f_482ae3057161row45_col0\" class=\"data row45 col0\" >46</td>\n",
       "                        <td id=\"T_85adeb38_1fd0_11ea_969f_482ae3057161row45_col1\" class=\"data row45 col1\" >16000</td>\n",
       "                        <td id=\"T_85adeb38_1fd0_11ea_969f_482ae3057161row45_col2\" class=\"data row45 col2\" >3</td>\n",
       "                        <td id=\"T_85adeb38_1fd0_11ea_969f_482ae3057161row45_col3\" class=\"data row45 col3\" >30</td>\n",
       "                        <td id=\"T_85adeb38_1fd0_11ea_969f_482ae3057161row45_col4\" class=\"data row45 col4\" >male</td>\n",
       "                        <td id=\"T_85adeb38_1fd0_11ea_969f_482ae3057161row45_col5\" class=\"data row45 col5\" >42</td>\n",
       "                        <td id=\"T_85adeb38_1fd0_11ea_969f_482ae3057161row45_col6\" class=\"data row45 col6\" >intermediate</td>\n",
       "                        <td id=\"T_85adeb38_1fd0_11ea_969f_482ae3057161row45_col7\" class=\"data row45 col7\" >25</td>\n",
       "            </tr>\n",
       "            <tr>\n",
       "                                <td id=\"T_85adeb38_1fd0_11ea_969f_482ae3057161row46_col0\" class=\"data row46 col0\" >47</td>\n",
       "                        <td id=\"T_85adeb38_1fd0_11ea_969f_482ae3057161row46_col1\" class=\"data row46 col1\" >46000</td>\n",
       "                        <td id=\"T_85adeb38_1fd0_11ea_969f_482ae3057161row46_col2\" class=\"data row46 col2\" >8</td>\n",
       "                        <td id=\"T_85adeb38_1fd0_11ea_969f_482ae3057161row46_col3\" class=\"data row46 col3\" >90</td>\n",
       "                        <td id=\"T_85adeb38_1fd0_11ea_969f_482ae3057161row46_col4\" class=\"data row46 col4\" >male</td>\n",
       "                        <td id=\"T_85adeb38_1fd0_11ea_969f_482ae3057161row46_col5\" class=\"data row46 col5\" >31</td>\n",
       "                        <td id=\"T_85adeb38_1fd0_11ea_969f_482ae3057161row46_col6\" class=\"data row46 col6\" >beginner</td>\n",
       "                        <td id=\"T_85adeb38_1fd0_11ea_969f_482ae3057161row46_col7\" class=\"data row46 col7\" >53</td>\n",
       "            </tr>\n",
       "            <tr>\n",
       "                                <td id=\"T_85adeb38_1fd0_11ea_969f_482ae3057161row47_col0\" class=\"data row47 col0\" >48</td>\n",
       "                        <td id=\"T_85adeb38_1fd0_11ea_969f_482ae3057161row47_col1\" class=\"data row47 col1\" >56500</td>\n",
       "                        <td id=\"T_85adeb38_1fd0_11ea_969f_482ae3057161row47_col2\" class=\"data row47 col2\" >8</td>\n",
       "                        <td id=\"T_85adeb38_1fd0_11ea_969f_482ae3057161row47_col3\" class=\"data row47 col3\" >111</td>\n",
       "                        <td id=\"T_85adeb38_1fd0_11ea_969f_482ae3057161row47_col4\" class=\"data row47 col4\" >male</td>\n",
       "                        <td id=\"T_85adeb38_1fd0_11ea_969f_482ae3057161row47_col5\" class=\"data row47 col5\" >69</td>\n",
       "                        <td id=\"T_85adeb38_1fd0_11ea_969f_482ae3057161row47_col6\" class=\"data row47 col6\" >advanced</td>\n",
       "                        <td id=\"T_85adeb38_1fd0_11ea_969f_482ae3057161row47_col7\" class=\"data row47 col7\" >42</td>\n",
       "            </tr>\n",
       "            <tr>\n",
       "                                <td id=\"T_85adeb38_1fd0_11ea_969f_482ae3057161row48_col0\" class=\"data row48 col0\" >49</td>\n",
       "                        <td id=\"T_85adeb38_1fd0_11ea_969f_482ae3057161row48_col1\" class=\"data row48 col1\" >20000</td>\n",
       "                        <td id=\"T_85adeb38_1fd0_11ea_969f_482ae3057161row48_col2\" class=\"data row48 col2\" >9</td>\n",
       "                        <td id=\"T_85adeb38_1fd0_11ea_969f_482ae3057161row48_col3\" class=\"data row48 col3\" >38</td>\n",
       "                        <td id=\"T_85adeb38_1fd0_11ea_969f_482ae3057161row48_col4\" class=\"data row48 col4\" >male</td>\n",
       "                        <td id=\"T_85adeb38_1fd0_11ea_969f_482ae3057161row48_col5\" class=\"data row48 col5\" >65</td>\n",
       "                        <td id=\"T_85adeb38_1fd0_11ea_969f_482ae3057161row48_col6\" class=\"data row48 col6\" >advanced</td>\n",
       "                        <td id=\"T_85adeb38_1fd0_11ea_969f_482ae3057161row48_col7\" class=\"data row48 col7\" >33</td>\n",
       "            </tr>\n",
       "            <tr>\n",
       "                                <td id=\"T_85adeb38_1fd0_11ea_969f_482ae3057161row49_col0\" class=\"data row49 col0\" >50</td>\n",
       "                        <td id=\"T_85adeb38_1fd0_11ea_969f_482ae3057161row49_col1\" class=\"data row49 col1\" >60000</td>\n",
       "                        <td id=\"T_85adeb38_1fd0_11ea_969f_482ae3057161row49_col2\" class=\"data row49 col2\" >7</td>\n",
       "                        <td id=\"T_85adeb38_1fd0_11ea_969f_482ae3057161row49_col3\" class=\"data row49 col3\" >118</td>\n",
       "                        <td id=\"T_85adeb38_1fd0_11ea_969f_482ae3057161row49_col4\" class=\"data row49 col4\" >male</td>\n",
       "                        <td id=\"T_85adeb38_1fd0_11ea_969f_482ae3057161row49_col5\" class=\"data row49 col5\" >60</td>\n",
       "                        <td id=\"T_85adeb38_1fd0_11ea_969f_482ae3057161row49_col6\" class=\"data row49 col6\" >intermediate</td>\n",
       "                        <td id=\"T_85adeb38_1fd0_11ea_969f_482ae3057161row49_col7\" class=\"data row49 col7\" >49</td>\n",
       "            </tr>\n",
       "            <tr>\n",
       "                                <td id=\"T_85adeb38_1fd0_11ea_969f_482ae3057161row50_col0\" class=\"data row50 col0\" >51</td>\n",
       "                        <td id=\"T_85adeb38_1fd0_11ea_969f_482ae3057161row50_col1\" class=\"data row50 col1\" >95000</td>\n",
       "                        <td id=\"T_85adeb38_1fd0_11ea_969f_482ae3057161row50_col2\" class=\"data row50 col2\" >16</td>\n",
       "                        <td id=\"T_85adeb38_1fd0_11ea_969f_482ae3057161row50_col3\" class=\"data row50 col3\" >188</td>\n",
       "                        <td id=\"T_85adeb38_1fd0_11ea_969f_482ae3057161row50_col4\" class=\"data row50 col4\" >male</td>\n",
       "                        <td id=\"T_85adeb38_1fd0_11ea_969f_482ae3057161row50_col5\" class=\"data row50 col5\" >26</td>\n",
       "                        <td id=\"T_85adeb38_1fd0_11ea_969f_482ae3057161row50_col6\" class=\"data row50 col6\" >intermediate</td>\n",
       "                        <td id=\"T_85adeb38_1fd0_11ea_969f_482ae3057161row50_col7\" class=\"data row50 col7\" >48</td>\n",
       "            </tr>\n",
       "            <tr>\n",
       "                                <td id=\"T_85adeb38_1fd0_11ea_969f_482ae3057161row51_col0\" class=\"data row51 col0\" >52</td>\n",
       "                        <td id=\"T_85adeb38_1fd0_11ea_969f_482ae3057161row51_col1\" class=\"data row51 col1\" >146500</td>\n",
       "                        <td id=\"T_85adeb38_1fd0_11ea_969f_482ae3057161row51_col2\" class=\"data row51 col2\" >19</td>\n",
       "                        <td id=\"T_85adeb38_1fd0_11ea_969f_482ae3057161row51_col3\" class=\"data row51 col3\" >291</td>\n",
       "                        <td id=\"T_85adeb38_1fd0_11ea_969f_482ae3057161row51_col4\" class=\"data row51 col4\" >male</td>\n",
       "                        <td id=\"T_85adeb38_1fd0_11ea_969f_482ae3057161row51_col5\" class=\"data row51 col5\" >48</td>\n",
       "                        <td id=\"T_85adeb38_1fd0_11ea_969f_482ae3057161row51_col6\" class=\"data row51 col6\" >intermediate</td>\n",
       "                        <td id=\"T_85adeb38_1fd0_11ea_969f_482ae3057161row51_col7\" class=\"data row51 col7\" >54</td>\n",
       "            </tr>\n",
       "            <tr>\n",
       "                                <td id=\"T_85adeb38_1fd0_11ea_969f_482ae3057161row52_col0\" class=\"data row52 col0\" >53</td>\n",
       "                        <td id=\"T_85adeb38_1fd0_11ea_969f_482ae3057161row52_col1\" class=\"data row52 col1\" >112500</td>\n",
       "                        <td id=\"T_85adeb38_1fd0_11ea_969f_482ae3057161row52_col2\" class=\"data row52 col2\" >16</td>\n",
       "                        <td id=\"T_85adeb38_1fd0_11ea_969f_482ae3057161row52_col3\" class=\"data row52 col3\" >223</td>\n",
       "                        <td id=\"T_85adeb38_1fd0_11ea_969f_482ae3057161row52_col4\" class=\"data row52 col4\" >male</td>\n",
       "                        <td id=\"T_85adeb38_1fd0_11ea_969f_482ae3057161row52_col5\" class=\"data row52 col5\" >25</td>\n",
       "                        <td id=\"T_85adeb38_1fd0_11ea_969f_482ae3057161row52_col6\" class=\"data row52 col6\" >beginner</td>\n",
       "                        <td id=\"T_85adeb38_1fd0_11ea_969f_482ae3057161row52_col7\" class=\"data row52 col7\" >50</td>\n",
       "            </tr>\n",
       "            <tr>\n",
       "                                <td id=\"T_85adeb38_1fd0_11ea_969f_482ae3057161row53_col0\" class=\"data row53 col0\" >54</td>\n",
       "                        <td id=\"T_85adeb38_1fd0_11ea_969f_482ae3057161row53_col1\" class=\"data row53 col1\" >145000</td>\n",
       "                        <td id=\"T_85adeb38_1fd0_11ea_969f_482ae3057161row53_col2\" class=\"data row53 col2\" >11</td>\n",
       "                        <td id=\"T_85adeb38_1fd0_11ea_969f_482ae3057161row53_col3\" class=\"data row53 col3\" >288</td>\n",
       "                        <td id=\"T_85adeb38_1fd0_11ea_969f_482ae3057161row53_col4\" class=\"data row53 col4\" >female</td>\n",
       "                        <td id=\"T_85adeb38_1fd0_11ea_969f_482ae3057161row53_col5\" class=\"data row53 col5\" >21</td>\n",
       "                        <td id=\"T_85adeb38_1fd0_11ea_969f_482ae3057161row53_col6\" class=\"data row53 col6\" >beginner</td>\n",
       "                        <td id=\"T_85adeb38_1fd0_11ea_969f_482ae3057161row53_col7\" class=\"data row53 col7\" >45</td>\n",
       "            </tr>\n",
       "            <tr>\n",
       "                                <td id=\"T_85adeb38_1fd0_11ea_969f_482ae3057161row54_col0\" class=\"data row54 col0\" >55</td>\n",
       "                        <td id=\"T_85adeb38_1fd0_11ea_969f_482ae3057161row54_col1\" class=\"data row54 col1\" >143000</td>\n",
       "                        <td id=\"T_85adeb38_1fd0_11ea_969f_482ae3057161row54_col2\" class=\"data row54 col2\" >11</td>\n",
       "                        <td id=\"T_85adeb38_1fd0_11ea_969f_482ae3057161row54_col3\" class=\"data row54 col3\" >284</td>\n",
       "                        <td id=\"T_85adeb38_1fd0_11ea_969f_482ae3057161row54_col4\" class=\"data row54 col4\" >male</td>\n",
       "                        <td id=\"T_85adeb38_1fd0_11ea_969f_482ae3057161row54_col5\" class=\"data row54 col5\" >24</td>\n",
       "                        <td id=\"T_85adeb38_1fd0_11ea_969f_482ae3057161row54_col6\" class=\"data row54 col6\" >intermediate</td>\n",
       "                        <td id=\"T_85adeb38_1fd0_11ea_969f_482ae3057161row54_col7\" class=\"data row54 col7\" >43</td>\n",
       "            </tr>\n",
       "            <tr>\n",
       "                                <td id=\"T_85adeb38_1fd0_11ea_969f_482ae3057161row55_col0\" class=\"data row55 col0\" >56</td>\n",
       "                        <td id=\"T_85adeb38_1fd0_11ea_969f_482ae3057161row55_col1\" class=\"data row55 col1\" >116000</td>\n",
       "                        <td id=\"T_85adeb38_1fd0_11ea_969f_482ae3057161row55_col2\" class=\"data row55 col2\" >12</td>\n",
       "                        <td id=\"T_85adeb38_1fd0_11ea_969f_482ae3057161row55_col3\" class=\"data row55 col3\" >230</td>\n",
       "                        <td id=\"T_85adeb38_1fd0_11ea_969f_482ae3057161row55_col4\" class=\"data row55 col4\" >male</td>\n",
       "                        <td id=\"T_85adeb38_1fd0_11ea_969f_482ae3057161row55_col5\" class=\"data row55 col5\" >39</td>\n",
       "                        <td id=\"T_85adeb38_1fd0_11ea_969f_482ae3057161row55_col6\" class=\"data row55 col6\" >beginner</td>\n",
       "                        <td id=\"T_85adeb38_1fd0_11ea_969f_482ae3057161row55_col7\" class=\"data row55 col7\" >42</td>\n",
       "            </tr>\n",
       "            <tr>\n",
       "                                <td id=\"T_85adeb38_1fd0_11ea_969f_482ae3057161row56_col0\" class=\"data row56 col0\" >57</td>\n",
       "                        <td id=\"T_85adeb38_1fd0_11ea_969f_482ae3057161row56_col1\" class=\"data row56 col1\" >148500</td>\n",
       "                        <td id=\"T_85adeb38_1fd0_11ea_969f_482ae3057161row56_col2\" class=\"data row56 col2\" >18</td>\n",
       "                        <td id=\"T_85adeb38_1fd0_11ea_969f_482ae3057161row56_col3\" class=\"data row56 col3\" >295</td>\n",
       "                        <td id=\"T_85adeb38_1fd0_11ea_969f_482ae3057161row56_col4\" class=\"data row56 col4\" >male</td>\n",
       "                        <td id=\"T_85adeb38_1fd0_11ea_969f_482ae3057161row56_col5\" class=\"data row56 col5\" >67</td>\n",
       "                        <td id=\"T_85adeb38_1fd0_11ea_969f_482ae3057161row56_col6\" class=\"data row56 col6\" >advanced</td>\n",
       "                        <td id=\"T_85adeb38_1fd0_11ea_969f_482ae3057161row56_col7\" class=\"data row56 col7\" >38</td>\n",
       "            </tr>\n",
       "            <tr>\n",
       "                                <td id=\"T_85adeb38_1fd0_11ea_969f_482ae3057161row57_col0\" class=\"data row57 col0\" >58</td>\n",
       "                        <td id=\"T_85adeb38_1fd0_11ea_969f_482ae3057161row57_col1\" class=\"data row57 col1\" >141000</td>\n",
       "                        <td id=\"T_85adeb38_1fd0_11ea_969f_482ae3057161row57_col2\" class=\"data row57 col2\" >17</td>\n",
       "                        <td id=\"T_85adeb38_1fd0_11ea_969f_482ae3057161row57_col3\" class=\"data row57 col3\" >280</td>\n",
       "                        <td id=\"T_85adeb38_1fd0_11ea_969f_482ae3057161row57_col4\" class=\"data row57 col4\" >male</td>\n",
       "                        <td id=\"T_85adeb38_1fd0_11ea_969f_482ae3057161row57_col5\" class=\"data row57 col5\" >21</td>\n",
       "                        <td id=\"T_85adeb38_1fd0_11ea_969f_482ae3057161row57_col6\" class=\"data row57 col6\" >beginner</td>\n",
       "                        <td id=\"T_85adeb38_1fd0_11ea_969f_482ae3057161row57_col7\" class=\"data row57 col7\" >41</td>\n",
       "            </tr>\n",
       "            <tr>\n",
       "                                <td id=\"T_85adeb38_1fd0_11ea_969f_482ae3057161row58_col0\" class=\"data row58 col0\" >59</td>\n",
       "                        <td id=\"T_85adeb38_1fd0_11ea_969f_482ae3057161row58_col1\" class=\"data row58 col1\" >112000</td>\n",
       "                        <td id=\"T_85adeb38_1fd0_11ea_969f_482ae3057161row58_col2\" class=\"data row58 col2\" >13</td>\n",
       "                        <td id=\"T_85adeb38_1fd0_11ea_969f_482ae3057161row58_col3\" class=\"data row58 col3\" >222</td>\n",
       "                        <td id=\"T_85adeb38_1fd0_11ea_969f_482ae3057161row58_col4\" class=\"data row58 col4\" >male</td>\n",
       "                        <td id=\"T_85adeb38_1fd0_11ea_969f_482ae3057161row58_col5\" class=\"data row58 col5\" >22</td>\n",
       "                        <td id=\"T_85adeb38_1fd0_11ea_969f_482ae3057161row58_col6\" class=\"data row58 col6\" >beginner</td>\n",
       "                        <td id=\"T_85adeb38_1fd0_11ea_969f_482ae3057161row58_col7\" class=\"data row58 col7\" >56</td>\n",
       "            </tr>\n",
       "            <tr>\n",
       "                                <td id=\"T_85adeb38_1fd0_11ea_969f_482ae3057161row59_col0\" class=\"data row59 col0\" >60</td>\n",
       "                        <td id=\"T_85adeb38_1fd0_11ea_969f_482ae3057161row59_col1\" class=\"data row59 col1\" >143500</td>\n",
       "                        <td id=\"T_85adeb38_1fd0_11ea_969f_482ae3057161row59_col2\" class=\"data row59 col2\" >15</td>\n",
       "                        <td id=\"T_85adeb38_1fd0_11ea_969f_482ae3057161row59_col3\" class=\"data row59 col3\" >285</td>\n",
       "                        <td id=\"T_85adeb38_1fd0_11ea_969f_482ae3057161row59_col4\" class=\"data row59 col4\" >male</td>\n",
       "                        <td id=\"T_85adeb38_1fd0_11ea_969f_482ae3057161row59_col5\" class=\"data row59 col5\" >42</td>\n",
       "                        <td id=\"T_85adeb38_1fd0_11ea_969f_482ae3057161row59_col6\" class=\"data row59 col6\" >intermediate</td>\n",
       "                        <td id=\"T_85adeb38_1fd0_11ea_969f_482ae3057161row59_col7\" class=\"data row59 col7\" >52</td>\n",
       "            </tr>\n",
       "            <tr>\n",
       "                                <td id=\"T_85adeb38_1fd0_11ea_969f_482ae3057161row60_col0\" class=\"data row60 col0\" >61</td>\n",
       "                        <td id=\"T_85adeb38_1fd0_11ea_969f_482ae3057161row60_col1\" class=\"data row60 col1\" >89000</td>\n",
       "                        <td id=\"T_85adeb38_1fd0_11ea_969f_482ae3057161row60_col2\" class=\"data row60 col2\" >16</td>\n",
       "                        <td id=\"T_85adeb38_1fd0_11ea_969f_482ae3057161row60_col3\" class=\"data row60 col3\" >176</td>\n",
       "                        <td id=\"T_85adeb38_1fd0_11ea_969f_482ae3057161row60_col4\" class=\"data row60 col4\" >male</td>\n",
       "                        <td id=\"T_85adeb38_1fd0_11ea_969f_482ae3057161row60_col5\" class=\"data row60 col5\" >67</td>\n",
       "                        <td id=\"T_85adeb38_1fd0_11ea_969f_482ae3057161row60_col6\" class=\"data row60 col6\" >intermediate</td>\n",
       "                        <td id=\"T_85adeb38_1fd0_11ea_969f_482ae3057161row60_col7\" class=\"data row60 col7\" >38</td>\n",
       "            </tr>\n",
       "            <tr>\n",
       "                                <td id=\"T_85adeb38_1fd0_11ea_969f_482ae3057161row61_col0\" class=\"data row61 col0\" >62</td>\n",
       "                        <td id=\"T_85adeb38_1fd0_11ea_969f_482ae3057161row61_col1\" class=\"data row61 col1\" >86500</td>\n",
       "                        <td id=\"T_85adeb38_1fd0_11ea_969f_482ae3057161row61_col2\" class=\"data row61 col2\" >13</td>\n",
       "                        <td id=\"T_85adeb38_1fd0_11ea_969f_482ae3057161row61_col3\" class=\"data row61 col3\" >171</td>\n",
       "                        <td id=\"T_85adeb38_1fd0_11ea_969f_482ae3057161row61_col4\" class=\"data row61 col4\" >male</td>\n",
       "                        <td id=\"T_85adeb38_1fd0_11ea_969f_482ae3057161row61_col5\" class=\"data row61 col5\" >61</td>\n",
       "                        <td id=\"T_85adeb38_1fd0_11ea_969f_482ae3057161row61_col6\" class=\"data row61 col6\" >advanced</td>\n",
       "                        <td id=\"T_85adeb38_1fd0_11ea_969f_482ae3057161row61_col7\" class=\"data row61 col7\" >39</td>\n",
       "            </tr>\n",
       "            <tr>\n",
       "                                <td id=\"T_85adeb38_1fd0_11ea_969f_482ae3057161row62_col0\" class=\"data row62 col0\" >63</td>\n",
       "                        <td id=\"T_85adeb38_1fd0_11ea_969f_482ae3057161row62_col1\" class=\"data row62 col1\" >127000</td>\n",
       "                        <td id=\"T_85adeb38_1fd0_11ea_969f_482ae3057161row62_col2\" class=\"data row62 col2\" >15</td>\n",
       "                        <td id=\"T_85adeb38_1fd0_11ea_969f_482ae3057161row62_col3\" class=\"data row62 col3\" >252</td>\n",
       "                        <td id=\"T_85adeb38_1fd0_11ea_969f_482ae3057161row62_col4\" class=\"data row62 col4\" >male</td>\n",
       "                        <td id=\"T_85adeb38_1fd0_11ea_969f_482ae3057161row62_col5\" class=\"data row62 col5\" >30</td>\n",
       "                        <td id=\"T_85adeb38_1fd0_11ea_969f_482ae3057161row62_col6\" class=\"data row62 col6\" >beginner</td>\n",
       "                        <td id=\"T_85adeb38_1fd0_11ea_969f_482ae3057161row62_col7\" class=\"data row62 col7\" >59</td>\n",
       "            </tr>\n",
       "            <tr>\n",
       "                                <td id=\"T_85adeb38_1fd0_11ea_969f_482ae3057161row63_col0\" class=\"data row63 col0\" >64</td>\n",
       "                        <td id=\"T_85adeb38_1fd0_11ea_969f_482ae3057161row63_col1\" class=\"data row63 col1\" >149500</td>\n",
       "                        <td id=\"T_85adeb38_1fd0_11ea_969f_482ae3057161row63_col2\" class=\"data row63 col2\" >13</td>\n",
       "                        <td id=\"T_85adeb38_1fd0_11ea_969f_482ae3057161row63_col3\" class=\"data row63 col3\" >297</td>\n",
       "                        <td id=\"T_85adeb38_1fd0_11ea_969f_482ae3057161row63_col4\" class=\"data row63 col4\" >male</td>\n",
       "                        <td id=\"T_85adeb38_1fd0_11ea_969f_482ae3057161row63_col5\" class=\"data row63 col5\" >44</td>\n",
       "                        <td id=\"T_85adeb38_1fd0_11ea_969f_482ae3057161row63_col6\" class=\"data row63 col6\" >beginner</td>\n",
       "                        <td id=\"T_85adeb38_1fd0_11ea_969f_482ae3057161row63_col7\" class=\"data row63 col7\" >52</td>\n",
       "            </tr>\n",
       "            <tr>\n",
       "                                <td id=\"T_85adeb38_1fd0_11ea_969f_482ae3057161row64_col0\" class=\"data row64 col0\" >65</td>\n",
       "                        <td id=\"T_85adeb38_1fd0_11ea_969f_482ae3057161row64_col1\" class=\"data row64 col1\" >146000</td>\n",
       "                        <td id=\"T_85adeb38_1fd0_11ea_969f_482ae3057161row64_col2\" class=\"data row64 col2\" >15</td>\n",
       "                        <td id=\"T_85adeb38_1fd0_11ea_969f_482ae3057161row64_col3\" class=\"data row64 col3\" >290</td>\n",
       "                        <td id=\"T_85adeb38_1fd0_11ea_969f_482ae3057161row64_col4\" class=\"data row64 col4\" >male</td>\n",
       "                        <td id=\"T_85adeb38_1fd0_11ea_969f_482ae3057161row64_col5\" class=\"data row64 col5\" >70</td>\n",
       "                        <td id=\"T_85adeb38_1fd0_11ea_969f_482ae3057161row64_col6\" class=\"data row64 col6\" >intermediate</td>\n",
       "                        <td id=\"T_85adeb38_1fd0_11ea_969f_482ae3057161row64_col7\" class=\"data row64 col7\" >46</td>\n",
       "            </tr>\n",
       "            <tr>\n",
       "                                <td id=\"T_85adeb38_1fd0_11ea_969f_482ae3057161row65_col0\" class=\"data row65 col0\" >66</td>\n",
       "                        <td id=\"T_85adeb38_1fd0_11ea_969f_482ae3057161row65_col1\" class=\"data row65 col1\" >147500</td>\n",
       "                        <td id=\"T_85adeb38_1fd0_11ea_969f_482ae3057161row65_col2\" class=\"data row65 col2\" >18</td>\n",
       "                        <td id=\"T_85adeb38_1fd0_11ea_969f_482ae3057161row65_col3\" class=\"data row65 col3\" >293</td>\n",
       "                        <td id=\"T_85adeb38_1fd0_11ea_969f_482ae3057161row65_col4\" class=\"data row65 col4\" >male</td>\n",
       "                        <td id=\"T_85adeb38_1fd0_11ea_969f_482ae3057161row65_col5\" class=\"data row65 col5\" >34</td>\n",
       "                        <td id=\"T_85adeb38_1fd0_11ea_969f_482ae3057161row65_col6\" class=\"data row65 col6\" >advanced</td>\n",
       "                        <td id=\"T_85adeb38_1fd0_11ea_969f_482ae3057161row65_col7\" class=\"data row65 col7\" >47</td>\n",
       "            </tr>\n",
       "            <tr>\n",
       "                                <td id=\"T_85adeb38_1fd0_11ea_969f_482ae3057161row66_col0\" class=\"data row66 col0\" >67</td>\n",
       "                        <td id=\"T_85adeb38_1fd0_11ea_969f_482ae3057161row66_col1\" class=\"data row66 col1\" >101500</td>\n",
       "                        <td id=\"T_85adeb38_1fd0_11ea_969f_482ae3057161row66_col2\" class=\"data row66 col2\" >18</td>\n",
       "                        <td id=\"T_85adeb38_1fd0_11ea_969f_482ae3057161row66_col3\" class=\"data row66 col3\" >201</td>\n",
       "                        <td id=\"T_85adeb38_1fd0_11ea_969f_482ae3057161row66_col4\" class=\"data row66 col4\" >male</td>\n",
       "                        <td id=\"T_85adeb38_1fd0_11ea_969f_482ae3057161row66_col5\" class=\"data row66 col5\" >63</td>\n",
       "                        <td id=\"T_85adeb38_1fd0_11ea_969f_482ae3057161row66_col6\" class=\"data row66 col6\" >advanced</td>\n",
       "                        <td id=\"T_85adeb38_1fd0_11ea_969f_482ae3057161row66_col7\" class=\"data row66 col7\" >55</td>\n",
       "            </tr>\n",
       "            <tr>\n",
       "                                <td id=\"T_85adeb38_1fd0_11ea_969f_482ae3057161row67_col0\" class=\"data row67 col0\" >68</td>\n",
       "                        <td id=\"T_85adeb38_1fd0_11ea_969f_482ae3057161row67_col1\" class=\"data row67 col1\" >110500</td>\n",
       "                        <td id=\"T_85adeb38_1fd0_11ea_969f_482ae3057161row67_col2\" class=\"data row67 col2\" >12</td>\n",
       "                        <td id=\"T_85adeb38_1fd0_11ea_969f_482ae3057161row67_col3\" class=\"data row67 col3\" >219</td>\n",
       "                        <td id=\"T_85adeb38_1fd0_11ea_969f_482ae3057161row67_col4\" class=\"data row67 col4\" >male</td>\n",
       "                        <td id=\"T_85adeb38_1fd0_11ea_969f_482ae3057161row67_col5\" class=\"data row67 col5\" >69</td>\n",
       "                        <td id=\"T_85adeb38_1fd0_11ea_969f_482ae3057161row67_col6\" class=\"data row67 col6\" >intermediate</td>\n",
       "                        <td id=\"T_85adeb38_1fd0_11ea_969f_482ae3057161row67_col7\" class=\"data row67 col7\" >51</td>\n",
       "            </tr>\n",
       "            <tr>\n",
       "                                <td id=\"T_85adeb38_1fd0_11ea_969f_482ae3057161row68_col0\" class=\"data row68 col0\" >69</td>\n",
       "                        <td id=\"T_85adeb38_1fd0_11ea_969f_482ae3057161row68_col1\" class=\"data row68 col1\" >124500</td>\n",
       "                        <td id=\"T_85adeb38_1fd0_11ea_969f_482ae3057161row68_col2\" class=\"data row68 col2\" >18</td>\n",
       "                        <td id=\"T_85adeb38_1fd0_11ea_969f_482ae3057161row68_col3\" class=\"data row68 col3\" >247</td>\n",
       "                        <td id=\"T_85adeb38_1fd0_11ea_969f_482ae3057161row68_col4\" class=\"data row68 col4\" >male</td>\n",
       "                        <td id=\"T_85adeb38_1fd0_11ea_969f_482ae3057161row68_col5\" class=\"data row68 col5\" >59</td>\n",
       "                        <td id=\"T_85adeb38_1fd0_11ea_969f_482ae3057161row68_col6\" class=\"data row68 col6\" >beginner</td>\n",
       "                        <td id=\"T_85adeb38_1fd0_11ea_969f_482ae3057161row68_col7\" class=\"data row68 col7\" >48</td>\n",
       "            </tr>\n",
       "            <tr>\n",
       "                                <td id=\"T_85adeb38_1fd0_11ea_969f_482ae3057161row69_col0\" class=\"data row69 col0\" >70</td>\n",
       "                        <td id=\"T_85adeb38_1fd0_11ea_969f_482ae3057161row69_col1\" class=\"data row69 col1\" >119500</td>\n",
       "                        <td id=\"T_85adeb38_1fd0_11ea_969f_482ae3057161row69_col2\" class=\"data row69 col2\" >11</td>\n",
       "                        <td id=\"T_85adeb38_1fd0_11ea_969f_482ae3057161row69_col3\" class=\"data row69 col3\" >237</td>\n",
       "                        <td id=\"T_85adeb38_1fd0_11ea_969f_482ae3057161row69_col4\" class=\"data row69 col4\" >male</td>\n",
       "                        <td id=\"T_85adeb38_1fd0_11ea_969f_482ae3057161row69_col5\" class=\"data row69 col5\" >36</td>\n",
       "                        <td id=\"T_85adeb38_1fd0_11ea_969f_482ae3057161row69_col6\" class=\"data row69 col6\" >advanced</td>\n",
       "                        <td id=\"T_85adeb38_1fd0_11ea_969f_482ae3057161row69_col7\" class=\"data row69 col7\" >54</td>\n",
       "            </tr>\n",
       "            <tr>\n",
       "                                <td id=\"T_85adeb38_1fd0_11ea_969f_482ae3057161row70_col0\" class=\"data row70 col0\" >71</td>\n",
       "                        <td id=\"T_85adeb38_1fd0_11ea_969f_482ae3057161row70_col1\" class=\"data row70 col1\" >147000</td>\n",
       "                        <td id=\"T_85adeb38_1fd0_11ea_969f_482ae3057161row70_col2\" class=\"data row70 col2\" >17</td>\n",
       "                        <td id=\"T_85adeb38_1fd0_11ea_969f_482ae3057161row70_col3\" class=\"data row70 col3\" >292</td>\n",
       "                        <td id=\"T_85adeb38_1fd0_11ea_969f_482ae3057161row70_col4\" class=\"data row70 col4\" >male</td>\n",
       "                        <td id=\"T_85adeb38_1fd0_11ea_969f_482ae3057161row70_col5\" class=\"data row70 col5\" >33</td>\n",
       "                        <td id=\"T_85adeb38_1fd0_11ea_969f_482ae3057161row70_col6\" class=\"data row70 col6\" >intermediate</td>\n",
       "                        <td id=\"T_85adeb38_1fd0_11ea_969f_482ae3057161row70_col7\" class=\"data row70 col7\" >44</td>\n",
       "            </tr>\n",
       "            <tr>\n",
       "                                <td id=\"T_85adeb38_1fd0_11ea_969f_482ae3057161row71_col0\" class=\"data row71 col0\" >72</td>\n",
       "                        <td id=\"T_85adeb38_1fd0_11ea_969f_482ae3057161row71_col1\" class=\"data row71 col1\" >145000</td>\n",
       "                        <td id=\"T_85adeb38_1fd0_11ea_969f_482ae3057161row71_col2\" class=\"data row71 col2\" >18</td>\n",
       "                        <td id=\"T_85adeb38_1fd0_11ea_969f_482ae3057161row71_col3\" class=\"data row71 col3\" >288</td>\n",
       "                        <td id=\"T_85adeb38_1fd0_11ea_969f_482ae3057161row71_col4\" class=\"data row71 col4\" >female</td>\n",
       "                        <td id=\"T_85adeb38_1fd0_11ea_969f_482ae3057161row71_col5\" class=\"data row71 col5\" >18</td>\n",
       "                        <td id=\"T_85adeb38_1fd0_11ea_969f_482ae3057161row71_col6\" class=\"data row71 col6\" >advanced</td>\n",
       "                        <td id=\"T_85adeb38_1fd0_11ea_969f_482ae3057161row71_col7\" class=\"data row71 col7\" >53</td>\n",
       "            </tr>\n",
       "            <tr>\n",
       "                                <td id=\"T_85adeb38_1fd0_11ea_969f_482ae3057161row72_col0\" class=\"data row72 col0\" >73</td>\n",
       "                        <td id=\"T_85adeb38_1fd0_11ea_969f_482ae3057161row72_col1\" class=\"data row72 col1\" >80000</td>\n",
       "                        <td id=\"T_85adeb38_1fd0_11ea_969f_482ae3057161row72_col2\" class=\"data row72 col2\" >17</td>\n",
       "                        <td id=\"T_85adeb38_1fd0_11ea_969f_482ae3057161row72_col3\" class=\"data row72 col3\" >158</td>\n",
       "                        <td id=\"T_85adeb38_1fd0_11ea_969f_482ae3057161row72_col4\" class=\"data row72 col4\" >female</td>\n",
       "                        <td id=\"T_85adeb38_1fd0_11ea_969f_482ae3057161row72_col5\" class=\"data row72 col5\" >22</td>\n",
       "                        <td id=\"T_85adeb38_1fd0_11ea_969f_482ae3057161row72_col6\" class=\"data row72 col6\" >intermediate</td>\n",
       "                        <td id=\"T_85adeb38_1fd0_11ea_969f_482ae3057161row72_col7\" class=\"data row72 col7\" >50</td>\n",
       "            </tr>\n",
       "            <tr>\n",
       "                                <td id=\"T_85adeb38_1fd0_11ea_969f_482ae3057161row73_col0\" class=\"data row73 col0\" >74</td>\n",
       "                        <td id=\"T_85adeb38_1fd0_11ea_969f_482ae3057161row73_col1\" class=\"data row73 col1\" >108000</td>\n",
       "                        <td id=\"T_85adeb38_1fd0_11ea_969f_482ae3057161row73_col2\" class=\"data row73 col2\" >12</td>\n",
       "                        <td id=\"T_85adeb38_1fd0_11ea_969f_482ae3057161row73_col3\" class=\"data row73 col3\" >214</td>\n",
       "                        <td id=\"T_85adeb38_1fd0_11ea_969f_482ae3057161row73_col4\" class=\"data row73 col4\" >male</td>\n",
       "                        <td id=\"T_85adeb38_1fd0_11ea_969f_482ae3057161row73_col5\" class=\"data row73 col5\" >43</td>\n",
       "                        <td id=\"T_85adeb38_1fd0_11ea_969f_482ae3057161row73_col6\" class=\"data row73 col6\" >beginner</td>\n",
       "                        <td id=\"T_85adeb38_1fd0_11ea_969f_482ae3057161row73_col7\" class=\"data row73 col7\" >35</td>\n",
       "            </tr>\n",
       "            <tr>\n",
       "                                <td id=\"T_85adeb38_1fd0_11ea_969f_482ae3057161row74_col0\" class=\"data row74 col0\" >75</td>\n",
       "                        <td id=\"T_85adeb38_1fd0_11ea_969f_482ae3057161row74_col1\" class=\"data row74 col1\" >107000</td>\n",
       "                        <td id=\"T_85adeb38_1fd0_11ea_969f_482ae3057161row74_col2\" class=\"data row74 col2\" >11</td>\n",
       "                        <td id=\"T_85adeb38_1fd0_11ea_969f_482ae3057161row74_col3\" class=\"data row74 col3\" >212</td>\n",
       "                        <td id=\"T_85adeb38_1fd0_11ea_969f_482ae3057161row74_col4\" class=\"data row74 col4\" >male</td>\n",
       "                        <td id=\"T_85adeb38_1fd0_11ea_969f_482ae3057161row74_col5\" class=\"data row74 col5\" >65</td>\n",
       "                        <td id=\"T_85adeb38_1fd0_11ea_969f_482ae3057161row74_col6\" class=\"data row74 col6\" >intermediate</td>\n",
       "                        <td id=\"T_85adeb38_1fd0_11ea_969f_482ae3057161row74_col7\" class=\"data row74 col7\" >39</td>\n",
       "            </tr>\n",
       "            <tr>\n",
       "                                <td id=\"T_85adeb38_1fd0_11ea_969f_482ae3057161row75_col0\" class=\"data row75 col0\" >76</td>\n",
       "                        <td id=\"T_85adeb38_1fd0_11ea_969f_482ae3057161row75_col1\" class=\"data row75 col1\" >87500</td>\n",
       "                        <td id=\"T_85adeb38_1fd0_11ea_969f_482ae3057161row75_col2\" class=\"data row75 col2\" >12</td>\n",
       "                        <td id=\"T_85adeb38_1fd0_11ea_969f_482ae3057161row75_col3\" class=\"data row75 col3\" >173</td>\n",
       "                        <td id=\"T_85adeb38_1fd0_11ea_969f_482ae3057161row75_col4\" class=\"data row75 col4\" >male</td>\n",
       "                        <td id=\"T_85adeb38_1fd0_11ea_969f_482ae3057161row75_col5\" class=\"data row75 col5\" >52</td>\n",
       "                        <td id=\"T_85adeb38_1fd0_11ea_969f_482ae3057161row75_col6\" class=\"data row75 col6\" >intermediate</td>\n",
       "                        <td id=\"T_85adeb38_1fd0_11ea_969f_482ae3057161row75_col7\" class=\"data row75 col7\" >50</td>\n",
       "            </tr>\n",
       "            <tr>\n",
       "                                <td id=\"T_85adeb38_1fd0_11ea_969f_482ae3057161row76_col0\" class=\"data row76 col0\" >77</td>\n",
       "                        <td id=\"T_85adeb38_1fd0_11ea_969f_482ae3057161row76_col1\" class=\"data row76 col1\" >105000</td>\n",
       "                        <td id=\"T_85adeb38_1fd0_11ea_969f_482ae3057161row76_col2\" class=\"data row76 col2\" >19</td>\n",
       "                        <td id=\"T_85adeb38_1fd0_11ea_969f_482ae3057161row76_col3\" class=\"data row76 col3\" >208</td>\n",
       "                        <td id=\"T_85adeb38_1fd0_11ea_969f_482ae3057161row76_col4\" class=\"data row76 col4\" >male</td>\n",
       "                        <td id=\"T_85adeb38_1fd0_11ea_969f_482ae3057161row76_col5\" class=\"data row76 col5\" >41</td>\n",
       "                        <td id=\"T_85adeb38_1fd0_11ea_969f_482ae3057161row76_col6\" class=\"data row76 col6\" >advanced</td>\n",
       "                        <td id=\"T_85adeb38_1fd0_11ea_969f_482ae3057161row76_col7\" class=\"data row76 col7\" >37</td>\n",
       "            </tr>\n",
       "            <tr>\n",
       "                                <td id=\"T_85adeb38_1fd0_11ea_969f_482ae3057161row77_col0\" class=\"data row77 col0\" >78</td>\n",
       "                        <td id=\"T_85adeb38_1fd0_11ea_969f_482ae3057161row77_col1\" class=\"data row77 col1\" >77000</td>\n",
       "                        <td id=\"T_85adeb38_1fd0_11ea_969f_482ae3057161row77_col2\" class=\"data row77 col2\" >19</td>\n",
       "                        <td id=\"T_85adeb38_1fd0_11ea_969f_482ae3057161row77_col3\" class=\"data row77 col3\" >152</td>\n",
       "                        <td id=\"T_85adeb38_1fd0_11ea_969f_482ae3057161row77_col4\" class=\"data row77 col4\" >male</td>\n",
       "                        <td id=\"T_85adeb38_1fd0_11ea_969f_482ae3057161row77_col5\" class=\"data row77 col5\" >25</td>\n",
       "                        <td id=\"T_85adeb38_1fd0_11ea_969f_482ae3057161row77_col6\" class=\"data row77 col6\" >beginner</td>\n",
       "                        <td id=\"T_85adeb38_1fd0_11ea_969f_482ae3057161row77_col7\" class=\"data row77 col7\" >58</td>\n",
       "            </tr>\n",
       "            <tr>\n",
       "                                <td id=\"T_85adeb38_1fd0_11ea_969f_482ae3057161row78_col0\" class=\"data row78 col0\" >79</td>\n",
       "                        <td id=\"T_85adeb38_1fd0_11ea_969f_482ae3057161row78_col1\" class=\"data row78 col1\" >140500</td>\n",
       "                        <td id=\"T_85adeb38_1fd0_11ea_969f_482ae3057161row78_col2\" class=\"data row78 col2\" >14</td>\n",
       "                        <td id=\"T_85adeb38_1fd0_11ea_969f_482ae3057161row78_col3\" class=\"data row78 col3\" >279</td>\n",
       "                        <td id=\"T_85adeb38_1fd0_11ea_969f_482ae3057161row78_col4\" class=\"data row78 col4\" >male</td>\n",
       "                        <td id=\"T_85adeb38_1fd0_11ea_969f_482ae3057161row78_col5\" class=\"data row78 col5\" >44</td>\n",
       "                        <td id=\"T_85adeb38_1fd0_11ea_969f_482ae3057161row78_col6\" class=\"data row78 col6\" >beginner</td>\n",
       "                        <td id=\"T_85adeb38_1fd0_11ea_969f_482ae3057161row78_col7\" class=\"data row78 col7\" >42</td>\n",
       "            </tr>\n",
       "            <tr>\n",
       "                                <td id=\"T_85adeb38_1fd0_11ea_969f_482ae3057161row79_col0\" class=\"data row79 col0\" >80</td>\n",
       "                        <td id=\"T_85adeb38_1fd0_11ea_969f_482ae3057161row79_col1\" class=\"data row79 col1\" >106500</td>\n",
       "                        <td id=\"T_85adeb38_1fd0_11ea_969f_482ae3057161row79_col2\" class=\"data row79 col2\" >19</td>\n",
       "                        <td id=\"T_85adeb38_1fd0_11ea_969f_482ae3057161row79_col3\" class=\"data row79 col3\" >211</td>\n",
       "                        <td id=\"T_85adeb38_1fd0_11ea_969f_482ae3057161row79_col4\" class=\"data row79 col4\" >male</td>\n",
       "                        <td id=\"T_85adeb38_1fd0_11ea_969f_482ae3057161row79_col5\" class=\"data row79 col5\" >43</td>\n",
       "                        <td id=\"T_85adeb38_1fd0_11ea_969f_482ae3057161row79_col6\" class=\"data row79 col6\" >advanced</td>\n",
       "                        <td id=\"T_85adeb38_1fd0_11ea_969f_482ae3057161row79_col7\" class=\"data row79 col7\" >43</td>\n",
       "            </tr>\n",
       "            <tr>\n",
       "                                <td id=\"T_85adeb38_1fd0_11ea_969f_482ae3057161row80_col0\" class=\"data row80 col0\" >81</td>\n",
       "                        <td id=\"T_85adeb38_1fd0_11ea_969f_482ae3057161row80_col1\" class=\"data row80 col1\" >80500</td>\n",
       "                        <td id=\"T_85adeb38_1fd0_11ea_969f_482ae3057161row80_col2\" class=\"data row80 col2\" >18</td>\n",
       "                        <td id=\"T_85adeb38_1fd0_11ea_969f_482ae3057161row80_col3\" class=\"data row80 col3\" >159</td>\n",
       "                        <td id=\"T_85adeb38_1fd0_11ea_969f_482ae3057161row80_col4\" class=\"data row80 col4\" >male</td>\n",
       "                        <td id=\"T_85adeb38_1fd0_11ea_969f_482ae3057161row80_col5\" class=\"data row80 col5\" >58</td>\n",
       "                        <td id=\"T_85adeb38_1fd0_11ea_969f_482ae3057161row80_col6\" class=\"data row80 col6\" >advanced</td>\n",
       "                        <td id=\"T_85adeb38_1fd0_11ea_969f_482ae3057161row80_col7\" class=\"data row80 col7\" >57</td>\n",
       "            </tr>\n",
       "            <tr>\n",
       "                                <td id=\"T_85adeb38_1fd0_11ea_969f_482ae3057161row81_col0\" class=\"data row81 col0\" >82</td>\n",
       "                        <td id=\"T_85adeb38_1fd0_11ea_969f_482ae3057161row81_col1\" class=\"data row81 col1\" >147000</td>\n",
       "                        <td id=\"T_85adeb38_1fd0_11ea_969f_482ae3057161row81_col2\" class=\"data row81 col2\" >14</td>\n",
       "                        <td id=\"T_85adeb38_1fd0_11ea_969f_482ae3057161row81_col3\" class=\"data row81 col3\" >292</td>\n",
       "                        <td id=\"T_85adeb38_1fd0_11ea_969f_482ae3057161row81_col4\" class=\"data row81 col4\" >male</td>\n",
       "                        <td id=\"T_85adeb38_1fd0_11ea_969f_482ae3057161row81_col5\" class=\"data row81 col5\" >40</td>\n",
       "                        <td id=\"T_85adeb38_1fd0_11ea_969f_482ae3057161row81_col6\" class=\"data row81 col6\" >intermediate</td>\n",
       "                        <td id=\"T_85adeb38_1fd0_11ea_969f_482ae3057161row81_col7\" class=\"data row81 col7\" >44</td>\n",
       "            </tr>\n",
       "            <tr>\n",
       "                                <td id=\"T_85adeb38_1fd0_11ea_969f_482ae3057161row82_col0\" class=\"data row82 col0\" >83</td>\n",
       "                        <td id=\"T_85adeb38_1fd0_11ea_969f_482ae3057161row82_col1\" class=\"data row82 col1\" >134000</td>\n",
       "                        <td id=\"T_85adeb38_1fd0_11ea_969f_482ae3057161row82_col2\" class=\"data row82 col2\" >17</td>\n",
       "                        <td id=\"T_85adeb38_1fd0_11ea_969f_482ae3057161row82_col3\" class=\"data row82 col3\" >266</td>\n",
       "                        <td id=\"T_85adeb38_1fd0_11ea_969f_482ae3057161row82_col4\" class=\"data row82 col4\" >male</td>\n",
       "                        <td id=\"T_85adeb38_1fd0_11ea_969f_482ae3057161row82_col5\" class=\"data row82 col5\" >27</td>\n",
       "                        <td id=\"T_85adeb38_1fd0_11ea_969f_482ae3057161row82_col6\" class=\"data row82 col6\" >beginner</td>\n",
       "                        <td id=\"T_85adeb38_1fd0_11ea_969f_482ae3057161row82_col7\" class=\"data row82 col7\" >38</td>\n",
       "            </tr>\n",
       "            <tr>\n",
       "                                <td id=\"T_85adeb38_1fd0_11ea_969f_482ae3057161row83_col0\" class=\"data row83 col0\" >84</td>\n",
       "                        <td id=\"T_85adeb38_1fd0_11ea_969f_482ae3057161row83_col1\" class=\"data row83 col1\" >137000</td>\n",
       "                        <td id=\"T_85adeb38_1fd0_11ea_969f_482ae3057161row83_col2\" class=\"data row83 col2\" >16</td>\n",
       "                        <td id=\"T_85adeb38_1fd0_11ea_969f_482ae3057161row83_col3\" class=\"data row83 col3\" >272</td>\n",
       "                        <td id=\"T_85adeb38_1fd0_11ea_969f_482ae3057161row83_col4\" class=\"data row83 col4\" >male</td>\n",
       "                        <td id=\"T_85adeb38_1fd0_11ea_969f_482ae3057161row83_col5\" class=\"data row83 col5\" >21</td>\n",
       "                        <td id=\"T_85adeb38_1fd0_11ea_969f_482ae3057161row83_col6\" class=\"data row83 col6\" >advanced</td>\n",
       "                        <td id=\"T_85adeb38_1fd0_11ea_969f_482ae3057161row83_col7\" class=\"data row83 col7\" >42</td>\n",
       "            </tr>\n",
       "            <tr>\n",
       "                                <td id=\"T_85adeb38_1fd0_11ea_969f_482ae3057161row84_col0\" class=\"data row84 col0\" >85</td>\n",
       "                        <td id=\"T_85adeb38_1fd0_11ea_969f_482ae3057161row84_col1\" class=\"data row84 col1\" >91500</td>\n",
       "                        <td id=\"T_85adeb38_1fd0_11ea_969f_482ae3057161row84_col2\" class=\"data row84 col2\" >12</td>\n",
       "                        <td id=\"T_85adeb38_1fd0_11ea_969f_482ae3057161row84_col3\" class=\"data row84 col3\" >181</td>\n",
       "                        <td id=\"T_85adeb38_1fd0_11ea_969f_482ae3057161row84_col4\" class=\"data row84 col4\" >male</td>\n",
       "                        <td id=\"T_85adeb38_1fd0_11ea_969f_482ae3057161row84_col5\" class=\"data row84 col5\" >57</td>\n",
       "                        <td id=\"T_85adeb38_1fd0_11ea_969f_482ae3057161row84_col6\" class=\"data row84 col6\" >advanced</td>\n",
       "                        <td id=\"T_85adeb38_1fd0_11ea_969f_482ae3057161row84_col7\" class=\"data row84 col7\" >58</td>\n",
       "            </tr>\n",
       "            <tr>\n",
       "                                <td id=\"T_85adeb38_1fd0_11ea_969f_482ae3057161row85_col0\" class=\"data row85 col0\" >86</td>\n",
       "                        <td id=\"T_85adeb38_1fd0_11ea_969f_482ae3057161row85_col1\" class=\"data row85 col1\" >112000</td>\n",
       "                        <td id=\"T_85adeb38_1fd0_11ea_969f_482ae3057161row85_col2\" class=\"data row85 col2\" >14</td>\n",
       "                        <td id=\"T_85adeb38_1fd0_11ea_969f_482ae3057161row85_col3\" class=\"data row85 col3\" >222</td>\n",
       "                        <td id=\"T_85adeb38_1fd0_11ea_969f_482ae3057161row85_col4\" class=\"data row85 col4\" >male</td>\n",
       "                        <td id=\"T_85adeb38_1fd0_11ea_969f_482ae3057161row85_col5\" class=\"data row85 col5\" >41</td>\n",
       "                        <td id=\"T_85adeb38_1fd0_11ea_969f_482ae3057161row85_col6\" class=\"data row85 col6\" >advanced</td>\n",
       "                        <td id=\"T_85adeb38_1fd0_11ea_969f_482ae3057161row85_col7\" class=\"data row85 col7\" >39</td>\n",
       "            </tr>\n",
       "            <tr>\n",
       "                                <td id=\"T_85adeb38_1fd0_11ea_969f_482ae3057161row86_col0\" class=\"data row86 col0\" >87</td>\n",
       "                        <td id=\"T_85adeb38_1fd0_11ea_969f_482ae3057161row86_col1\" class=\"data row86 col1\" >142000</td>\n",
       "                        <td id=\"T_85adeb38_1fd0_11ea_969f_482ae3057161row86_col2\" class=\"data row86 col2\" >15</td>\n",
       "                        <td id=\"T_85adeb38_1fd0_11ea_969f_482ae3057161row86_col3\" class=\"data row86 col3\" >282</td>\n",
       "                        <td id=\"T_85adeb38_1fd0_11ea_969f_482ae3057161row86_col4\" class=\"data row86 col4\" >male</td>\n",
       "                        <td id=\"T_85adeb38_1fd0_11ea_969f_482ae3057161row86_col5\" class=\"data row86 col5\" >54</td>\n",
       "                        <td id=\"T_85adeb38_1fd0_11ea_969f_482ae3057161row86_col6\" class=\"data row86 col6\" >beginner</td>\n",
       "                        <td id=\"T_85adeb38_1fd0_11ea_969f_482ae3057161row86_col7\" class=\"data row86 col7\" >40</td>\n",
       "            </tr>\n",
       "            <tr>\n",
       "                                <td id=\"T_85adeb38_1fd0_11ea_969f_482ae3057161row87_col0\" class=\"data row87 col0\" >88</td>\n",
       "                        <td id=\"T_85adeb38_1fd0_11ea_969f_482ae3057161row87_col1\" class=\"data row87 col1\" >101000</td>\n",
       "                        <td id=\"T_85adeb38_1fd0_11ea_969f_482ae3057161row87_col2\" class=\"data row87 col2\" >19</td>\n",
       "                        <td id=\"T_85adeb38_1fd0_11ea_969f_482ae3057161row87_col3\" class=\"data row87 col3\" >200</td>\n",
       "                        <td id=\"T_85adeb38_1fd0_11ea_969f_482ae3057161row87_col4\" class=\"data row87 col4\" >female</td>\n",
       "                        <td id=\"T_85adeb38_1fd0_11ea_969f_482ae3057161row87_col5\" class=\"data row87 col5\" >45</td>\n",
       "                        <td id=\"T_85adeb38_1fd0_11ea_969f_482ae3057161row87_col6\" class=\"data row87 col6\" >beginner</td>\n",
       "                        <td id=\"T_85adeb38_1fd0_11ea_969f_482ae3057161row87_col7\" class=\"data row87 col7\" >54</td>\n",
       "            </tr>\n",
       "            <tr>\n",
       "                                <td id=\"T_85adeb38_1fd0_11ea_969f_482ae3057161row88_col0\" class=\"data row88 col0\" >89</td>\n",
       "                        <td id=\"T_85adeb38_1fd0_11ea_969f_482ae3057161row88_col1\" class=\"data row88 col1\" >105000</td>\n",
       "                        <td id=\"T_85adeb38_1fd0_11ea_969f_482ae3057161row88_col2\" class=\"data row88 col2\" >12</td>\n",
       "                        <td id=\"T_85adeb38_1fd0_11ea_969f_482ae3057161row88_col3\" class=\"data row88 col3\" >208</td>\n",
       "                        <td id=\"T_85adeb38_1fd0_11ea_969f_482ae3057161row88_col4\" class=\"data row88 col4\" >male</td>\n",
       "                        <td id=\"T_85adeb38_1fd0_11ea_969f_482ae3057161row88_col5\" class=\"data row88 col5\" >55</td>\n",
       "                        <td id=\"T_85adeb38_1fd0_11ea_969f_482ae3057161row88_col6\" class=\"data row88 col6\" >intermediate</td>\n",
       "                        <td id=\"T_85adeb38_1fd0_11ea_969f_482ae3057161row88_col7\" class=\"data row88 col7\" >41</td>\n",
       "            </tr>\n",
       "            <tr>\n",
       "                                <td id=\"T_85adeb38_1fd0_11ea_969f_482ae3057161row89_col0\" class=\"data row89 col0\" >90</td>\n",
       "                        <td id=\"T_85adeb38_1fd0_11ea_969f_482ae3057161row89_col1\" class=\"data row89 col1\" >78000</td>\n",
       "                        <td id=\"T_85adeb38_1fd0_11ea_969f_482ae3057161row89_col2\" class=\"data row89 col2\" >15</td>\n",
       "                        <td id=\"T_85adeb38_1fd0_11ea_969f_482ae3057161row89_col3\" class=\"data row89 col3\" >154</td>\n",
       "                        <td id=\"T_85adeb38_1fd0_11ea_969f_482ae3057161row89_col4\" class=\"data row89 col4\" >male</td>\n",
       "                        <td id=\"T_85adeb38_1fd0_11ea_969f_482ae3057161row89_col5\" class=\"data row89 col5\" >37</td>\n",
       "                        <td id=\"T_85adeb38_1fd0_11ea_969f_482ae3057161row89_col6\" class=\"data row89 col6\" >intermediate</td>\n",
       "                        <td id=\"T_85adeb38_1fd0_11ea_969f_482ae3057161row89_col7\" class=\"data row89 col7\" >43</td>\n",
       "            </tr>\n",
       "            <tr>\n",
       "                                <td id=\"T_85adeb38_1fd0_11ea_969f_482ae3057161row90_col0\" class=\"data row90 col0\" >91</td>\n",
       "                        <td id=\"T_85adeb38_1fd0_11ea_969f_482ae3057161row90_col1\" class=\"data row90 col1\" >88500</td>\n",
       "                        <td id=\"T_85adeb38_1fd0_11ea_969f_482ae3057161row90_col2\" class=\"data row90 col2\" >11</td>\n",
       "                        <td id=\"T_85adeb38_1fd0_11ea_969f_482ae3057161row90_col3\" class=\"data row90 col3\" >175</td>\n",
       "                        <td id=\"T_85adeb38_1fd0_11ea_969f_482ae3057161row90_col4\" class=\"data row90 col4\" >male</td>\n",
       "                        <td id=\"T_85adeb38_1fd0_11ea_969f_482ae3057161row90_col5\" class=\"data row90 col5\" >56</td>\n",
       "                        <td id=\"T_85adeb38_1fd0_11ea_969f_482ae3057161row90_col6\" class=\"data row90 col6\" >intermediate</td>\n",
       "                        <td id=\"T_85adeb38_1fd0_11ea_969f_482ae3057161row90_col7\" class=\"data row90 col7\" >35</td>\n",
       "            </tr>\n",
       "            <tr>\n",
       "                                <td id=\"T_85adeb38_1fd0_11ea_969f_482ae3057161row91_col0\" class=\"data row91 col0\" >92</td>\n",
       "                        <td id=\"T_85adeb38_1fd0_11ea_969f_482ae3057161row91_col1\" class=\"data row91 col1\" >98000</td>\n",
       "                        <td id=\"T_85adeb38_1fd0_11ea_969f_482ae3057161row91_col2\" class=\"data row91 col2\" >14</td>\n",
       "                        <td id=\"T_85adeb38_1fd0_11ea_969f_482ae3057161row91_col3\" class=\"data row91 col3\" >194</td>\n",
       "                        <td id=\"T_85adeb38_1fd0_11ea_969f_482ae3057161row91_col4\" class=\"data row91 col4\" >male</td>\n",
       "                        <td id=\"T_85adeb38_1fd0_11ea_969f_482ae3057161row91_col5\" class=\"data row91 col5\" >26</td>\n",
       "                        <td id=\"T_85adeb38_1fd0_11ea_969f_482ae3057161row91_col6\" class=\"data row91 col6\" >beginner</td>\n",
       "                        <td id=\"T_85adeb38_1fd0_11ea_969f_482ae3057161row91_col7\" class=\"data row91 col7\" >37</td>\n",
       "            </tr>\n",
       "            <tr>\n",
       "                                <td id=\"T_85adeb38_1fd0_11ea_969f_482ae3057161row92_col0\" class=\"data row92 col0\" >93</td>\n",
       "                        <td id=\"T_85adeb38_1fd0_11ea_969f_482ae3057161row92_col1\" class=\"data row92 col1\" >114500</td>\n",
       "                        <td id=\"T_85adeb38_1fd0_11ea_969f_482ae3057161row92_col2\" class=\"data row92 col2\" >13</td>\n",
       "                        <td id=\"T_85adeb38_1fd0_11ea_969f_482ae3057161row92_col3\" class=\"data row92 col3\" >227</td>\n",
       "                        <td id=\"T_85adeb38_1fd0_11ea_969f_482ae3057161row92_col4\" class=\"data row92 col4\" >male</td>\n",
       "                        <td id=\"T_85adeb38_1fd0_11ea_969f_482ae3057161row92_col5\" class=\"data row92 col5\" >50</td>\n",
       "                        <td id=\"T_85adeb38_1fd0_11ea_969f_482ae3057161row92_col6\" class=\"data row92 col6\" >beginner</td>\n",
       "                        <td id=\"T_85adeb38_1fd0_11ea_969f_482ae3057161row92_col7\" class=\"data row92 col7\" >45</td>\n",
       "            </tr>\n",
       "            <tr>\n",
       "                                <td id=\"T_85adeb38_1fd0_11ea_969f_482ae3057161row93_col0\" class=\"data row93 col0\" >94</td>\n",
       "                        <td id=\"T_85adeb38_1fd0_11ea_969f_482ae3057161row93_col1\" class=\"data row93 col1\" >89500</td>\n",
       "                        <td id=\"T_85adeb38_1fd0_11ea_969f_482ae3057161row93_col2\" class=\"data row93 col2\" >11</td>\n",
       "                        <td id=\"T_85adeb38_1fd0_11ea_969f_482ae3057161row93_col3\" class=\"data row93 col3\" >177</td>\n",
       "                        <td id=\"T_85adeb38_1fd0_11ea_969f_482ae3057161row93_col4\" class=\"data row93 col4\" >male</td>\n",
       "                        <td id=\"T_85adeb38_1fd0_11ea_969f_482ae3057161row93_col5\" class=\"data row93 col5\" >52</td>\n",
       "                        <td id=\"T_85adeb38_1fd0_11ea_969f_482ae3057161row93_col6\" class=\"data row93 col6\" >intermediate</td>\n",
       "                        <td id=\"T_85adeb38_1fd0_11ea_969f_482ae3057161row93_col7\" class=\"data row93 col7\" >58</td>\n",
       "            </tr>\n",
       "            <tr>\n",
       "                                <td id=\"T_85adeb38_1fd0_11ea_969f_482ae3057161row94_col0\" class=\"data row94 col0\" >95</td>\n",
       "                        <td id=\"T_85adeb38_1fd0_11ea_969f_482ae3057161row94_col1\" class=\"data row94 col1\" >102500</td>\n",
       "                        <td id=\"T_85adeb38_1fd0_11ea_969f_482ae3057161row94_col2\" class=\"data row94 col2\" >15</td>\n",
       "                        <td id=\"T_85adeb38_1fd0_11ea_969f_482ae3057161row94_col3\" class=\"data row94 col3\" >203</td>\n",
       "                        <td id=\"T_85adeb38_1fd0_11ea_969f_482ae3057161row94_col4\" class=\"data row94 col4\" >male</td>\n",
       "                        <td id=\"T_85adeb38_1fd0_11ea_969f_482ae3057161row94_col5\" class=\"data row94 col5\" >28</td>\n",
       "                        <td id=\"T_85adeb38_1fd0_11ea_969f_482ae3057161row94_col6\" class=\"data row94 col6\" >intermediate</td>\n",
       "                        <td id=\"T_85adeb38_1fd0_11ea_969f_482ae3057161row94_col7\" class=\"data row94 col7\" >50</td>\n",
       "            </tr>\n",
       "            <tr>\n",
       "                                <td id=\"T_85adeb38_1fd0_11ea_969f_482ae3057161row95_col0\" class=\"data row95 col0\" >96</td>\n",
       "                        <td id=\"T_85adeb38_1fd0_11ea_969f_482ae3057161row95_col1\" class=\"data row95 col1\" >116500</td>\n",
       "                        <td id=\"T_85adeb38_1fd0_11ea_969f_482ae3057161row95_col2\" class=\"data row95 col2\" >13</td>\n",
       "                        <td id=\"T_85adeb38_1fd0_11ea_969f_482ae3057161row95_col3\" class=\"data row95 col3\" >231</td>\n",
       "                        <td id=\"T_85adeb38_1fd0_11ea_969f_482ae3057161row95_col4\" class=\"data row95 col4\" >female</td>\n",
       "                        <td id=\"T_85adeb38_1fd0_11ea_969f_482ae3057161row95_col5\" class=\"data row95 col5\" >41</td>\n",
       "                        <td id=\"T_85adeb38_1fd0_11ea_969f_482ae3057161row95_col6\" class=\"data row95 col6\" >advanced</td>\n",
       "                        <td id=\"T_85adeb38_1fd0_11ea_969f_482ae3057161row95_col7\" class=\"data row95 col7\" >50</td>\n",
       "            </tr>\n",
       "            <tr>\n",
       "                                <td id=\"T_85adeb38_1fd0_11ea_969f_482ae3057161row96_col0\" class=\"data row96 col0\" >97</td>\n",
       "                        <td id=\"T_85adeb38_1fd0_11ea_969f_482ae3057161row96_col1\" class=\"data row96 col1\" >131000</td>\n",
       "                        <td id=\"T_85adeb38_1fd0_11ea_969f_482ae3057161row96_col2\" class=\"data row96 col2\" >18</td>\n",
       "                        <td id=\"T_85adeb38_1fd0_11ea_969f_482ae3057161row96_col3\" class=\"data row96 col3\" >260</td>\n",
       "                        <td id=\"T_85adeb38_1fd0_11ea_969f_482ae3057161row96_col4\" class=\"data row96 col4\" >male</td>\n",
       "                        <td id=\"T_85adeb38_1fd0_11ea_969f_482ae3057161row96_col5\" class=\"data row96 col5\" >33</td>\n",
       "                        <td id=\"T_85adeb38_1fd0_11ea_969f_482ae3057161row96_col6\" class=\"data row96 col6\" >beginner</td>\n",
       "                        <td id=\"T_85adeb38_1fd0_11ea_969f_482ae3057161row96_col7\" class=\"data row96 col7\" >58</td>\n",
       "            </tr>\n",
       "            <tr>\n",
       "                                <td id=\"T_85adeb38_1fd0_11ea_969f_482ae3057161row97_col0\" class=\"data row97 col0\" >98</td>\n",
       "                        <td id=\"T_85adeb38_1fd0_11ea_969f_482ae3057161row97_col1\" class=\"data row97 col1\" >134000</td>\n",
       "                        <td id=\"T_85adeb38_1fd0_11ea_969f_482ae3057161row97_col2\" class=\"data row97 col2\" >18</td>\n",
       "                        <td id=\"T_85adeb38_1fd0_11ea_969f_482ae3057161row97_col3\" class=\"data row97 col3\" >266</td>\n",
       "                        <td id=\"T_85adeb38_1fd0_11ea_969f_482ae3057161row97_col4\" class=\"data row97 col4\" >female</td>\n",
       "                        <td id=\"T_85adeb38_1fd0_11ea_969f_482ae3057161row97_col5\" class=\"data row97 col5\" >65</td>\n",
       "                        <td id=\"T_85adeb38_1fd0_11ea_969f_482ae3057161row97_col6\" class=\"data row97 col6\" >intermediate</td>\n",
       "                        <td id=\"T_85adeb38_1fd0_11ea_969f_482ae3057161row97_col7\" class=\"data row97 col7\" >42</td>\n",
       "            </tr>\n",
       "            <tr>\n",
       "                                <td id=\"T_85adeb38_1fd0_11ea_969f_482ae3057161row98_col0\" class=\"data row98 col0\" >99</td>\n",
       "                        <td id=\"T_85adeb38_1fd0_11ea_969f_482ae3057161row98_col1\" class=\"data row98 col1\" >97000</td>\n",
       "                        <td id=\"T_85adeb38_1fd0_11ea_969f_482ae3057161row98_col2\" class=\"data row98 col2\" >19</td>\n",
       "                        <td id=\"T_85adeb38_1fd0_11ea_969f_482ae3057161row98_col3\" class=\"data row98 col3\" >192</td>\n",
       "                        <td id=\"T_85adeb38_1fd0_11ea_969f_482ae3057161row98_col4\" class=\"data row98 col4\" >male</td>\n",
       "                        <td id=\"T_85adeb38_1fd0_11ea_969f_482ae3057161row98_col5\" class=\"data row98 col5\" >41</td>\n",
       "                        <td id=\"T_85adeb38_1fd0_11ea_969f_482ae3057161row98_col6\" class=\"data row98 col6\" >advanced</td>\n",
       "                        <td id=\"T_85adeb38_1fd0_11ea_969f_482ae3057161row98_col7\" class=\"data row98 col7\" >54</td>\n",
       "            </tr>\n",
       "            <tr>\n",
       "                                <td id=\"T_85adeb38_1fd0_11ea_969f_482ae3057161row99_col0\" class=\"data row99 col0\" >100</td>\n",
       "                        <td id=\"T_85adeb38_1fd0_11ea_969f_482ae3057161row99_col1\" class=\"data row99 col1\" >84000</td>\n",
       "                        <td id=\"T_85adeb38_1fd0_11ea_969f_482ae3057161row99_col2\" class=\"data row99 col2\" >17</td>\n",
       "                        <td id=\"T_85adeb38_1fd0_11ea_969f_482ae3057161row99_col3\" class=\"data row99 col3\" >166</td>\n",
       "                        <td id=\"T_85adeb38_1fd0_11ea_969f_482ae3057161row99_col4\" class=\"data row99 col4\" >male</td>\n",
       "                        <td id=\"T_85adeb38_1fd0_11ea_969f_482ae3057161row99_col5\" class=\"data row99 col5\" >43</td>\n",
       "                        <td id=\"T_85adeb38_1fd0_11ea_969f_482ae3057161row99_col6\" class=\"data row99 col6\" >advanced</td>\n",
       "                        <td id=\"T_85adeb38_1fd0_11ea_969f_482ae3057161row99_col7\" class=\"data row99 col7\" >45</td>\n",
       "            </tr>\n",
       "            <tr>\n",
       "                                <td id=\"T_85adeb38_1fd0_11ea_969f_482ae3057161row100_col0\" class=\"data row100 col0\" >101</td>\n",
       "                        <td id=\"T_85adeb38_1fd0_11ea_969f_482ae3057161row100_col1\" class=\"data row100 col1\" >170000</td>\n",
       "                        <td id=\"T_85adeb38_1fd0_11ea_969f_482ae3057161row100_col2\" class=\"data row100 col2\" >26</td>\n",
       "                        <td id=\"T_85adeb38_1fd0_11ea_969f_482ae3057161row100_col3\" class=\"data row100 col3\" >338</td>\n",
       "                        <td id=\"T_85adeb38_1fd0_11ea_969f_482ae3057161row100_col4\" class=\"data row100 col4\" >male</td>\n",
       "                        <td id=\"T_85adeb38_1fd0_11ea_969f_482ae3057161row100_col5\" class=\"data row100 col5\" >25</td>\n",
       "                        <td id=\"T_85adeb38_1fd0_11ea_969f_482ae3057161row100_col6\" class=\"data row100 col6\" >beginner</td>\n",
       "                        <td id=\"T_85adeb38_1fd0_11ea_969f_482ae3057161row100_col7\" class=\"data row100 col7\" >59</td>\n",
       "            </tr>\n",
       "            <tr>\n",
       "                                <td id=\"T_85adeb38_1fd0_11ea_969f_482ae3057161row101_col0\" class=\"data row101 col0\" >102</td>\n",
       "                        <td id=\"T_85adeb38_1fd0_11ea_969f_482ae3057161row101_col1\" class=\"data row101 col1\" >269000</td>\n",
       "                        <td id=\"T_85adeb38_1fd0_11ea_969f_482ae3057161row101_col2\" class=\"data row101 col2\" >29</td>\n",
       "                        <td id=\"T_85adeb38_1fd0_11ea_969f_482ae3057161row101_col3\" class=\"data row101 col3\" >536</td>\n",
       "                        <td id=\"T_85adeb38_1fd0_11ea_969f_482ae3057161row101_col4\" class=\"data row101 col4\" >male</td>\n",
       "                        <td id=\"T_85adeb38_1fd0_11ea_969f_482ae3057161row101_col5\" class=\"data row101 col5\" >69</td>\n",
       "                        <td id=\"T_85adeb38_1fd0_11ea_969f_482ae3057161row101_col6\" class=\"data row101 col6\" >intermediate</td>\n",
       "                        <td id=\"T_85adeb38_1fd0_11ea_969f_482ae3057161row101_col7\" class=\"data row101 col7\" >45</td>\n",
       "            </tr>\n",
       "            <tr>\n",
       "                                <td id=\"T_85adeb38_1fd0_11ea_969f_482ae3057161row102_col0\" class=\"data row102 col0\" >103</td>\n",
       "                        <td id=\"T_85adeb38_1fd0_11ea_969f_482ae3057161row102_col1\" class=\"data row102 col1\" >187500</td>\n",
       "                        <td id=\"T_85adeb38_1fd0_11ea_969f_482ae3057161row102_col2\" class=\"data row102 col2\" >26</td>\n",
       "                        <td id=\"T_85adeb38_1fd0_11ea_969f_482ae3057161row102_col3\" class=\"data row102 col3\" >373</td>\n",
       "                        <td id=\"T_85adeb38_1fd0_11ea_969f_482ae3057161row102_col4\" class=\"data row102 col4\" >male</td>\n",
       "                        <td id=\"T_85adeb38_1fd0_11ea_969f_482ae3057161row102_col5\" class=\"data row102 col5\" >46</td>\n",
       "                        <td id=\"T_85adeb38_1fd0_11ea_969f_482ae3057161row102_col6\" class=\"data row102 col6\" >intermediate</td>\n",
       "                        <td id=\"T_85adeb38_1fd0_11ea_969f_482ae3057161row102_col7\" class=\"data row102 col7\" >46</td>\n",
       "            </tr>\n",
       "            <tr>\n",
       "                                <td id=\"T_85adeb38_1fd0_11ea_969f_482ae3057161row103_col0\" class=\"data row103 col0\" >104</td>\n",
       "                        <td id=\"T_85adeb38_1fd0_11ea_969f_482ae3057161row103_col1\" class=\"data row103 col1\" >279000</td>\n",
       "                        <td id=\"T_85adeb38_1fd0_11ea_969f_482ae3057161row103_col2\" class=\"data row103 col2\" >21</td>\n",
       "                        <td id=\"T_85adeb38_1fd0_11ea_969f_482ae3057161row103_col3\" class=\"data row103 col3\" >556</td>\n",
       "                        <td id=\"T_85adeb38_1fd0_11ea_969f_482ae3057161row103_col4\" class=\"data row103 col4\" >male</td>\n",
       "                        <td id=\"T_85adeb38_1fd0_11ea_969f_482ae3057161row103_col5\" class=\"data row103 col5\" >28</td>\n",
       "                        <td id=\"T_85adeb38_1fd0_11ea_969f_482ae3057161row103_col6\" class=\"data row103 col6\" >beginner</td>\n",
       "                        <td id=\"T_85adeb38_1fd0_11ea_969f_482ae3057161row103_col7\" class=\"data row103 col7\" >62</td>\n",
       "            </tr>\n",
       "            <tr>\n",
       "                                <td id=\"T_85adeb38_1fd0_11ea_969f_482ae3057161row104_col0\" class=\"data row104 col0\" >105</td>\n",
       "                        <td id=\"T_85adeb38_1fd0_11ea_969f_482ae3057161row104_col1\" class=\"data row104 col1\" >253000</td>\n",
       "                        <td id=\"T_85adeb38_1fd0_11ea_969f_482ae3057161row104_col2\" class=\"data row104 col2\" >21</td>\n",
       "                        <td id=\"T_85adeb38_1fd0_11ea_969f_482ae3057161row104_col3\" class=\"data row104 col3\" >504</td>\n",
       "                        <td id=\"T_85adeb38_1fd0_11ea_969f_482ae3057161row104_col4\" class=\"data row104 col4\" >male</td>\n",
       "                        <td id=\"T_85adeb38_1fd0_11ea_969f_482ae3057161row104_col5\" class=\"data row104 col5\" >64</td>\n",
       "                        <td id=\"T_85adeb38_1fd0_11ea_969f_482ae3057161row104_col6\" class=\"data row104 col6\" >beginner</td>\n",
       "                        <td id=\"T_85adeb38_1fd0_11ea_969f_482ae3057161row104_col7\" class=\"data row104 col7\" >58</td>\n",
       "            </tr>\n",
       "            <tr>\n",
       "                                <td id=\"T_85adeb38_1fd0_11ea_969f_482ae3057161row105_col0\" class=\"data row105 col0\" >106</td>\n",
       "                        <td id=\"T_85adeb38_1fd0_11ea_969f_482ae3057161row105_col1\" class=\"data row105 col1\" >218000</td>\n",
       "                        <td id=\"T_85adeb38_1fd0_11ea_969f_482ae3057161row105_col2\" class=\"data row105 col2\" >22</td>\n",
       "                        <td id=\"T_85adeb38_1fd0_11ea_969f_482ae3057161row105_col3\" class=\"data row105 col3\" >434</td>\n",
       "                        <td id=\"T_85adeb38_1fd0_11ea_969f_482ae3057161row105_col4\" class=\"data row105 col4\" >male</td>\n",
       "                        <td id=\"T_85adeb38_1fd0_11ea_969f_482ae3057161row105_col5\" class=\"data row105 col5\" >50</td>\n",
       "                        <td id=\"T_85adeb38_1fd0_11ea_969f_482ae3057161row105_col6\" class=\"data row105 col6\" >beginner</td>\n",
       "                        <td id=\"T_85adeb38_1fd0_11ea_969f_482ae3057161row105_col7\" class=\"data row105 col7\" >48</td>\n",
       "            </tr>\n",
       "            <tr>\n",
       "                                <td id=\"T_85adeb38_1fd0_11ea_969f_482ae3057161row106_col0\" class=\"data row106 col0\" >107</td>\n",
       "                        <td id=\"T_85adeb38_1fd0_11ea_969f_482ae3057161row106_col1\" class=\"data row106 col1\" >223500</td>\n",
       "                        <td id=\"T_85adeb38_1fd0_11ea_969f_482ae3057161row106_col2\" class=\"data row106 col2\" >28</td>\n",
       "                        <td id=\"T_85adeb38_1fd0_11ea_969f_482ae3057161row106_col3\" class=\"data row106 col3\" >445</td>\n",
       "                        <td id=\"T_85adeb38_1fd0_11ea_969f_482ae3057161row106_col4\" class=\"data row106 col4\" >male</td>\n",
       "                        <td id=\"T_85adeb38_1fd0_11ea_969f_482ae3057161row106_col5\" class=\"data row106 col5\" >42</td>\n",
       "                        <td id=\"T_85adeb38_1fd0_11ea_969f_482ae3057161row106_col6\" class=\"data row106 col6\" >advanced</td>\n",
       "                        <td id=\"T_85adeb38_1fd0_11ea_969f_482ae3057161row106_col7\" class=\"data row106 col7\" >45</td>\n",
       "            </tr>\n",
       "            <tr>\n",
       "                                <td id=\"T_85adeb38_1fd0_11ea_969f_482ae3057161row107_col0\" class=\"data row107 col0\" >108</td>\n",
       "                        <td id=\"T_85adeb38_1fd0_11ea_969f_482ae3057161row107_col1\" class=\"data row107 col1\" >216000</td>\n",
       "                        <td id=\"T_85adeb38_1fd0_11ea_969f_482ae3057161row107_col2\" class=\"data row107 col2\" >27</td>\n",
       "                        <td id=\"T_85adeb38_1fd0_11ea_969f_482ae3057161row107_col3\" class=\"data row107 col3\" >430</td>\n",
       "                        <td id=\"T_85adeb38_1fd0_11ea_969f_482ae3057161row107_col4\" class=\"data row107 col4\" >male</td>\n",
       "                        <td id=\"T_85adeb38_1fd0_11ea_969f_482ae3057161row107_col5\" class=\"data row107 col5\" >41</td>\n",
       "                        <td id=\"T_85adeb38_1fd0_11ea_969f_482ae3057161row107_col6\" class=\"data row107 col6\" >beginner</td>\n",
       "                        <td id=\"T_85adeb38_1fd0_11ea_969f_482ae3057161row107_col7\" class=\"data row107 col7\" >58</td>\n",
       "            </tr>\n",
       "            <tr>\n",
       "                                <td id=\"T_85adeb38_1fd0_11ea_969f_482ae3057161row108_col0\" class=\"data row108 col0\" >109</td>\n",
       "                        <td id=\"T_85adeb38_1fd0_11ea_969f_482ae3057161row108_col1\" class=\"data row108 col1\" >187000</td>\n",
       "                        <td id=\"T_85adeb38_1fd0_11ea_969f_482ae3057161row108_col2\" class=\"data row108 col2\" >23</td>\n",
       "                        <td id=\"T_85adeb38_1fd0_11ea_969f_482ae3057161row108_col3\" class=\"data row108 col3\" >372</td>\n",
       "                        <td id=\"T_85adeb38_1fd0_11ea_969f_482ae3057161row108_col4\" class=\"data row108 col4\" >male</td>\n",
       "                        <td id=\"T_85adeb38_1fd0_11ea_969f_482ae3057161row108_col5\" class=\"data row108 col5\" >73</td>\n",
       "                        <td id=\"T_85adeb38_1fd0_11ea_969f_482ae3057161row108_col6\" class=\"data row108 col6\" >intermediate</td>\n",
       "                        <td id=\"T_85adeb38_1fd0_11ea_969f_482ae3057161row108_col7\" class=\"data row108 col7\" >51</td>\n",
       "            </tr>\n",
       "            <tr>\n",
       "                                <td id=\"T_85adeb38_1fd0_11ea_969f_482ae3057161row109_col0\" class=\"data row109 col0\" >110</td>\n",
       "                        <td id=\"T_85adeb38_1fd0_11ea_969f_482ae3057161row109_col1\" class=\"data row109 col1\" >270000</td>\n",
       "                        <td id=\"T_85adeb38_1fd0_11ea_969f_482ae3057161row109_col2\" class=\"data row109 col2\" >25</td>\n",
       "                        <td id=\"T_85adeb38_1fd0_11ea_969f_482ae3057161row109_col3\" class=\"data row109 col3\" >538</td>\n",
       "                        <td id=\"T_85adeb38_1fd0_11ea_969f_482ae3057161row109_col4\" class=\"data row109 col4\" >female</td>\n",
       "                        <td id=\"T_85adeb38_1fd0_11ea_969f_482ae3057161row109_col5\" class=\"data row109 col5\" >19</td>\n",
       "                        <td id=\"T_85adeb38_1fd0_11ea_969f_482ae3057161row109_col6\" class=\"data row109 col6\" >beginner</td>\n",
       "                        <td id=\"T_85adeb38_1fd0_11ea_969f_482ae3057161row109_col7\" class=\"data row109 col7\" >51</td>\n",
       "            </tr>\n",
       "            <tr>\n",
       "                                <td id=\"T_85adeb38_1fd0_11ea_969f_482ae3057161row110_col0\" class=\"data row110 col0\" >111</td>\n",
       "                        <td id=\"T_85adeb38_1fd0_11ea_969f_482ae3057161row110_col1\" class=\"data row110 col1\" >292000</td>\n",
       "                        <td id=\"T_85adeb38_1fd0_11ea_969f_482ae3057161row110_col2\" class=\"data row110 col2\" >26</td>\n",
       "                        <td id=\"T_85adeb38_1fd0_11ea_969f_482ae3057161row110_col3\" class=\"data row110 col3\" >582</td>\n",
       "                        <td id=\"T_85adeb38_1fd0_11ea_969f_482ae3057161row110_col4\" class=\"data row110 col4\" >male</td>\n",
       "                        <td id=\"T_85adeb38_1fd0_11ea_969f_482ae3057161row110_col5\" class=\"data row110 col5\" >67</td>\n",
       "                        <td id=\"T_85adeb38_1fd0_11ea_969f_482ae3057161row110_col6\" class=\"data row110 col6\" >intermediate</td>\n",
       "                        <td id=\"T_85adeb38_1fd0_11ea_969f_482ae3057161row110_col7\" class=\"data row110 col7\" >47</td>\n",
       "            </tr>\n",
       "            <tr>\n",
       "                                <td id=\"T_85adeb38_1fd0_11ea_969f_482ae3057161row111_col0\" class=\"data row111 col0\" >112</td>\n",
       "                        <td id=\"T_85adeb38_1fd0_11ea_969f_482ae3057161row111_col1\" class=\"data row111 col1\" >240500</td>\n",
       "                        <td id=\"T_85adeb38_1fd0_11ea_969f_482ae3057161row111_col2\" class=\"data row111 col2\" >23</td>\n",
       "                        <td id=\"T_85adeb38_1fd0_11ea_969f_482ae3057161row111_col3\" class=\"data row111 col3\" >479</td>\n",
       "                        <td id=\"T_85adeb38_1fd0_11ea_969f_482ae3057161row111_col4\" class=\"data row111 col4\" >female</td>\n",
       "                        <td id=\"T_85adeb38_1fd0_11ea_969f_482ae3057161row111_col5\" class=\"data row111 col5\" >31</td>\n",
       "                        <td id=\"T_85adeb38_1fd0_11ea_969f_482ae3057161row111_col6\" class=\"data row111 col6\" >beginner</td>\n",
       "                        <td id=\"T_85adeb38_1fd0_11ea_969f_482ae3057161row111_col7\" class=\"data row111 col7\" >57</td>\n",
       "            </tr>\n",
       "            <tr>\n",
       "                                <td id=\"T_85adeb38_1fd0_11ea_969f_482ae3057161row112_col0\" class=\"data row112 col0\" >113</td>\n",
       "                        <td id=\"T_85adeb38_1fd0_11ea_969f_482ae3057161row112_col1\" class=\"data row112 col1\" >289500</td>\n",
       "                        <td id=\"T_85adeb38_1fd0_11ea_969f_482ae3057161row112_col2\" class=\"data row112 col2\" >25</td>\n",
       "                        <td id=\"T_85adeb38_1fd0_11ea_969f_482ae3057161row112_col3\" class=\"data row112 col3\" >577</td>\n",
       "                        <td id=\"T_85adeb38_1fd0_11ea_969f_482ae3057161row112_col4\" class=\"data row112 col4\" >male</td>\n",
       "                        <td id=\"T_85adeb38_1fd0_11ea_969f_482ae3057161row112_col5\" class=\"data row112 col5\" >21</td>\n",
       "                        <td id=\"T_85adeb38_1fd0_11ea_969f_482ae3057161row112_col6\" class=\"data row112 col6\" >beginner</td>\n",
       "                        <td id=\"T_85adeb38_1fd0_11ea_969f_482ae3057161row112_col7\" class=\"data row112 col7\" >56</td>\n",
       "            </tr>\n",
       "            <tr>\n",
       "                                <td id=\"T_85adeb38_1fd0_11ea_969f_482ae3057161row113_col0\" class=\"data row113 col0\" >114</td>\n",
       "                        <td id=\"T_85adeb38_1fd0_11ea_969f_482ae3057161row113_col1\" class=\"data row113 col1\" >278500</td>\n",
       "                        <td id=\"T_85adeb38_1fd0_11ea_969f_482ae3057161row113_col2\" class=\"data row113 col2\" >23</td>\n",
       "                        <td id=\"T_85adeb38_1fd0_11ea_969f_482ae3057161row113_col3\" class=\"data row113 col3\" >555</td>\n",
       "                        <td id=\"T_85adeb38_1fd0_11ea_969f_482ae3057161row113_col4\" class=\"data row113 col4\" >male</td>\n",
       "                        <td id=\"T_85adeb38_1fd0_11ea_969f_482ae3057161row113_col5\" class=\"data row113 col5\" >18</td>\n",
       "                        <td id=\"T_85adeb38_1fd0_11ea_969f_482ae3057161row113_col6\" class=\"data row113 col6\" >advanced</td>\n",
       "                        <td id=\"T_85adeb38_1fd0_11ea_969f_482ae3057161row113_col7\" class=\"data row113 col7\" >52</td>\n",
       "            </tr>\n",
       "            <tr>\n",
       "                                <td id=\"T_85adeb38_1fd0_11ea_969f_482ae3057161row114_col0\" class=\"data row114 col0\" >115</td>\n",
       "                        <td id=\"T_85adeb38_1fd0_11ea_969f_482ae3057161row114_col1\" class=\"data row114 col1\" >277500</td>\n",
       "                        <td id=\"T_85adeb38_1fd0_11ea_969f_482ae3057161row114_col2\" class=\"data row114 col2\" >25</td>\n",
       "                        <td id=\"T_85adeb38_1fd0_11ea_969f_482ae3057161row114_col3\" class=\"data row114 col3\" >553</td>\n",
       "                        <td id=\"T_85adeb38_1fd0_11ea_969f_482ae3057161row114_col4\" class=\"data row114 col4\" >male</td>\n",
       "                        <td id=\"T_85adeb38_1fd0_11ea_969f_482ae3057161row114_col5\" class=\"data row114 col5\" >74</td>\n",
       "                        <td id=\"T_85adeb38_1fd0_11ea_969f_482ae3057161row114_col6\" class=\"data row114 col6\" >beginner</td>\n",
       "                        <td id=\"T_85adeb38_1fd0_11ea_969f_482ae3057161row114_col7\" class=\"data row114 col7\" >58</td>\n",
       "            </tr>\n",
       "            <tr>\n",
       "                                <td id=\"T_85adeb38_1fd0_11ea_969f_482ae3057161row115_col0\" class=\"data row115 col0\" >116</td>\n",
       "                        <td id=\"T_85adeb38_1fd0_11ea_969f_482ae3057161row115_col1\" class=\"data row115 col1\" >229500</td>\n",
       "                        <td id=\"T_85adeb38_1fd0_11ea_969f_482ae3057161row115_col2\" class=\"data row115 col2\" >28</td>\n",
       "                        <td id=\"T_85adeb38_1fd0_11ea_969f_482ae3057161row115_col3\" class=\"data row115 col3\" >457</td>\n",
       "                        <td id=\"T_85adeb38_1fd0_11ea_969f_482ae3057161row115_col4\" class=\"data row115 col4\" >male</td>\n",
       "                        <td id=\"T_85adeb38_1fd0_11ea_969f_482ae3057161row115_col5\" class=\"data row115 col5\" >31</td>\n",
       "                        <td id=\"T_85adeb38_1fd0_11ea_969f_482ae3057161row115_col6\" class=\"data row115 col6\" >intermediate</td>\n",
       "                        <td id=\"T_85adeb38_1fd0_11ea_969f_482ae3057161row115_col7\" class=\"data row115 col7\" >53</td>\n",
       "            </tr>\n",
       "            <tr>\n",
       "                                <td id=\"T_85adeb38_1fd0_11ea_969f_482ae3057161row116_col0\" class=\"data row116 col0\" >117</td>\n",
       "                        <td id=\"T_85adeb38_1fd0_11ea_969f_482ae3057161row116_col1\" class=\"data row116 col1\" >176500</td>\n",
       "                        <td id=\"T_85adeb38_1fd0_11ea_969f_482ae3057161row116_col2\" class=\"data row116 col2\" >28</td>\n",
       "                        <td id=\"T_85adeb38_1fd0_11ea_969f_482ae3057161row116_col3\" class=\"data row116 col3\" >351</td>\n",
       "                        <td id=\"T_85adeb38_1fd0_11ea_969f_482ae3057161row116_col4\" class=\"data row116 col4\" >female</td>\n",
       "                        <td id=\"T_85adeb38_1fd0_11ea_969f_482ae3057161row116_col5\" class=\"data row116 col5\" >24</td>\n",
       "                        <td id=\"T_85adeb38_1fd0_11ea_969f_482ae3057161row116_col6\" class=\"data row116 col6\" >advanced</td>\n",
       "                        <td id=\"T_85adeb38_1fd0_11ea_969f_482ae3057161row116_col7\" class=\"data row116 col7\" >56</td>\n",
       "            </tr>\n",
       "            <tr>\n",
       "                                <td id=\"T_85adeb38_1fd0_11ea_969f_482ae3057161row117_col0\" class=\"data row117 col0\" >118</td>\n",
       "                        <td id=\"T_85adeb38_1fd0_11ea_969f_482ae3057161row117_col1\" class=\"data row117 col1\" >185500</td>\n",
       "                        <td id=\"T_85adeb38_1fd0_11ea_969f_482ae3057161row117_col2\" class=\"data row117 col2\" >22</td>\n",
       "                        <td id=\"T_85adeb38_1fd0_11ea_969f_482ae3057161row117_col3\" class=\"data row117 col3\" >369</td>\n",
       "                        <td id=\"T_85adeb38_1fd0_11ea_969f_482ae3057161row117_col4\" class=\"data row117 col4\" >male</td>\n",
       "                        <td id=\"T_85adeb38_1fd0_11ea_969f_482ae3057161row117_col5\" class=\"data row117 col5\" >70</td>\n",
       "                        <td id=\"T_85adeb38_1fd0_11ea_969f_482ae3057161row117_col6\" class=\"data row117 col6\" >beginner</td>\n",
       "                        <td id=\"T_85adeb38_1fd0_11ea_969f_482ae3057161row117_col7\" class=\"data row117 col7\" >57</td>\n",
       "            </tr>\n",
       "            <tr>\n",
       "                                <td id=\"T_85adeb38_1fd0_11ea_969f_482ae3057161row118_col0\" class=\"data row118 col0\" >119</td>\n",
       "                        <td id=\"T_85adeb38_1fd0_11ea_969f_482ae3057161row118_col1\" class=\"data row118 col1\" >259000</td>\n",
       "                        <td id=\"T_85adeb38_1fd0_11ea_969f_482ae3057161row118_col2\" class=\"data row118 col2\" >28</td>\n",
       "                        <td id=\"T_85adeb38_1fd0_11ea_969f_482ae3057161row118_col3\" class=\"data row118 col3\" >516</td>\n",
       "                        <td id=\"T_85adeb38_1fd0_11ea_969f_482ae3057161row118_col4\" class=\"data row118 col4\" >female</td>\n",
       "                        <td id=\"T_85adeb38_1fd0_11ea_969f_482ae3057161row118_col5\" class=\"data row118 col5\" >39</td>\n",
       "                        <td id=\"T_85adeb38_1fd0_11ea_969f_482ae3057161row118_col6\" class=\"data row118 col6\" >intermediate</td>\n",
       "                        <td id=\"T_85adeb38_1fd0_11ea_969f_482ae3057161row118_col7\" class=\"data row118 col7\" >56</td>\n",
       "            </tr>\n",
       "            <tr>\n",
       "                                <td id=\"T_85adeb38_1fd0_11ea_969f_482ae3057161row119_col0\" class=\"data row119 col0\" >120</td>\n",
       "                        <td id=\"T_85adeb38_1fd0_11ea_969f_482ae3057161row119_col1\" class=\"data row119 col1\" >272000</td>\n",
       "                        <td id=\"T_85adeb38_1fd0_11ea_969f_482ae3057161row119_col2\" class=\"data row119 col2\" >21</td>\n",
       "                        <td id=\"T_85adeb38_1fd0_11ea_969f_482ae3057161row119_col3\" class=\"data row119 col3\" >542</td>\n",
       "                        <td id=\"T_85adeb38_1fd0_11ea_969f_482ae3057161row119_col4\" class=\"data row119 col4\" >male</td>\n",
       "                        <td id=\"T_85adeb38_1fd0_11ea_969f_482ae3057161row119_col5\" class=\"data row119 col5\" >24</td>\n",
       "                        <td id=\"T_85adeb38_1fd0_11ea_969f_482ae3057161row119_col6\" class=\"data row119 col6\" >intermediate</td>\n",
       "                        <td id=\"T_85adeb38_1fd0_11ea_969f_482ae3057161row119_col7\" class=\"data row119 col7\" >49</td>\n",
       "            </tr>\n",
       "            <tr>\n",
       "                                <td id=\"T_85adeb38_1fd0_11ea_969f_482ae3057161row120_col0\" class=\"data row120 col0\" >121</td>\n",
       "                        <td id=\"T_85adeb38_1fd0_11ea_969f_482ae3057161row120_col1\" class=\"data row120 col1\" >194500</td>\n",
       "                        <td id=\"T_85adeb38_1fd0_11ea_969f_482ae3057161row120_col2\" class=\"data row120 col2\" >27</td>\n",
       "                        <td id=\"T_85adeb38_1fd0_11ea_969f_482ae3057161row120_col3\" class=\"data row120 col3\" >387</td>\n",
       "                        <td id=\"T_85adeb38_1fd0_11ea_969f_482ae3057161row120_col4\" class=\"data row120 col4\" >male</td>\n",
       "                        <td id=\"T_85adeb38_1fd0_11ea_969f_482ae3057161row120_col5\" class=\"data row120 col5\" >20</td>\n",
       "                        <td id=\"T_85adeb38_1fd0_11ea_969f_482ae3057161row120_col6\" class=\"data row120 col6\" >beginner</td>\n",
       "                        <td id=\"T_85adeb38_1fd0_11ea_969f_482ae3057161row120_col7\" class=\"data row120 col7\" >52</td>\n",
       "            </tr>\n",
       "            <tr>\n",
       "                                <td id=\"T_85adeb38_1fd0_11ea_969f_482ae3057161row121_col0\" class=\"data row121 col0\" >122</td>\n",
       "                        <td id=\"T_85adeb38_1fd0_11ea_969f_482ae3057161row121_col1\" class=\"data row121 col1\" >222000</td>\n",
       "                        <td id=\"T_85adeb38_1fd0_11ea_969f_482ae3057161row121_col2\" class=\"data row121 col2\" >28</td>\n",
       "                        <td id=\"T_85adeb38_1fd0_11ea_969f_482ae3057161row121_col3\" class=\"data row121 col3\" >442</td>\n",
       "                        <td id=\"T_85adeb38_1fd0_11ea_969f_482ae3057161row121_col4\" class=\"data row121 col4\" >male</td>\n",
       "                        <td id=\"T_85adeb38_1fd0_11ea_969f_482ae3057161row121_col5\" class=\"data row121 col5\" >30</td>\n",
       "                        <td id=\"T_85adeb38_1fd0_11ea_969f_482ae3057161row121_col6\" class=\"data row121 col6\" >advanced</td>\n",
       "                        <td id=\"T_85adeb38_1fd0_11ea_969f_482ae3057161row121_col7\" class=\"data row121 col7\" >52</td>\n",
       "            </tr>\n",
       "            <tr>\n",
       "                                <td id=\"T_85adeb38_1fd0_11ea_969f_482ae3057161row122_col0\" class=\"data row122 col0\" >123</td>\n",
       "                        <td id=\"T_85adeb38_1fd0_11ea_969f_482ae3057161row122_col1\" class=\"data row122 col1\" >155000</td>\n",
       "                        <td id=\"T_85adeb38_1fd0_11ea_969f_482ae3057161row122_col2\" class=\"data row122 col2\" >27</td>\n",
       "                        <td id=\"T_85adeb38_1fd0_11ea_969f_482ae3057161row122_col3\" class=\"data row122 col3\" >308</td>\n",
       "                        <td id=\"T_85adeb38_1fd0_11ea_969f_482ae3057161row122_col4\" class=\"data row122 col4\" >male</td>\n",
       "                        <td id=\"T_85adeb38_1fd0_11ea_969f_482ae3057161row122_col5\" class=\"data row122 col5\" >45</td>\n",
       "                        <td id=\"T_85adeb38_1fd0_11ea_969f_482ae3057161row122_col6\" class=\"data row122 col6\" >beginner</td>\n",
       "                        <td id=\"T_85adeb38_1fd0_11ea_969f_482ae3057161row122_col7\" class=\"data row122 col7\" >58</td>\n",
       "            </tr>\n",
       "            <tr>\n",
       "                                <td id=\"T_85adeb38_1fd0_11ea_969f_482ae3057161row123_col0\" class=\"data row123 col0\" >124</td>\n",
       "                        <td id=\"T_85adeb38_1fd0_11ea_969f_482ae3057161row123_col1\" class=\"data row123 col1\" >162500</td>\n",
       "                        <td id=\"T_85adeb38_1fd0_11ea_969f_482ae3057161row123_col2\" class=\"data row123 col2\" >22</td>\n",
       "                        <td id=\"T_85adeb38_1fd0_11ea_969f_482ae3057161row123_col3\" class=\"data row123 col3\" >323</td>\n",
       "                        <td id=\"T_85adeb38_1fd0_11ea_969f_482ae3057161row123_col4\" class=\"data row123 col4\" >male</td>\n",
       "                        <td id=\"T_85adeb38_1fd0_11ea_969f_482ae3057161row123_col5\" class=\"data row123 col5\" >39</td>\n",
       "                        <td id=\"T_85adeb38_1fd0_11ea_969f_482ae3057161row123_col6\" class=\"data row123 col6\" >beginner</td>\n",
       "                        <td id=\"T_85adeb38_1fd0_11ea_969f_482ae3057161row123_col7\" class=\"data row123 col7\" >49</td>\n",
       "            </tr>\n",
       "            <tr>\n",
       "                                <td id=\"T_85adeb38_1fd0_11ea_969f_482ae3057161row124_col0\" class=\"data row124 col0\" >125</td>\n",
       "                        <td id=\"T_85adeb38_1fd0_11ea_969f_482ae3057161row124_col1\" class=\"data row124 col1\" >152000</td>\n",
       "                        <td id=\"T_85adeb38_1fd0_11ea_969f_482ae3057161row124_col2\" class=\"data row124 col2\" >21</td>\n",
       "                        <td id=\"T_85adeb38_1fd0_11ea_969f_482ae3057161row124_col3\" class=\"data row124 col3\" >302</td>\n",
       "                        <td id=\"T_85adeb38_1fd0_11ea_969f_482ae3057161row124_col4\" class=\"data row124 col4\" >male</td>\n",
       "                        <td id=\"T_85adeb38_1fd0_11ea_969f_482ae3057161row124_col5\" class=\"data row124 col5\" >29</td>\n",
       "                        <td id=\"T_85adeb38_1fd0_11ea_969f_482ae3057161row124_col6\" class=\"data row124 col6\" >beginner</td>\n",
       "                        <td id=\"T_85adeb38_1fd0_11ea_969f_482ae3057161row124_col7\" class=\"data row124 col7\" >61</td>\n",
       "            </tr>\n",
       "            <tr>\n",
       "                                <td id=\"T_85adeb38_1fd0_11ea_969f_482ae3057161row125_col0\" class=\"data row125 col0\" >126</td>\n",
       "                        <td id=\"T_85adeb38_1fd0_11ea_969f_482ae3057161row125_col1\" class=\"data row125 col1\" >256000</td>\n",
       "                        <td id=\"T_85adeb38_1fd0_11ea_969f_482ae3057161row125_col2\" class=\"data row125 col2\" >22</td>\n",
       "                        <td id=\"T_85adeb38_1fd0_11ea_969f_482ae3057161row125_col3\" class=\"data row125 col3\" >510</td>\n",
       "                        <td id=\"T_85adeb38_1fd0_11ea_969f_482ae3057161row125_col4\" class=\"data row125 col4\" >male</td>\n",
       "                        <td id=\"T_85adeb38_1fd0_11ea_969f_482ae3057161row125_col5\" class=\"data row125 col5\" >25</td>\n",
       "                        <td id=\"T_85adeb38_1fd0_11ea_969f_482ae3057161row125_col6\" class=\"data row125 col6\" >beginner</td>\n",
       "                        <td id=\"T_85adeb38_1fd0_11ea_969f_482ae3057161row125_col7\" class=\"data row125 col7\" >63</td>\n",
       "            </tr>\n",
       "            <tr>\n",
       "                                <td id=\"T_85adeb38_1fd0_11ea_969f_482ae3057161row126_col0\" class=\"data row126 col0\" >127</td>\n",
       "                        <td id=\"T_85adeb38_1fd0_11ea_969f_482ae3057161row126_col1\" class=\"data row126 col1\" >283500</td>\n",
       "                        <td id=\"T_85adeb38_1fd0_11ea_969f_482ae3057161row126_col2\" class=\"data row126 col2\" >29</td>\n",
       "                        <td id=\"T_85adeb38_1fd0_11ea_969f_482ae3057161row126_col3\" class=\"data row126 col3\" >565</td>\n",
       "                        <td id=\"T_85adeb38_1fd0_11ea_969f_482ae3057161row126_col4\" class=\"data row126 col4\" >male</td>\n",
       "                        <td id=\"T_85adeb38_1fd0_11ea_969f_482ae3057161row126_col5\" class=\"data row126 col5\" >31</td>\n",
       "                        <td id=\"T_85adeb38_1fd0_11ea_969f_482ae3057161row126_col6\" class=\"data row126 col6\" >intermediate</td>\n",
       "                        <td id=\"T_85adeb38_1fd0_11ea_969f_482ae3057161row126_col7\" class=\"data row126 col7\" >45</td>\n",
       "            </tr>\n",
       "            <tr>\n",
       "                                <td id=\"T_85adeb38_1fd0_11ea_969f_482ae3057161row127_col0\" class=\"data row127 col0\" >128</td>\n",
       "                        <td id=\"T_85adeb38_1fd0_11ea_969f_482ae3057161row127_col1\" class=\"data row127 col1\" >259500</td>\n",
       "                        <td id=\"T_85adeb38_1fd0_11ea_969f_482ae3057161row127_col2\" class=\"data row127 col2\" >29</td>\n",
       "                        <td id=\"T_85adeb38_1fd0_11ea_969f_482ae3057161row127_col3\" class=\"data row127 col3\" >517</td>\n",
       "                        <td id=\"T_85adeb38_1fd0_11ea_969f_482ae3057161row127_col4\" class=\"data row127 col4\" >male</td>\n",
       "                        <td id=\"T_85adeb38_1fd0_11ea_969f_482ae3057161row127_col5\" class=\"data row127 col5\" >26</td>\n",
       "                        <td id=\"T_85adeb38_1fd0_11ea_969f_482ae3057161row127_col6\" class=\"data row127 col6\" >advanced</td>\n",
       "                        <td id=\"T_85adeb38_1fd0_11ea_969f_482ae3057161row127_col7\" class=\"data row127 col7\" >58</td>\n",
       "            </tr>\n",
       "            <tr>\n",
       "                                <td id=\"T_85adeb38_1fd0_11ea_969f_482ae3057161row128_col0\" class=\"data row128 col0\" >129</td>\n",
       "                        <td id=\"T_85adeb38_1fd0_11ea_969f_482ae3057161row128_col1\" class=\"data row128 col1\" >222000</td>\n",
       "                        <td id=\"T_85adeb38_1fd0_11ea_969f_482ae3057161row128_col2\" class=\"data row128 col2\" >24</td>\n",
       "                        <td id=\"T_85adeb38_1fd0_11ea_969f_482ae3057161row128_col3\" class=\"data row128 col3\" >442</td>\n",
       "                        <td id=\"T_85adeb38_1fd0_11ea_969f_482ae3057161row128_col4\" class=\"data row128 col4\" >male</td>\n",
       "                        <td id=\"T_85adeb38_1fd0_11ea_969f_482ae3057161row128_col5\" class=\"data row128 col5\" >29</td>\n",
       "                        <td id=\"T_85adeb38_1fd0_11ea_969f_482ae3057161row128_col6\" class=\"data row128 col6\" >beginner</td>\n",
       "                        <td id=\"T_85adeb38_1fd0_11ea_969f_482ae3057161row128_col7\" class=\"data row128 col7\" >55</td>\n",
       "            </tr>\n",
       "            <tr>\n",
       "                                <td id=\"T_85adeb38_1fd0_11ea_969f_482ae3057161row129_col0\" class=\"data row129 col0\" >130</td>\n",
       "                        <td id=\"T_85adeb38_1fd0_11ea_969f_482ae3057161row129_col1\" class=\"data row129 col1\" >209000</td>\n",
       "                        <td id=\"T_85adeb38_1fd0_11ea_969f_482ae3057161row129_col2\" class=\"data row129 col2\" >29</td>\n",
       "                        <td id=\"T_85adeb38_1fd0_11ea_969f_482ae3057161row129_col3\" class=\"data row129 col3\" >416</td>\n",
       "                        <td id=\"T_85adeb38_1fd0_11ea_969f_482ae3057161row129_col4\" class=\"data row129 col4\" >male</td>\n",
       "                        <td id=\"T_85adeb38_1fd0_11ea_969f_482ae3057161row129_col5\" class=\"data row129 col5\" >30</td>\n",
       "                        <td id=\"T_85adeb38_1fd0_11ea_969f_482ae3057161row129_col6\" class=\"data row129 col6\" >intermediate</td>\n",
       "                        <td id=\"T_85adeb38_1fd0_11ea_969f_482ae3057161row129_col7\" class=\"data row129 col7\" >62</td>\n",
       "            </tr>\n",
       "            <tr>\n",
       "                                <td id=\"T_85adeb38_1fd0_11ea_969f_482ae3057161row130_col0\" class=\"data row130 col0\" >131</td>\n",
       "                        <td id=\"T_85adeb38_1fd0_11ea_969f_482ae3057161row130_col1\" class=\"data row130 col1\" >212000</td>\n",
       "                        <td id=\"T_85adeb38_1fd0_11ea_969f_482ae3057161row130_col2\" class=\"data row130 col2\" >28</td>\n",
       "                        <td id=\"T_85adeb38_1fd0_11ea_969f_482ae3057161row130_col3\" class=\"data row130 col3\" >422</td>\n",
       "                        <td id=\"T_85adeb38_1fd0_11ea_969f_482ae3057161row130_col4\" class=\"data row130 col4\" >male</td>\n",
       "                        <td id=\"T_85adeb38_1fd0_11ea_969f_482ae3057161row130_col5\" class=\"data row130 col5\" >61</td>\n",
       "                        <td id=\"T_85adeb38_1fd0_11ea_969f_482ae3057161row130_col6\" class=\"data row130 col6\" >beginner</td>\n",
       "                        <td id=\"T_85adeb38_1fd0_11ea_969f_482ae3057161row130_col7\" class=\"data row130 col7\" >52</td>\n",
       "            </tr>\n",
       "            <tr>\n",
       "                                <td id=\"T_85adeb38_1fd0_11ea_969f_482ae3057161row131_col0\" class=\"data row131 col0\" >132</td>\n",
       "                        <td id=\"T_85adeb38_1fd0_11ea_969f_482ae3057161row131_col1\" class=\"data row131 col1\" >166500</td>\n",
       "                        <td id=\"T_85adeb38_1fd0_11ea_969f_482ae3057161row131_col2\" class=\"data row131 col2\" >24</td>\n",
       "                        <td id=\"T_85adeb38_1fd0_11ea_969f_482ae3057161row131_col3\" class=\"data row131 col3\" >331</td>\n",
       "                        <td id=\"T_85adeb38_1fd0_11ea_969f_482ae3057161row131_col4\" class=\"data row131 col4\" >male</td>\n",
       "                        <td id=\"T_85adeb38_1fd0_11ea_969f_482ae3057161row131_col5\" class=\"data row131 col5\" >38</td>\n",
       "                        <td id=\"T_85adeb38_1fd0_11ea_969f_482ae3057161row131_col6\" class=\"data row131 col6\" >advanced</td>\n",
       "                        <td id=\"T_85adeb38_1fd0_11ea_969f_482ae3057161row131_col7\" class=\"data row131 col7\" >55</td>\n",
       "            </tr>\n",
       "            <tr>\n",
       "                                <td id=\"T_85adeb38_1fd0_11ea_969f_482ae3057161row132_col0\" class=\"data row132 col0\" >133</td>\n",
       "                        <td id=\"T_85adeb38_1fd0_11ea_969f_482ae3057161row132_col1\" class=\"data row132 col1\" >187000</td>\n",
       "                        <td id=\"T_85adeb38_1fd0_11ea_969f_482ae3057161row132_col2\" class=\"data row132 col2\" >27</td>\n",
       "                        <td id=\"T_85adeb38_1fd0_11ea_969f_482ae3057161row132_col3\" class=\"data row132 col3\" >372</td>\n",
       "                        <td id=\"T_85adeb38_1fd0_11ea_969f_482ae3057161row132_col4\" class=\"data row132 col4\" >male</td>\n",
       "                        <td id=\"T_85adeb38_1fd0_11ea_969f_482ae3057161row132_col5\" class=\"data row132 col5\" >48</td>\n",
       "                        <td id=\"T_85adeb38_1fd0_11ea_969f_482ae3057161row132_col6\" class=\"data row132 col6\" >intermediate</td>\n",
       "                        <td id=\"T_85adeb38_1fd0_11ea_969f_482ae3057161row132_col7\" class=\"data row132 col7\" >45</td>\n",
       "            </tr>\n",
       "            <tr>\n",
       "                                <td id=\"T_85adeb38_1fd0_11ea_969f_482ae3057161row133_col0\" class=\"data row133 col0\" >134</td>\n",
       "                        <td id=\"T_85adeb38_1fd0_11ea_969f_482ae3057161row133_col1\" class=\"data row133 col1\" >176000</td>\n",
       "                        <td id=\"T_85adeb38_1fd0_11ea_969f_482ae3057161row133_col2\" class=\"data row133 col2\" >26</td>\n",
       "                        <td id=\"T_85adeb38_1fd0_11ea_969f_482ae3057161row133_col3\" class=\"data row133 col3\" >350</td>\n",
       "                        <td id=\"T_85adeb38_1fd0_11ea_969f_482ae3057161row133_col4\" class=\"data row133 col4\" >male</td>\n",
       "                        <td id=\"T_85adeb38_1fd0_11ea_969f_482ae3057161row133_col5\" class=\"data row133 col5\" >54</td>\n",
       "                        <td id=\"T_85adeb38_1fd0_11ea_969f_482ae3057161row133_col6\" class=\"data row133 col6\" >advanced</td>\n",
       "                        <td id=\"T_85adeb38_1fd0_11ea_969f_482ae3057161row133_col7\" class=\"data row133 col7\" >57</td>\n",
       "            </tr>\n",
       "            <tr>\n",
       "                                <td id=\"T_85adeb38_1fd0_11ea_969f_482ae3057161row134_col0\" class=\"data row134 col0\" >135</td>\n",
       "                        <td id=\"T_85adeb38_1fd0_11ea_969f_482ae3057161row134_col1\" class=\"data row134 col1\" >153000</td>\n",
       "                        <td id=\"T_85adeb38_1fd0_11ea_969f_482ae3057161row134_col2\" class=\"data row134 col2\" >22</td>\n",
       "                        <td id=\"T_85adeb38_1fd0_11ea_969f_482ae3057161row134_col3\" class=\"data row134 col3\" >304</td>\n",
       "                        <td id=\"T_85adeb38_1fd0_11ea_969f_482ae3057161row134_col4\" class=\"data row134 col4\" >male</td>\n",
       "                        <td id=\"T_85adeb38_1fd0_11ea_969f_482ae3057161row134_col5\" class=\"data row134 col5\" >57</td>\n",
       "                        <td id=\"T_85adeb38_1fd0_11ea_969f_482ae3057161row134_col6\" class=\"data row134 col6\" >beginner</td>\n",
       "                        <td id=\"T_85adeb38_1fd0_11ea_969f_482ae3057161row134_col7\" class=\"data row134 col7\" >46</td>\n",
       "            </tr>\n",
       "            <tr>\n",
       "                                <td id=\"T_85adeb38_1fd0_11ea_969f_482ae3057161row135_col0\" class=\"data row135 col0\" >136</td>\n",
       "                        <td id=\"T_85adeb38_1fd0_11ea_969f_482ae3057161row135_col1\" class=\"data row135 col1\" >291500</td>\n",
       "                        <td id=\"T_85adeb38_1fd0_11ea_969f_482ae3057161row135_col2\" class=\"data row135 col2\" >24</td>\n",
       "                        <td id=\"T_85adeb38_1fd0_11ea_969f_482ae3057161row135_col3\" class=\"data row135 col3\" >581</td>\n",
       "                        <td id=\"T_85adeb38_1fd0_11ea_969f_482ae3057161row135_col4\" class=\"data row135 col4\" >male</td>\n",
       "                        <td id=\"T_85adeb38_1fd0_11ea_969f_482ae3057161row135_col5\" class=\"data row135 col5\" >25</td>\n",
       "                        <td id=\"T_85adeb38_1fd0_11ea_969f_482ae3057161row135_col6\" class=\"data row135 col6\" >beginner</td>\n",
       "                        <td id=\"T_85adeb38_1fd0_11ea_969f_482ae3057161row135_col7\" class=\"data row135 col7\" >54</td>\n",
       "            </tr>\n",
       "            <tr>\n",
       "                                <td id=\"T_85adeb38_1fd0_11ea_969f_482ae3057161row136_col0\" class=\"data row136 col0\" >137</td>\n",
       "                        <td id=\"T_85adeb38_1fd0_11ea_969f_482ae3057161row136_col1\" class=\"data row136 col1\" >173000</td>\n",
       "                        <td id=\"T_85adeb38_1fd0_11ea_969f_482ae3057161row136_col2\" class=\"data row136 col2\" >25</td>\n",
       "                        <td id=\"T_85adeb38_1fd0_11ea_969f_482ae3057161row136_col3\" class=\"data row136 col3\" >344</td>\n",
       "                        <td id=\"T_85adeb38_1fd0_11ea_969f_482ae3057161row136_col4\" class=\"data row136 col4\" >male</td>\n",
       "                        <td id=\"T_85adeb38_1fd0_11ea_969f_482ae3057161row136_col5\" class=\"data row136 col5\" >63</td>\n",
       "                        <td id=\"T_85adeb38_1fd0_11ea_969f_482ae3057161row136_col6\" class=\"data row136 col6\" >advanced</td>\n",
       "                        <td id=\"T_85adeb38_1fd0_11ea_969f_482ae3057161row136_col7\" class=\"data row136 col7\" >63</td>\n",
       "            </tr>\n",
       "            <tr>\n",
       "                                <td id=\"T_85adeb38_1fd0_11ea_969f_482ae3057161row137_col0\" class=\"data row137 col0\" >138</td>\n",
       "                        <td id=\"T_85adeb38_1fd0_11ea_969f_482ae3057161row137_col1\" class=\"data row137 col1\" >189500</td>\n",
       "                        <td id=\"T_85adeb38_1fd0_11ea_969f_482ae3057161row137_col2\" class=\"data row137 col2\" >29</td>\n",
       "                        <td id=\"T_85adeb38_1fd0_11ea_969f_482ae3057161row137_col3\" class=\"data row137 col3\" >377</td>\n",
       "                        <td id=\"T_85adeb38_1fd0_11ea_969f_482ae3057161row137_col4\" class=\"data row137 col4\" >male</td>\n",
       "                        <td id=\"T_85adeb38_1fd0_11ea_969f_482ae3057161row137_col5\" class=\"data row137 col5\" >22</td>\n",
       "                        <td id=\"T_85adeb38_1fd0_11ea_969f_482ae3057161row137_col6\" class=\"data row137 col6\" >advanced</td>\n",
       "                        <td id=\"T_85adeb38_1fd0_11ea_969f_482ae3057161row137_col7\" class=\"data row137 col7\" >64</td>\n",
       "            </tr>\n",
       "            <tr>\n",
       "                                <td id=\"T_85adeb38_1fd0_11ea_969f_482ae3057161row138_col0\" class=\"data row138 col0\" >139</td>\n",
       "                        <td id=\"T_85adeb38_1fd0_11ea_969f_482ae3057161row138_col1\" class=\"data row138 col1\" >164500</td>\n",
       "                        <td id=\"T_85adeb38_1fd0_11ea_969f_482ae3057161row138_col2\" class=\"data row138 col2\" >22</td>\n",
       "                        <td id=\"T_85adeb38_1fd0_11ea_969f_482ae3057161row138_col3\" class=\"data row138 col3\" >327</td>\n",
       "                        <td id=\"T_85adeb38_1fd0_11ea_969f_482ae3057161row138_col4\" class=\"data row138 col4\" >male</td>\n",
       "                        <td id=\"T_85adeb38_1fd0_11ea_969f_482ae3057161row138_col5\" class=\"data row138 col5\" >66</td>\n",
       "                        <td id=\"T_85adeb38_1fd0_11ea_969f_482ae3057161row138_col6\" class=\"data row138 col6\" >advanced</td>\n",
       "                        <td id=\"T_85adeb38_1fd0_11ea_969f_482ae3057161row138_col7\" class=\"data row138 col7\" >46</td>\n",
       "            </tr>\n",
       "            <tr>\n",
       "                                <td id=\"T_85adeb38_1fd0_11ea_969f_482ae3057161row139_col0\" class=\"data row139 col0\" >140</td>\n",
       "                        <td id=\"T_85adeb38_1fd0_11ea_969f_482ae3057161row139_col1\" class=\"data row139 col1\" >206000</td>\n",
       "                        <td id=\"T_85adeb38_1fd0_11ea_969f_482ae3057161row139_col2\" class=\"data row139 col2\" >25</td>\n",
       "                        <td id=\"T_85adeb38_1fd0_11ea_969f_482ae3057161row139_col3\" class=\"data row139 col3\" >410</td>\n",
       "                        <td id=\"T_85adeb38_1fd0_11ea_969f_482ae3057161row139_col4\" class=\"data row139 col4\" >male</td>\n",
       "                        <td id=\"T_85adeb38_1fd0_11ea_969f_482ae3057161row139_col5\" class=\"data row139 col5\" >36</td>\n",
       "                        <td id=\"T_85adeb38_1fd0_11ea_969f_482ae3057161row139_col6\" class=\"data row139 col6\" >beginner</td>\n",
       "                        <td id=\"T_85adeb38_1fd0_11ea_969f_482ae3057161row139_col7\" class=\"data row139 col7\" >47</td>\n",
       "            </tr>\n",
       "            <tr>\n",
       "                                <td id=\"T_85adeb38_1fd0_11ea_969f_482ae3057161row140_col0\" class=\"data row140 col0\" >141</td>\n",
       "                        <td id=\"T_85adeb38_1fd0_11ea_969f_482ae3057161row140_col1\" class=\"data row140 col1\" >300000</td>\n",
       "                        <td id=\"T_85adeb38_1fd0_11ea_969f_482ae3057161row140_col2\" class=\"data row140 col2\" >21</td>\n",
       "                        <td id=\"T_85adeb38_1fd0_11ea_969f_482ae3057161row140_col3\" class=\"data row140 col3\" >598</td>\n",
       "                        <td id=\"T_85adeb38_1fd0_11ea_969f_482ae3057161row140_col4\" class=\"data row140 col4\" >male</td>\n",
       "                        <td id=\"T_85adeb38_1fd0_11ea_969f_482ae3057161row140_col5\" class=\"data row140 col5\" >50</td>\n",
       "                        <td id=\"T_85adeb38_1fd0_11ea_969f_482ae3057161row140_col6\" class=\"data row140 col6\" >intermediate</td>\n",
       "                        <td id=\"T_85adeb38_1fd0_11ea_969f_482ae3057161row140_col7\" class=\"data row140 col7\" >57</td>\n",
       "            </tr>\n",
       "            <tr>\n",
       "                                <td id=\"T_85adeb38_1fd0_11ea_969f_482ae3057161row141_col0\" class=\"data row141 col0\" >142</td>\n",
       "                        <td id=\"T_85adeb38_1fd0_11ea_969f_482ae3057161row141_col1\" class=\"data row141 col1\" >159000</td>\n",
       "                        <td id=\"T_85adeb38_1fd0_11ea_969f_482ae3057161row141_col2\" class=\"data row141 col2\" >24</td>\n",
       "                        <td id=\"T_85adeb38_1fd0_11ea_969f_482ae3057161row141_col3\" class=\"data row141 col3\" >316</td>\n",
       "                        <td id=\"T_85adeb38_1fd0_11ea_969f_482ae3057161row141_col4\" class=\"data row141 col4\" >male</td>\n",
       "                        <td id=\"T_85adeb38_1fd0_11ea_969f_482ae3057161row141_col5\" class=\"data row141 col5\" >31</td>\n",
       "                        <td id=\"T_85adeb38_1fd0_11ea_969f_482ae3057161row141_col6\" class=\"data row141 col6\" >advanced</td>\n",
       "                        <td id=\"T_85adeb38_1fd0_11ea_969f_482ae3057161row141_col7\" class=\"data row141 col7\" >52</td>\n",
       "            </tr>\n",
       "            <tr>\n",
       "                                <td id=\"T_85adeb38_1fd0_11ea_969f_482ae3057161row142_col0\" class=\"data row142 col0\" >143</td>\n",
       "                        <td id=\"T_85adeb38_1fd0_11ea_969f_482ae3057161row142_col1\" class=\"data row142 col1\" >183500</td>\n",
       "                        <td id=\"T_85adeb38_1fd0_11ea_969f_482ae3057161row142_col2\" class=\"data row142 col2\" >23</td>\n",
       "                        <td id=\"T_85adeb38_1fd0_11ea_969f_482ae3057161row142_col3\" class=\"data row142 col3\" >365</td>\n",
       "                        <td id=\"T_85adeb38_1fd0_11ea_969f_482ae3057161row142_col4\" class=\"data row142 col4\" >male</td>\n",
       "                        <td id=\"T_85adeb38_1fd0_11ea_969f_482ae3057161row142_col5\" class=\"data row142 col5\" >28</td>\n",
       "                        <td id=\"T_85adeb38_1fd0_11ea_969f_482ae3057161row142_col6\" class=\"data row142 col6\" >advanced</td>\n",
       "                        <td id=\"T_85adeb38_1fd0_11ea_969f_482ae3057161row142_col7\" class=\"data row142 col7\" >47</td>\n",
       "            </tr>\n",
       "            <tr>\n",
       "                                <td id=\"T_85adeb38_1fd0_11ea_969f_482ae3057161row143_col0\" class=\"data row143 col0\" >144</td>\n",
       "                        <td id=\"T_85adeb38_1fd0_11ea_969f_482ae3057161row143_col1\" class=\"data row143 col1\" >249500</td>\n",
       "                        <td id=\"T_85adeb38_1fd0_11ea_969f_482ae3057161row143_col2\" class=\"data row143 col2\" >21</td>\n",
       "                        <td id=\"T_85adeb38_1fd0_11ea_969f_482ae3057161row143_col3\" class=\"data row143 col3\" >497</td>\n",
       "                        <td id=\"T_85adeb38_1fd0_11ea_969f_482ae3057161row143_col4\" class=\"data row143 col4\" >male</td>\n",
       "                        <td id=\"T_85adeb38_1fd0_11ea_969f_482ae3057161row143_col5\" class=\"data row143 col5\" >41</td>\n",
       "                        <td id=\"T_85adeb38_1fd0_11ea_969f_482ae3057161row143_col6\" class=\"data row143 col6\" >advanced</td>\n",
       "                        <td id=\"T_85adeb38_1fd0_11ea_969f_482ae3057161row143_col7\" class=\"data row143 col7\" >55</td>\n",
       "            </tr>\n",
       "            <tr>\n",
       "                                <td id=\"T_85adeb38_1fd0_11ea_969f_482ae3057161row144_col0\" class=\"data row144 col0\" >145</td>\n",
       "                        <td id=\"T_85adeb38_1fd0_11ea_969f_482ae3057161row144_col1\" class=\"data row144 col1\" >164000</td>\n",
       "                        <td id=\"T_85adeb38_1fd0_11ea_969f_482ae3057161row144_col2\" class=\"data row144 col2\" >25</td>\n",
       "                        <td id=\"T_85adeb38_1fd0_11ea_969f_482ae3057161row144_col3\" class=\"data row144 col3\" >326</td>\n",
       "                        <td id=\"T_85adeb38_1fd0_11ea_969f_482ae3057161row144_col4\" class=\"data row144 col4\" >male</td>\n",
       "                        <td id=\"T_85adeb38_1fd0_11ea_969f_482ae3057161row144_col5\" class=\"data row144 col5\" >35</td>\n",
       "                        <td id=\"T_85adeb38_1fd0_11ea_969f_482ae3057161row144_col6\" class=\"data row144 col6\" >advanced</td>\n",
       "                        <td id=\"T_85adeb38_1fd0_11ea_969f_482ae3057161row144_col7\" class=\"data row144 col7\" >45</td>\n",
       "            </tr>\n",
       "            <tr>\n",
       "                                <td id=\"T_85adeb38_1fd0_11ea_969f_482ae3057161row145_col0\" class=\"data row145 col0\" >146</td>\n",
       "                        <td id=\"T_85adeb38_1fd0_11ea_969f_482ae3057161row145_col1\" class=\"data row145 col1\" >264500</td>\n",
       "                        <td id=\"T_85adeb38_1fd0_11ea_969f_482ae3057161row145_col2\" class=\"data row145 col2\" >23</td>\n",
       "                        <td id=\"T_85adeb38_1fd0_11ea_969f_482ae3057161row145_col3\" class=\"data row145 col3\" >527</td>\n",
       "                        <td id=\"T_85adeb38_1fd0_11ea_969f_482ae3057161row145_col4\" class=\"data row145 col4\" >male</td>\n",
       "                        <td id=\"T_85adeb38_1fd0_11ea_969f_482ae3057161row145_col5\" class=\"data row145 col5\" >25</td>\n",
       "                        <td id=\"T_85adeb38_1fd0_11ea_969f_482ae3057161row145_col6\" class=\"data row145 col6\" >beginner</td>\n",
       "                        <td id=\"T_85adeb38_1fd0_11ea_969f_482ae3057161row145_col7\" class=\"data row145 col7\" >54</td>\n",
       "            </tr>\n",
       "            <tr>\n",
       "                                <td id=\"T_85adeb38_1fd0_11ea_969f_482ae3057161row146_col0\" class=\"data row146 col0\" >147</td>\n",
       "                        <td id=\"T_85adeb38_1fd0_11ea_969f_482ae3057161row146_col1\" class=\"data row146 col1\" >292500</td>\n",
       "                        <td id=\"T_85adeb38_1fd0_11ea_969f_482ae3057161row146_col2\" class=\"data row146 col2\" >28</td>\n",
       "                        <td id=\"T_85adeb38_1fd0_11ea_969f_482ae3057161row146_col3\" class=\"data row146 col3\" >583</td>\n",
       "                        <td id=\"T_85adeb38_1fd0_11ea_969f_482ae3057161row146_col4\" class=\"data row146 col4\" >female</td>\n",
       "                        <td id=\"T_85adeb38_1fd0_11ea_969f_482ae3057161row146_col5\" class=\"data row146 col5\" >42</td>\n",
       "                        <td id=\"T_85adeb38_1fd0_11ea_969f_482ae3057161row146_col6\" class=\"data row146 col6\" >advanced</td>\n",
       "                        <td id=\"T_85adeb38_1fd0_11ea_969f_482ae3057161row146_col7\" class=\"data row146 col7\" >63</td>\n",
       "            </tr>\n",
       "            <tr>\n",
       "                                <td id=\"T_85adeb38_1fd0_11ea_969f_482ae3057161row147_col0\" class=\"data row147 col0\" >148</td>\n",
       "                        <td id=\"T_85adeb38_1fd0_11ea_969f_482ae3057161row147_col1\" class=\"data row147 col1\" >228000</td>\n",
       "                        <td id=\"T_85adeb38_1fd0_11ea_969f_482ae3057161row147_col2\" class=\"data row147 col2\" >28</td>\n",
       "                        <td id=\"T_85adeb38_1fd0_11ea_969f_482ae3057161row147_col3\" class=\"data row147 col3\" >454</td>\n",
       "                        <td id=\"T_85adeb38_1fd0_11ea_969f_482ae3057161row147_col4\" class=\"data row147 col4\" >male</td>\n",
       "                        <td id=\"T_85adeb38_1fd0_11ea_969f_482ae3057161row147_col5\" class=\"data row147 col5\" >28</td>\n",
       "                        <td id=\"T_85adeb38_1fd0_11ea_969f_482ae3057161row147_col6\" class=\"data row147 col6\" >intermediate</td>\n",
       "                        <td id=\"T_85adeb38_1fd0_11ea_969f_482ae3057161row147_col7\" class=\"data row147 col7\" >51</td>\n",
       "            </tr>\n",
       "            <tr>\n",
       "                                <td id=\"T_85adeb38_1fd0_11ea_969f_482ae3057161row148_col0\" class=\"data row148 col0\" >149</td>\n",
       "                        <td id=\"T_85adeb38_1fd0_11ea_969f_482ae3057161row148_col1\" class=\"data row148 col1\" >203500</td>\n",
       "                        <td id=\"T_85adeb38_1fd0_11ea_969f_482ae3057161row148_col2\" class=\"data row148 col2\" >29</td>\n",
       "                        <td id=\"T_85adeb38_1fd0_11ea_969f_482ae3057161row148_col3\" class=\"data row148 col3\" >405</td>\n",
       "                        <td id=\"T_85adeb38_1fd0_11ea_969f_482ae3057161row148_col4\" class=\"data row148 col4\" >female</td>\n",
       "                        <td id=\"T_85adeb38_1fd0_11ea_969f_482ae3057161row148_col5\" class=\"data row148 col5\" >46</td>\n",
       "                        <td id=\"T_85adeb38_1fd0_11ea_969f_482ae3057161row148_col6\" class=\"data row148 col6\" >intermediate</td>\n",
       "                        <td id=\"T_85adeb38_1fd0_11ea_969f_482ae3057161row148_col7\" class=\"data row148 col7\" >47</td>\n",
       "            </tr>\n",
       "            <tr>\n",
       "                                <td id=\"T_85adeb38_1fd0_11ea_969f_482ae3057161row149_col0\" class=\"data row149 col0\" >150</td>\n",
       "                        <td id=\"T_85adeb38_1fd0_11ea_969f_482ae3057161row149_col1\" class=\"data row149 col1\" >162500</td>\n",
       "                        <td id=\"T_85adeb38_1fd0_11ea_969f_482ae3057161row149_col2\" class=\"data row149 col2\" >27</td>\n",
       "                        <td id=\"T_85adeb38_1fd0_11ea_969f_482ae3057161row149_col3\" class=\"data row149 col3\" >323</td>\n",
       "                        <td id=\"T_85adeb38_1fd0_11ea_969f_482ae3057161row149_col4\" class=\"data row149 col4\" >male</td>\n",
       "                        <td id=\"T_85adeb38_1fd0_11ea_969f_482ae3057161row149_col5\" class=\"data row149 col5\" >38</td>\n",
       "                        <td id=\"T_85adeb38_1fd0_11ea_969f_482ae3057161row149_col6\" class=\"data row149 col6\" >advanced</td>\n",
       "                        <td id=\"T_85adeb38_1fd0_11ea_969f_482ae3057161row149_col7\" class=\"data row149 col7\" >52</td>\n",
       "            </tr>\n",
       "    </tbody></table>"
      ],
      "text/plain": [
       "<pandas.io.formats.style.Styler at 0x1de6429f240>"
      ]
     },
     "execution_count": 10,
     "metadata": {},
     "output_type": "execute_result"
    }
   ],
   "source": [
    "# Creating dataset of the numpy.random arrays above showing the various variables in explaining the poker tournament phenomenon.\n",
    "# Using pandas Datframe() function in importing the arrays and titling the columns.\n",
    "dataset = pd.DataFrame({'count': field, 'chips': chips, 'gwp': totalgwp, \n",
    "                        'totalpts': totalpts, 'gender': gender,\n",
    "                        'age':age, 'level': level, 'handswon%': handswon})\n",
    "# Hiding the index as the count column will act as the index using hide_index().\n",
    "# Setting the style of the Dataframe using the pandas style() function which produces a neater output.\n",
    "dataset.style.hide_index()"
   ]
  },
  {
   "cell_type": "markdown",
   "metadata": {},
   "source": [
    "# 5. Analysis of Variables\n",
    "### Using the Newly Created Simulated Poker Tournament Dataset\n",
    "\n",
    "Firstly, to analyze the dataset there will be various types of analysis of certain parts undertaken in explaining the poker tournament overall, as listed below:\n",
    "\n",
    "1. Descriptive Statistics Analysis\n",
    "2. Univariate Analysis\n",
    "3. Bivariate Analysis (including regressional analysis)\n",
    "4. Multivariate Analysis\n",
    "\n",
    "Secondly, as seen, there are two types of data: categorical and numerical data. Categorical data is non numerical data such as gender, race, religion, etc. while numerical data is any data that have a measurement or count in data type, e.g. height, weight, age, etc. These data types will be analyzed using the above analyses hereafter.\n",
    "\n",
    "Within this poker tournament data set the attributes are be subdivided into:\n",
    "\n",
    "Categorical data:\n",
    "- gender\n",
    "- level\n",
    "\n",
    "Numerical data:\n",
    "- age\n",
    "- gwp\n",
    "- totalpts\n",
    "- chips\n",
    "- count\n",
    "- handswon%\n",
    "\n",
    "Finally the packages for analyzing and, most importantly, visualizing the variables in the poker tournament dataset will be as follows:\n",
    "\n",
    "* Pandas - \"is an open source, BSD-licensed library providing high-performance, easy-to-use data structures and data analysis tools for the Python programming language\" (pandas Documentation, 2019).\n",
    "* Matplotlib - \"tries to make easy things easy and hard things possible. You can generate plots, histograms, power spectra, bar charts, errorcharts, scatterplots, etc., with just a few lines of code\" (Matplotlib Documentation, 2019). \n",
    "* Seaborn - a higher level data visualization package than matlplotlib which is built on top of it and Waskom has described it as \"If Matplotlib “tries to make easy things easy and hard things possible”, seaborn tries to make a well-defined set of hard things easy too.” (Singh, 2019)\n",
    "\n",
    "### Descriptive Statistics Analysis\n",
    "\n",
    "Descriptive statistics - \"are brief descriptive coefficients that summarize a given data set, which can be either a representation of the entire or a sample of a population\" Investopedia (2019). Brief descriptive statistical codes are set in pandas and they are outlined below;\n",
    "\n",
    "#### Info()"
   ]
  },
  {
   "cell_type": "code",
   "execution_count": 11,
   "metadata": {},
   "outputs": [
    {
     "name": "stdout",
     "output_type": "stream",
     "text": [
      "<class 'pandas.core.frame.DataFrame'>\n",
      "RangeIndex: 150 entries, 0 to 149\n",
      "Data columns (total 8 columns):\n",
      "count        150 non-null int32\n",
      "chips        150 non-null int32\n",
      "gwp          150 non-null int32\n",
      "totalpts     150 non-null int32\n",
      "gender       150 non-null object\n",
      "age          150 non-null int32\n",
      "level        150 non-null object\n",
      "handswon%    150 non-null int32\n",
      "dtypes: int32(6), object(2)\n",
      "memory usage: 5.9+ KB\n"
     ]
    }
   ],
   "source": [
    "# The info() function describes the index, column number, column names, data types, counts and memory usage.\n",
    "dataset.info()"
   ]
  },
  {
   "cell_type": "markdown",
   "metadata": {},
   "source": [
    "As seen the data types are int32 for all except the categorical data types, gender and level which are objects. There are 8 columns x 150 entries as expected.\n",
    "\n",
    "#### mean()"
   ]
  },
  {
   "cell_type": "code",
   "execution_count": 12,
   "metadata": {},
   "outputs": [
    {
     "data": {
      "text/plain": [
       "count            75.500000\n",
       "chips        126396.666667\n",
       "gwp              15.120000\n",
       "totalpts        250.793333\n",
       "age              41.086667\n",
       "handswon%        46.506667\n",
       "dtype: float64"
      ]
     },
     "execution_count": 12,
     "metadata": {},
     "output_type": "execute_result"
    }
   ],
   "source": [
    "# The mean() function outputs all means for the numerical data types.\n",
    "dataset.mean()"
   ]
  },
  {
   "cell_type": "markdown",
   "metadata": {},
   "source": [
    "From this we can determine, on a basic level, the average player could have 126397 chips stemming from their 251 points, have played 15 gameweeks, with a win percentage of 46.51% and be 41 years of age.\n",
    "\n",
    "#### std()\n",
    "\n",
    "The measuring of variation is compiled by calculating the Standard Deviation of the dataset which details the variation in the spread of the values recorded, where a low standard deviation shows values close to the mean and high means spread of values are further from the mean. The mathematical calculation of the standard deviation is simplified by pandas through their std() function and it is used in Python in the following code:"
   ]
  },
  {
   "cell_type": "code",
   "execution_count": 13,
   "metadata": {},
   "outputs": [
    {
     "data": {
      "text/plain": [
       "count           43.445368\n",
       "chips        79657.031116\n",
       "gwp              8.629526\n",
       "totalpts       159.314062\n",
       "age             15.703177\n",
       "handswon%        9.248796\n",
       "dtype: float64"
      ]
     },
     "execution_count": 13,
     "metadata": {},
     "output_type": "execute_result"
    }
   ],
   "source": [
    "dataset.std()"
   ]
  },
  {
   "cell_type": "markdown",
   "metadata": {},
   "source": [
    "The standard deviations could all be deemed to have a high spread from the mean showing a wide distribution dataset.\n",
    "\n",
    "#### describe()"
   ]
  },
  {
   "cell_type": "code",
   "execution_count": 14,
   "metadata": {},
   "outputs": [
    {
     "data": {
      "text/html": [
       "<div>\n",
       "<style scoped>\n",
       "    .dataframe tbody tr th:only-of-type {\n",
       "        vertical-align: middle;\n",
       "    }\n",
       "\n",
       "    .dataframe tbody tr th {\n",
       "        vertical-align: top;\n",
       "    }\n",
       "\n",
       "    .dataframe thead th {\n",
       "        text-align: right;\n",
       "    }\n",
       "</style>\n",
       "<table border=\"1\" class=\"dataframe\">\n",
       "  <thead>\n",
       "    <tr style=\"text-align: right;\">\n",
       "      <th></th>\n",
       "      <th>count</th>\n",
       "      <th>chips</th>\n",
       "      <th>gwp</th>\n",
       "      <th>totalpts</th>\n",
       "      <th>age</th>\n",
       "      <th>handswon%</th>\n",
       "    </tr>\n",
       "  </thead>\n",
       "  <tbody>\n",
       "    <tr>\n",
       "      <th>count</th>\n",
       "      <td>150.000000</td>\n",
       "      <td>150.000000</td>\n",
       "      <td>150.000000</td>\n",
       "      <td>150.000000</td>\n",
       "      <td>150.000000</td>\n",
       "      <td>150.000000</td>\n",
       "    </tr>\n",
       "    <tr>\n",
       "      <th>mean</th>\n",
       "      <td>75.500000</td>\n",
       "      <td>126396.666667</td>\n",
       "      <td>15.120000</td>\n",
       "      <td>250.793333</td>\n",
       "      <td>41.086667</td>\n",
       "      <td>46.506667</td>\n",
       "    </tr>\n",
       "    <tr>\n",
       "      <th>std</th>\n",
       "      <td>43.445368</td>\n",
       "      <td>79657.031116</td>\n",
       "      <td>8.629526</td>\n",
       "      <td>159.314062</td>\n",
       "      <td>15.703177</td>\n",
       "      <td>9.248796</td>\n",
       "    </tr>\n",
       "    <tr>\n",
       "      <th>min</th>\n",
       "      <td>1.000000</td>\n",
       "      <td>16000.000000</td>\n",
       "      <td>1.000000</td>\n",
       "      <td>30.000000</td>\n",
       "      <td>18.000000</td>\n",
       "      <td>25.000000</td>\n",
       "    </tr>\n",
       "    <tr>\n",
       "      <th>25%</th>\n",
       "      <td>38.250000</td>\n",
       "      <td>59500.000000</td>\n",
       "      <td>8.000000</td>\n",
       "      <td>117.000000</td>\n",
       "      <td>28.000000</td>\n",
       "      <td>40.000000</td>\n",
       "    </tr>\n",
       "    <tr>\n",
       "      <th>50%</th>\n",
       "      <td>75.500000</td>\n",
       "      <td>112250.000000</td>\n",
       "      <td>15.000000</td>\n",
       "      <td>222.500000</td>\n",
       "      <td>39.500000</td>\n",
       "      <td>47.000000</td>\n",
       "    </tr>\n",
       "    <tr>\n",
       "      <th>75%</th>\n",
       "      <td>112.750000</td>\n",
       "      <td>176375.000000</td>\n",
       "      <td>22.750000</td>\n",
       "      <td>350.750000</td>\n",
       "      <td>54.000000</td>\n",
       "      <td>54.000000</td>\n",
       "    </tr>\n",
       "    <tr>\n",
       "      <th>max</th>\n",
       "      <td>150.000000</td>\n",
       "      <td>300000.000000</td>\n",
       "      <td>29.000000</td>\n",
       "      <td>598.000000</td>\n",
       "      <td>74.000000</td>\n",
       "      <td>64.000000</td>\n",
       "    </tr>\n",
       "  </tbody>\n",
       "</table>\n",
       "</div>"
      ],
      "text/plain": [
       "            count          chips         gwp    totalpts         age  \\\n",
       "count  150.000000     150.000000  150.000000  150.000000  150.000000   \n",
       "mean    75.500000  126396.666667   15.120000  250.793333   41.086667   \n",
       "std     43.445368   79657.031116    8.629526  159.314062   15.703177   \n",
       "min      1.000000   16000.000000    1.000000   30.000000   18.000000   \n",
       "25%     38.250000   59500.000000    8.000000  117.000000   28.000000   \n",
       "50%     75.500000  112250.000000   15.000000  222.500000   39.500000   \n",
       "75%    112.750000  176375.000000   22.750000  350.750000   54.000000   \n",
       "max    150.000000  300000.000000   29.000000  598.000000   74.000000   \n",
       "\n",
       "        handswon%  \n",
       "count  150.000000  \n",
       "mean    46.506667  \n",
       "std      9.248796  \n",
       "min     25.000000  \n",
       "25%     40.000000  \n",
       "50%     47.000000  \n",
       "75%     54.000000  \n",
       "max     64.000000  "
      ]
     },
     "execution_count": 14,
     "metadata": {},
     "output_type": "execute_result"
    }
   ],
   "source": [
    "dataset.describe()"
   ]
  },
  {
   "cell_type": "markdown",
   "metadata": {},
   "source": [
    "Pandas have a useful function called as describe() which details dataset count, mean, standard deviation, minimum and maximum data points as well as the quartile ranges of 25%, 50% and 75% which and all be useful tools for understanding coefficients of the dataset on analysis. "
   ]
  },
  {
   "cell_type": "markdown",
   "metadata": {},
   "source": [
    "### Univariate Analysis\n",
    "\n",
    "A univariate analysis attempts to analyze a singe variable within a dataset. For the numerical data types, we can use other panda's histogram [hist()] function as well as seaborn's [boxplot] function and for the categorical data types we can use seaborns bar chart type countplot() and pandas pie chart plot.pie();"
   ]
  },
  {
   "cell_type": "code",
   "execution_count": 15,
   "metadata": {},
   "outputs": [
    {
     "data": {
      "text/plain": [
       "array([[<matplotlib.axes._subplots.AxesSubplot object at 0x000001DE6581C550>]],\n",
       "      dtype=object)"
      ]
     },
     "execution_count": 15,
     "metadata": {},
     "output_type": "execute_result"
    },
    {
     "data": {
      "image/png": "[encoded data removed]",
      "text/plain": [
       "<Figure size 432x288 with 1 Axes>"
      ]
     },
     "metadata": {
      "needs_background": "light"
     },
     "output_type": "display_data"
    },
    {
     "data": {
      "image/png": "[encoded data removed]",
      "text/plain": [
       "<Figure size 432x288 with 1 Axes>"
      ]
     },
     "metadata": {
      "needs_background": "light"
     },
     "output_type": "display_data"
    }
   ],
   "source": [
    "#Histogram showing the chip totals on the x axis and total of players with amounts on the y axis.\n",
    "dataset.hist('chips')\n",
    "#Histogram showing the points totals on the x axis and total of players with amounts on the y axis.\n",
    "dataset.hist('totalpts')"
   ]
  },
  {
   "cell_type": "markdown",
   "metadata": {},
   "source": [
    "#### Chips + Points: As you can see the distribution of both these above graphs are the same as they are both mapped off each other, as seen above."
   ]
  },
  {
   "cell_type": "code",
   "execution_count": 16,
   "metadata": {},
   "outputs": [
    {
     "data": {
      "text/plain": [
       "<matplotlib.axes._subplots.AxesSubplot at 0x1de65b399e8>"
      ]
     },
     "execution_count": 16,
     "metadata": {},
     "output_type": "execute_result"
    },
    {
     "data": {
      "image/png": "[encoded data removed]",
      "text/plain": [
       "<Figure size 432x288 with 1 Axes>"
      ]
     },
     "metadata": {
      "needs_background": "light"
     },
     "output_type": "display_data"
    }
   ],
   "source": [
    "#Boxplot showing the gameweeks played distribution. \n",
    "#The box in green shows the spread from the mean and the lines from the box completing the total range.\n",
    "sns.boxplot('gwp', data=dataset, color = 'g')"
   ]
  },
  {
   "cell_type": "markdown",
   "metadata": {},
   "source": [
    "#### Gameweeks played: The green box shows a spread from mean of approx 8 - 23 gameweeks and the line extends to 1-29 range."
   ]
  },
  {
   "cell_type": "code",
   "execution_count": 17,
   "metadata": {},
   "outputs": [
    {
     "data": {
      "text/plain": [
       "<matplotlib.axes._subplots.AxesSubplot at 0x1de65b95240>"
      ]
     },
     "execution_count": 17,
     "metadata": {},
     "output_type": "execute_result"
    },
    {
     "data": {
      "image/png": "[encoded data removed]",
      "text/plain": [
       "<Figure size 432x288 with 1 Axes>"
      ]
     },
     "metadata": {
      "needs_background": "light"
     },
     "output_type": "display_data"
    }
   ],
   "source": [
    "#Boxplot showing the age distribution. \n",
    "#The box in red shows the spread from the mean and the lines from the box completing the total range.\n",
    "sns.boxplot('age', data=dataset, color = 'r')"
   ]
  },
  {
   "cell_type": "markdown",
   "metadata": {},
   "source": [
    "#### Age: Box in red shows approximate spread from mean of 29 - 52 and extends to complete range of 19 - 72."
   ]
  },
  {
   "cell_type": "code",
   "execution_count": 18,
   "metadata": {},
   "outputs": [
    {
     "data": {
      "text/plain": [
       "<matplotlib.axes._subplots.AxesSubplot at 0x1de65c03588>"
      ]
     },
     "execution_count": 18,
     "metadata": {},
     "output_type": "execute_result"
    },
    {
     "data": {
      "image/png": "[encoded data removed]",
      "text/plain": [
       "<Figure size 432x288 with 1 Axes>"
      ]
     },
     "metadata": {
      "needs_background": "light"
     },
     "output_type": "display_data"
    }
   ],
   "source": [
    "#Boxplot showing the hands won percentage distribution. \n",
    "#The box in yellow shows the spread from the mean and the lines from the box completing the total range.\n",
    "sns.boxplot('handswon%', data=dataset, color = 'y')"
   ]
  },
  {
   "cell_type": "markdown",
   "metadata": {},
   "source": [
    "#### Handswon%: Box in yellow showing an approximate range of 40 - 54 and an lines complete range to 25 - 64."
   ]
  },
  {
   "cell_type": "code",
   "execution_count": 19,
   "metadata": {},
   "outputs": [
    {
     "data": {
      "image/png": "[encoded data removed]",
      "text/plain": [
       "<Figure size 432x288 with 1 Axes>"
      ]
     },
     "metadata": {
      "needs_background": "light"
     },
     "output_type": "display_data"
    }
   ],
   "source": [
    "#Countplot showing the amounts of gender, either male or female.\n",
    "bar1 = sns.countplot(x='gender', data=dataset)"
   ]
  },
  {
   "cell_type": "markdown",
   "metadata": {},
   "source": [
    "#### Gender: Bar charts showing counts of gender column out of 150, as expected 135 males and 15 females in a visual representation."
   ]
  },
  {
   "cell_type": "code",
   "execution_count": 20,
   "metadata": {},
   "outputs": [
    {
     "data": {
      "text/plain": [
       "<matplotlib.axes._subplots.AxesSubplot at 0x1de65cb7ef0>"
      ]
     },
     "execution_count": 20,
     "metadata": {},
     "output_type": "execute_result"
    },
    {
     "data": {
      "image/png": "[encoded data removed]",
      "text/plain": [
       "<Figure size 720x720 with 1 Axes>"
      ]
     },
     "metadata": {},
     "output_type": "display_data"
    }
   ],
   "source": [
    "#Pie chart compiled to show a percentage breakdown of each of the three levels.\n",
    "#Level Column: beginner, intermediate, and advanced.\n",
    "type_counts = dataset['level'].value_counts()\n",
    "dataset2 = pd.DataFrame({'level': type_counts})\n",
    "dataset2.plot.pie(y='level', figsize=(10,10), autopct='%1.1f%%')"
   ]
  },
  {
   "cell_type": "markdown",
   "metadata": {},
   "source": [
    "#### Level: Pie charts shows a percentage breakdown of the level column, with beginners representing the most at 36.7%, intermediate at 34% and advanced, the least of the 3 levels, at 29.3%."
   ]
  },
  {
   "cell_type": "markdown",
   "metadata": {},
   "source": [
    "### Bivariate Analysis \n",
    "\n",
    "A bivariate analysis is the process of analyzing two variables. To understand if their is a relationship between the dependent variable of total chip count and the remaining independent variables in this poker tournament dataset, various data visualization tools will be used.\n",
    "\n",
    "### Plot()\n",
    "First to show the linear relationship between total points and total chips we used Matplotlib's plot() function."
   ]
  },
  {
   "cell_type": "code",
   "execution_count": 34,
   "metadata": {},
   "outputs": [
    {
     "data": {
      "image/png": "[encoded data removed]",
      "text/plain": [
       "<Figure size 432x288 with 1 Axes>"
      ]
     },
     "metadata": {
      "needs_background": "light"
     },
     "output_type": "display_data"
    }
   ],
   "source": [
    "#Plot() called showing relationship between points and chips on x and y.\n",
    "plt.plot(totalpts, chips)\n",
    "plt.title(\"Plot\")\n",
    "plt.xlabel(\"Total Points\")\n",
    "plt.ylabel(\"Total Chips\")\n",
    "plt.show()"
   ]
  },
  {
   "cell_type": "markdown",
   "metadata": {},
   "source": [
    "##### Total Chips vs Total Points: Exact Linear Relationship as expected from simulation.\n",
    "\n",
    "### Lineplot()\n",
    "\n",
    "Seaborns replot() function is a better visualization and can process various kinds of plots using the [kind = ' '] function as seen."
   ]
  },
  {
   "cell_type": "code",
   "execution_count": 39,
   "metadata": {},
   "outputs": [
    {
     "data": {
      "text/plain": [
       "<seaborn.axisgrid.FacetGrid at 0x1de67731f60>"
      ]
     },
     "execution_count": 39,
     "metadata": {},
     "output_type": "execute_result"
    },
    {
     "data": {
      "image/png": "[encoded data removed]",
      "text/plain": [
       "<Figure size 360x360 with 1 Axes>"
      ]
     },
     "metadata": {
      "needs_background": "light"
     },
     "output_type": "display_data"
    }
   ],
   "source": [
    "#Relplot and line kind type to plot the variables gameweeks played and chips.\n",
    "sns.relplot(x=\"gwp\", y=\"chips\", data=dataset, kind = \"line\", color='r')"
   ]
  },
  {
   "cell_type": "markdown",
   "metadata": {},
   "source": [
    "#### Total chips and game weeks played: The line plot shows the relationship between gameweeks played on the x and chips on the y axis where as the gameweeks played increased, the likelihood of chip counts also increases. The shaded red shows the spread from the line distribution.\n",
    "\n",
    "### Scatter()\n",
    "\n",
    "Scatter shows the graph with plots showing the data points."
   ]
  },
  {
   "cell_type": "code",
   "execution_count": 70,
   "metadata": {},
   "outputs": [
    {
     "data": {
      "image/png": "[encoded data removed]",
      "text/plain": [
       "<Figure size 432x288 with 1 Axes>"
      ]
     },
     "metadata": {
      "needs_background": "light"
     },
     "output_type": "display_data"
    }
   ],
   "source": [
    "plt.scatter(age, chips)\n",
    "plt.show()"
   ]
  },
  {
   "cell_type": "markdown",
   "metadata": {},
   "source": [
    "#### Total chips and age - the scatter shows that the spread of data points across all ages between 18 and 75 has no identifiable distribution, meaning regardless of your age you could be no more or less likely to attain higher chip counts.\n",
    "\n",
    "### Scatterplot()\n",
    "\n",
    "Scatterplot() shows the graph with plots showing the data points."
   ]
  },
  {
   "cell_type": "code",
   "execution_count": 58,
   "metadata": {},
   "outputs": [
    {
     "data": {
      "text/plain": [
       "<seaborn.axisgrid.FacetGrid at 0x1de696b8358>"
      ]
     },
     "execution_count": 58,
     "metadata": {},
     "output_type": "execute_result"
    },
    {
     "data": {
      "image/png": "[encoded data removed]",
      "text/plain": [
       "<Figure size 360x360 with 1 Axes>"
      ]
     },
     "metadata": {
      "needs_background": "light"
     },
     "output_type": "display_data"
    }
   ],
   "source": [
    "sns.relplot(x=\"handswon%\", y=\"chips\", data=dataset, kind = \"scatter\", color='g')"
   ]
  },
  {
   "cell_type": "markdown",
   "metadata": {},
   "source": [
    "#### Total chips and hands won percentage: The hands won percentage has a wide spread of data points but the general trend shows that the greater the increase of hands won, the greater the amount of chips a player will have. "
   ]
  },
  {
   "cell_type": "markdown",
   "metadata": {},
   "source": [
    "\n",
    "\n",
    "### Stripplot()\n",
    "\n",
    "Seaborns stripplot shows the data points linearly with the points expanding in strips of dots."
   ]
  },
  {
   "cell_type": "code",
   "execution_count": 63,
   "metadata": {},
   "outputs": [
    {
     "data": {
      "text/plain": [
       "<seaborn.axisgrid.FacetGrid at 0x1de693b29b0>"
      ]
     },
     "execution_count": 63,
     "metadata": {},
     "output_type": "execute_result"
    },
    {
     "data": {
      "image/png": "[encoded data removed]",
      "text/plain": [
       "<Figure size 360x360 with 1 Axes>"
      ]
     },
     "metadata": {
      "needs_background": "light"
     },
     "output_type": "display_data"
    }
   ],
   "source": [
    "#Stripplot() showing the relationship between the total chips and level variables \n",
    "sns.catplot(x=\"chips\", y=\"level\", kind = 'strip', data=dataset)"
   ]
  },
  {
   "cell_type": "markdown",
   "metadata": {},
   "source": [
    "#### Total chips and level of player = scatterplot displays that the data points for chip counts are evenly distribution across each level. From the stripplot() beginners are most evenly distributed, intermediate are less likely to be in the mid range and advance are less likely to be the top range of the total chip counts.\n",
    "\n",
    "### Swarmplot()\n",
    "\n",
    "Seaborns swarmplot shows data points in a swarm style of stripplot"
   ]
  },
  {
   "cell_type": "code",
   "execution_count": 73,
   "metadata": {},
   "outputs": [
    {
     "data": {
      "text/plain": [
       "<matplotlib.axes._subplots.AxesSubplot at 0x1de6b978e10>"
      ]
     },
     "execution_count": 73,
     "metadata": {},
     "output_type": "execute_result"
    },
    {
     "data": {
      "image/png": "[encoded data removed]",
      "text/plain": [
       "<Figure size 432x288 with 1 Axes>"
      ]
     },
     "metadata": {
      "needs_background": "light"
     },
     "output_type": "display_data"
    }
   ],
   "source": [
    "#Swarmplot() showing the relationship between the total chips and gender variables \n",
    "sns.swarmplot(x=\"chips\", y=\"gender\", data=dataset)"
   ]
  },
  {
   "cell_type": "markdown",
   "metadata": {},
   "source": [
    "#### Total chips and Gender - the scatter shows that there were significantly less females than males but that proportionately the distribution across the total chip counts can be wide."
   ]
  },
  {
   "cell_type": "markdown",
   "metadata": {},
   "source": [
    "#### Regressional analysis\n",
    "A common statistical action is to use linear regression to separate classification problems where the line acts as a divide between the different classes (Marsland, 2015)"
   ]
  },
  {
   "cell_type": "code",
   "execution_count": 23,
   "metadata": {},
   "outputs": [
    {
     "data": {
      "text/plain": [
       "<matplotlib.axes._subplots.AxesSubplot at 0x1de65db2470>"
      ]
     },
     "execution_count": 23,
     "metadata": {},
     "output_type": "execute_result"
    },
    {
     "data": {
      "image/png": "[encoded data removed]",
      "text/plain": [
       "<Figure size 432x288 with 1 Axes>"
      ]
     },
     "metadata": {
      "needs_background": "light"
     },
     "output_type": "display_data"
    }
   ],
   "source": [
    "#using Seaborns regplot to show linear regression in dataset\n",
    "sns.regplot(x=\"chips\", y=\"gwp\", data=dataset, color = \"r\")"
   ]
  },
  {
   "cell_type": "code",
   "execution_count": 24,
   "metadata": {},
   "outputs": [
    {
     "data": {
      "text/plain": [
       "<seaborn.axisgrid.FacetGrid at 0x1de65e13048>"
      ]
     },
     "execution_count": 24,
     "metadata": {},
     "output_type": "execute_result"
    },
    {
     "data": {
      "image/png": "[encoded data removed]",
      "text/plain": [
       "<Figure size 360x360 with 1 Axes>"
      ]
     },
     "metadata": {
      "needs_background": "light"
     },
     "output_type": "display_data"
    }
   ],
   "source": [
    "sns.lmplot(x=\"chips\", y=\"handswon%\", data=dataset)"
   ]
  },
  {
   "cell_type": "markdown",
   "metadata": {},
   "source": [
    "Furthermore, as linear regression analysis hopes to predict trends the shaded areas either side of the lines are to portray the statistical mean along the line with a view of predicting generally the tip value at each point. This phenomenon known as the confidence interval reinforces the feeling that those on the extremes from the line and the shaded area are merely exceptions rather than the norm. There are further regressional analyses which can account for the spread of the dataset and the confidence interval. The following example deters the line off straight and it can be called using the parameter lowess as True, as below;"
   ]
  },
  {
   "cell_type": "code",
   "execution_count": 25,
   "metadata": {},
   "outputs": [
    {
     "data": {
      "text/plain": [
       "<seaborn.axisgrid.FacetGrid at 0x1de65e88518>"
      ]
     },
     "execution_count": 25,
     "metadata": {},
     "output_type": "execute_result"
    },
    {
     "data": {
      "image/png": "[encoded data removed]",
      "text/plain": [
       "<Figure size 360x360 with 1 Axes>"
      ]
     },
     "metadata": {
      "needs_background": "light"
     },
     "output_type": "display_data"
    }
   ],
   "source": [
    "#using Seaborns lmplot including the lowess parameter in showing linear regression analysis.\n",
    "sns.lmplot(x=\"totalpts\", y=\"handswon%\", data=dataset, lowess=True)"
   ]
  },
  {
   "cell_type": "markdown",
   "metadata": {},
   "source": [
    "### Multivariate Analysis"
   ]
  },
  {
   "cell_type": "code",
   "execution_count": 74,
   "metadata": {},
   "outputs": [
    {
     "data": {
      "text/plain": [
       "<seaborn.axisgrid.FacetGrid at 0x1de6c99c710>"
      ]
     },
     "execution_count": 74,
     "metadata": {},
     "output_type": "execute_result"
    },
    {
     "data": {
      "image/png": "[encoded data removed]",
      "text/plain": [
       "<Figure size 456.375x360 with 1 Axes>"
      ]
     },
     "metadata": {
      "needs_background": "light"
     },
     "output_type": "display_data"
    }
   ],
   "source": [
    "#using relplot and line type to plot the variables\n",
    "sns.relplot(x=\"chips\", y=\"gwp\", hue = \"handswon%\", data=dataset, kind = \"scatter\")"
   ]
  },
  {
   "cell_type": "markdown",
   "metadata": {},
   "source": [
    "# 6. Conclusion"
   ]
  },
  {
   "cell_type": "code",
   "execution_count": 26,
   "metadata": {},
   "outputs": [
    {
     "name": "stdout",
     "output_type": "stream",
     "text": [
      "1 1\n"
     ]
    }
   ],
   "source": [
    "#binomial example 55% tournament win rate)\n",
    "import matplotlib.pyplot as plt\n",
    "cash = np.zeros(10000)\n",
    "cash[0] = 0\n",
    "outcome = np.random.binomial(1, 1, size=len(cash))\n",
    "\n",
    "for i in range(1, len(cash)):\n",
    "    if outcome[i] < 1:\n",
    "        cash[i] = cash[i - 1] - 1\n",
    "    elif outcome[i] < 3:\n",
    "        cash[i] = cash[i - 1] + 1\n",
    "                \n",
    "print(outcome.min(), outcome.max())"
   ]
  },
  {
   "cell_type": "code",
   "execution_count": 27,
   "metadata": {},
   "outputs": [
    {
     "data": {
      "image/png": "[encoded data removed]",
      "text/plain": [
       "<Figure size 432x288 with 1 Axes>"
      ]
     },
     "metadata": {
      "needs_background": "light"
     },
     "output_type": "display_data"
    }
   ],
   "source": [
    "straight = np.arange(len(cash))\n",
    "plt.plot(straight, cash)\n",
    "plt.show()"
   ]
  },
  {
   "cell_type": "code",
   "execution_count": 28,
   "metadata": {},
   "outputs": [
    {
     "data": {
      "text/plain": [
       "7.2e-05"
      ]
     },
     "execution_count": 28,
     "metadata": {},
     "output_type": "execute_result"
    }
   ],
   "source": [
    "n, p = 150, .55  # number of hands, probability of each hand\n",
    "s = np.random.binomial(n, p)\n",
    "\n",
    "sum(np.random.binomial(9, 0.65, 1000000) == 0)/1000000."
   ]
  },
  {
   "cell_type": "markdown",
   "metadata": {},
   "source": [
    "Tanguy (2019)\n",
    "when you use numpy.random in multiprocess application - it can lead to misleading behaviors."
   ]
  },
  {
   "cell_type": "markdown",
   "metadata": {},
   "source": [
    "# Reference List"
   ]
  }
 ],
 "metadata": {
  "kernelspec": {
   "display_name": "Python 3",
   "language": "python",
   "name": "python3"
  },
  "language_info": {
   "codemirror_mode": {
    "name": "ipython",
    "version": 3
   },
   "file_extension": ".py",
   "mimetype": "text/x-python",
   "name": "python",
   "nbconvert_exporter": "python",
   "pygments_lexer": "ipython3",
   "version": "3.7.3"
  }
 },
 "nbformat": 4,
 "nbformat_minor": 2
}
