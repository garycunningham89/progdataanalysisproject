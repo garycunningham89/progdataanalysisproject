{
 "cells": [
  {
   "cell_type": "markdown",
   "metadata": {},
   "source": [
    "## Programming for Data Analysis Final Project\n",
    "### Lecturer: Brian McGinley\n",
    "#### Submission Date: 16/12/2019\n",
    "\n"
   ]
  },
  {
   "cell_type": "markdown",
   "metadata": {},
   "source": [
    "Intro..Phenomenon.. assumptions.. algorithm.. packages used.. dataset.. analyses and descriptions.. conclusion..\n",
    "\n",
    "\"Poker is unquestionably thriving among men, but women remain underrepresented in poker rooms all around the world and at the Main Event.Last year, just 272 of the 7,221 entries were female (3.7 percent), a troubling stat for those who advocate women in poker. There wasn’t much improvement this year, with only 3.8 percent (301 of 7,874) of the field being women.\" (Sofen, 2018)\n",
    "\n",
    "Tanguy (2019)\n",
    "when you use numpy.random in multiprocess application - it can lead to misleading behaviors.\n",
    "\n",
    "Willems(2019) Pandas - \"it offers powerful, expressive and flexible data structures that make data manipulation and analysis easy [...]The DataFrame is one of these structures\".\n",
    "\n",
    "Dataframe offers two dimensional labelled data structures with columns which can accept different data types.\n",
    "\n",
    "\n",
    "Cohen (2019)\n",
    "Which data to sample.\n",
    "Which sampling distribution to follow and when?\n",
    "Which sampling algorithm to use.\n",
    "How many to sample?\n",
    "\n",
    "#### Criteria and Workflow.\n",
    "Count\n",
    "Simple definition and short task description.\n",
    "Routine measurements and agreement between measurements.\n",
    "Sample appropriately & create the dataset.\n",
    "Carefully choose solution\n",
    "Use a simple visualizations to explain task.\n",
    "\n",
    "Geeks for Geeks (2019) \"Generating random numbers has always been an useful utility in day-day programming for games or various types of gambling etc. Hence knowledge and shorthands of it in any programming language is always a plus to have\""
   ]
  },
  {
   "cell_type": "markdown",
   "metadata": {},
   "source": [
    "\n",
    "Intro..\n",
    " \n",
    "The objective of this assignment is to simulate a dataset of a real world phenomenon that is of interest and then analyze the dataset using various python codes and python packages. \n",
    "The packages used in this dataset include numpy, scipy, matplotlib, seaborn and pandas. \n",
    "The simulation of the dataset will be completed using numpys random package and then pandas dataframe function to create the dataset on one output. The simulated dataset will be based on the phenomenon of the final of a league based poker tournament format where the participants gain entry by entering at least one of the leagues gameweeks.\n",
    "\n",
    "The description of this phenomenon, assumptions related to it, and generation of this dataset in its entirety will be discussed first. The simulated dataset will then be output in this notebook.\n",
    "\n",
    "Finally the dataset will be analyzed, manipulated, visualized, assessed and have conclusions drawn from it in its entirety and the relationships, if any, between the variables within it to justify the phenomenon.\n",
    "\n",
    "\n",
    "Phenomenon\n",
    "\n",
    "The phenomenon chosen is the generation of the final of a poker tournament based on several variables. The poker tournament used is based on a league format. The league consists of 150 participants/players. There are 30 gameweeks. The 150 participants are split into 90 percent men and 10 percent women and into randomly assigned poker playing levels of beginner, intermediate and advanced.\n",
    "\n",
    "\n",
    "The participants ages will be generated in the range 18-75 considering the likelihood of ages of participants in a tournament.\n",
    "\n",
    "The players gain points each week for playing, graded on the participants placement in each gameweek, i.e. 1 point for each of the 150 participants meaning last place gets 1 point, 75th gets 75 points and 1st get 150, etc.\n",
    "\n",
    "These points are accumulated throughout the gameweeks and are related to the gameweeks played meaning those in the range of gameweeks played 0-10 will have less points than 10-20 and so on.\n",
    "\n",
    "\n",
    "The final tournament chip count for playing is then calculated from these points accumulated to give final chip counts which the players will play with at the final off the tournament.\n",
    "\n",
    "Each point gets 500 chips so these are generated from the points column by multiplying them plus a 1000 bonus chips for each participant in the final.\n",
    "\n",
    "The final data point which will be simulated and added into the dataset to assume its relevance to a players chances in the final is previous hand win percentage. These will randomized in the range 30% - 65% because............\n",
    "\n",
    "This dataset will use pre-tournament data points to try and figure out some of the following. \n",
    "Is there a relationship between gamweeks played and final chip counts?\n",
    "\n",
    "Is there a relationship between level and chip count?\n",
    "\n",
    "Is there a relationship between age and chip count in final?\n",
    "\n",
    "Is there a relationship between sex and chip count in final?\n",
    "\n",
    "Is there a relationship between the hands won percentage and chip count in final?\n",
    "\n",
    "We will compile univariate analysis, bivariate analysis and multivariate analysis to see if there are more explanations inferred in the dataset.."
   ]
  },
  {
   "cell_type": "markdown",
   "metadata": {},
   "source": [
    "Number of Inputs: 150\n",
    "Number of Attributes/columns: chipcount, gameweeksplayed, level, win percentage, sex, entries\n",
    "Attribute Measurement: \n",
    "* chipcount = numeric (500 per point + 1000 bonus)\n",
    "* points = numeric\n",
    "* gameweeksplayed = numeric - 30 total\n",
    "* winpercentage = numeric percentage - ranges out of 100 - highest 65%\n",
    "* level = beginner, intermediate, advanced\n",
    "* sex = Male/Female\n",
    "* age = numeric 18 - 75\n",
    "* size = count of players in the final - 150\n",
    "* analysis Type: Multivariate"
   ]
  },
  {
   "cell_type": "markdown",
   "metadata": {},
   "source": [
    "np.random.seed(1)\n",
    "np.sort(chiplow)"
   ]
  },
  {
   "cell_type": "code",
   "execution_count": null,
   "metadata": {},
   "outputs": [],
   "source": []
  },
  {
   "cell_type": "code",
   "execution_count": 27,
   "metadata": {},
   "outputs": [],
   "source": [
    "import numpy as np\n",
    "import pandas as pd\n",
    "import matplotlib.pyplot as plt\n",
    "%matplotlib inline\n",
    "import seaborn as sns"
   ]
  },
  {
   "cell_type": "code",
   "execution_count": 77,
   "metadata": {},
   "outputs": [
    {
     "data": {
      "text/plain": [
       "array([55, 61, 30, 26, 27, 29, 23, 33, 18, 34, 19, 30, 25, 63, 24, 43, 68,\n",
       "       38, 55, 36, 38, 29, 60, 46, 47, 32, 68, 22, 41, 41, 59, 67, 73, 48,\n",
       "       50, 40, 31, 59, 27, 25, 40, 19, 18, 35, 26, 42, 31, 69, 65, 60, 26,\n",
       "       48, 25, 21, 24, 39, 67, 21, 22, 42, 67, 61, 30, 44, 70, 34, 63, 69,\n",
       "       59, 36, 33, 18, 22, 43, 65, 52, 41, 25, 44, 43, 58, 40, 27, 21, 57,\n",
       "       41, 54, 45, 55, 37, 56, 26, 50, 52, 28, 41, 33, 65, 41, 43, 25, 69,\n",
       "       46, 28, 64, 50, 42, 41, 73, 19, 67, 31, 21, 18, 74, 31, 24, 70, 39,\n",
       "       24, 20, 30, 45, 39, 29, 25, 31, 26, 29, 30, 61, 38, 48, 54, 57, 25,\n",
       "       63, 22, 66, 36, 50, 31, 28, 41, 35, 25, 42, 28, 46, 38])"
      ]
     },
     "execution_count": 77,
     "metadata": {},
     "output_type": "execute_result"
    }
   ],
   "source": [
    "#age\n",
    "np.random.seed(1)\n",
    "age = np.random.randint(18, 75, 150)\n",
    "age"
   ]
  },
  {
   "cell_type": "code",
   "execution_count": null,
   "metadata": {},
   "outputs": [],
   "source": []
  },
  {
   "cell_type": "code",
   "execution_count": 79,
   "metadata": {},
   "outputs": [
    {
     "data": {
      "text/plain": [
       "array([ 6,  9,  6,  1,  1,  2,  8,  7,  3,  5,  6,  3,  5,  3,  5,  8,  8,\n",
       "        2,  8,  1,  7,  8,  7,  2,  1,  2,  9,  9,  4,  9,  8,  4,  7,  6,\n",
       "        2,  4,  5,  9,  2,  5,  1,  4,  3,  1,  5,  3,  8,  8,  9,  7, 16,\n",
       "       19, 16, 11, 11, 12, 18, 17, 13, 15, 16, 13, 15, 13, 15, 18, 18, 12,\n",
       "       18, 11, 17, 18, 17, 12, 11, 12, 19, 19, 14, 19, 18, 14, 17, 16, 12,\n",
       "       14, 15, 19, 12, 15, 11, 14, 13, 11, 15, 13, 18, 18, 19, 17, 26, 29,\n",
       "       26, 21, 21, 22, 28, 27, 23, 25, 26, 23, 25, 23, 25, 28, 28, 22, 28,\n",
       "       21, 27, 28, 27, 22, 21, 22, 29, 29, 24, 29, 28, 24, 27, 26, 22, 24,\n",
       "       25, 29, 22, 25, 21, 24, 23, 21, 25, 23, 28, 28, 29, 27])"
      ]
     },
     "execution_count": 79,
     "metadata": {},
     "output_type": "execute_result"
    }
   ],
   "source": [
    "#gameweeks attended\n",
    "np.random.seed(1)\n",
    "gwp10 = np.random.randint(1, 10, 50)\n",
    "np.random.seed(1)\n",
    "gwp20 = np.random.randint(11, 20, 50)\n",
    "np.random.seed(1)\n",
    "gwp30 = np.random.randint(21, 30, 50)\n",
    "np.random.seed(1)\n",
    "partweek = np.append(gwp10, gwp20)\n",
    "totalgwp = np.append(partweek, gwp30)\n",
    "totalgwp"
   ]
  },
  {
   "cell_type": "code",
   "execution_count": 96,
   "metadata": {},
   "outputs": [
    {
     "ename": "NameError",
     "evalue": "name 'charar' is not defined",
     "output_type": "error",
     "traceback": [
      "\u001b[1;31m---------------------------------------------------------------------------\u001b[0m",
      "\u001b[1;31mNameError\u001b[0m                                 Traceback (most recent call last)",
      "\u001b[1;32m<ipython-input-96-b186a551f9f2>\u001b[0m in \u001b[0;36m<module>\u001b[1;34m\u001b[0m\n\u001b[0;32m      1\u001b[0m \u001b[0mnp\u001b[0m\u001b[1;33m.\u001b[0m\u001b[0mchararray\u001b[0m\u001b[1;33m(\u001b[0m\u001b[1;33m[\u001b[0m\u001b[1;36m1\u001b[0m\u001b[1;33m,\u001b[0m\u001b[1;36m1\u001b[0m\u001b[1;33m]\u001b[0m\u001b[1;33m,\u001b[0m \u001b[1;36m140\u001b[0m\u001b[1;33m)\u001b[0m\u001b[1;33m\u001b[0m\u001b[1;33m\u001b[0m\u001b[0m\n\u001b[1;32m----> 2\u001b[1;33m \u001b[0mcharar\u001b[0m\u001b[1;33m[\u001b[0m\u001b[1;33m:\u001b[0m\u001b[1;33m]\u001b[0m \u001b[1;33m=\u001b[0m \u001b[1;34m'a'\u001b[0m\u001b[1;33m\u001b[0m\u001b[1;33m\u001b[0m\u001b[0m\n\u001b[0m\u001b[0;32m      3\u001b[0m \u001b[0mcharar\u001b[0m\u001b[1;33m\u001b[0m\u001b[1;33m\u001b[0m\u001b[0m\n",
      "\u001b[1;31mNameError\u001b[0m: name 'charar' is not defined"
     ]
    }
   ],
   "source": []
  },
  {
   "cell_type": "code",
   "execution_count": 80,
   "metadata": {},
   "outputs": [
    {
     "data": {
      "text/plain": [
       "array([ 38, 141,  73, 138, 134,  80, 145, 130,  72, 135,  26,  21, 102,\n",
       "       147, 140, 143,  51,  69,  97,  87, 142, 138,   8,  64,  62,  23,\n",
       "        58,   2, 129,  61,   9, 142, 116, 122,  31,  72, 132,  50,  58,\n",
       "         4,  25,  44,  77,  27,  53,  81, 110, 116,  42,  16, 188, 291,\n",
       "       223, 288, 284, 230, 295, 280, 222, 285, 176, 171, 252, 297, 290,\n",
       "       293, 201, 219, 247, 237, 292, 288, 158, 214, 212, 173, 208, 152,\n",
       "       279, 211, 159, 292, 266, 272, 181, 222, 282, 200, 208, 154, 175,\n",
       "       194, 227, 177, 203, 231, 260, 266, 192, 166, 338, 536, 373, 556,\n",
       "       504, 434, 445, 430, 372, 538, 582, 479, 577, 555, 553, 457, 351,\n",
       "       369, 516, 542, 387, 442, 308, 323, 302, 510, 565, 517, 442, 416,\n",
       "       422, 331, 372, 350, 304, 581, 344, 377, 327, 410, 598, 316, 365,\n",
       "       497, 326, 527, 583, 454, 405, 323])"
      ]
     },
     "execution_count": 80,
     "metadata": {},
     "output_type": "execute_result"
    }
   ],
   "source": [
    "#points generation\n",
    "np.random.seed(1)\n",
    "ptlow = np.random.randint(1, 150, 50)\n",
    "np.random.seed(1)\n",
    "ptmed = np.random.randint(151, 300, 50)\n",
    "np.random.seed(1)\n",
    "pthigh = np.random.randint(301, 600, 50)\n",
    "np.random.seed(1)\n",
    "ptpart = np.append(ptlow, ptmed)\n",
    "totalpts = np.append(ptpart, pthigh)\n",
    "totalpts"
   ]
  },
  {
   "cell_type": "code",
   "execution_count": null,
   "metadata": {},
   "outputs": [],
   "source": []
  },
  {
   "cell_type": "code",
   "execution_count": 81,
   "metadata": {},
   "outputs": [
    {
     "data": {
      "text/plain": [
       "array([ 20000,  71500,  37500,  70000,  68000,  41000,  73500,  66000,\n",
       "        37000,  68500,  14000,  11500,  52000,  74500,  71000,  72500,\n",
       "        26500,  35500,  49500,  44500,  72000,  70000,   5000,  33000,\n",
       "        32000,  12500,  30000,   2000,  65500,  31500,   5500,  72000,\n",
       "        59000,  62000,  16500,  37000,  67000,  26000,  30000,   3000,\n",
       "        13500,  23000,  39500,  14500,  27500,  41500,  56000,  59000,\n",
       "        22000,   9000,  95000, 146500, 112500, 145000, 143000, 116000,\n",
       "       148500, 141000, 112000, 143500,  89000,  86500, 127000, 149500,\n",
       "       146000, 147500, 101500, 110500, 124500, 119500, 147000, 145000,\n",
       "        80000, 108000, 107000,  87500, 105000,  77000, 140500, 106500,\n",
       "        80500, 147000, 134000, 137000,  91500, 112000, 142000, 101000,\n",
       "       105000,  78000,  88500,  98000, 114500,  89500, 102500, 116500,\n",
       "       131000, 134000,  97000,  84000, 170000, 269000, 187500, 279000,\n",
       "       253000, 218000, 223500, 216000, 187000, 270000, 292000, 240500,\n",
       "       289500, 278500, 277500, 229500, 176500, 185500, 259000, 272000,\n",
       "       194500, 222000, 155000, 162500, 152000, 256000, 283500, 259500,\n",
       "       222000, 209000, 212000, 166500, 187000, 176000, 153000, 291500,\n",
       "       173000, 189500, 164500, 206000, 300000, 159000, 183500, 249500,\n",
       "       164000, 264500, 292500, 228000, 203500, 162500])"
      ]
     },
     "execution_count": 81,
     "metadata": {},
     "output_type": "execute_result"
    }
   ],
   "source": [
    "#chips\n",
    "np.random.seed(1)\n",
    "chips = 500 * totalpts + 1000\n",
    "chips"
   ]
  },
  {
   "cell_type": "code",
   "execution_count": 82,
   "metadata": {},
   "outputs": [
    {
     "data": {
      "text/plain": [
       "array([62, 37, 33, 34, 36, 30, 40, 25, 41, 26, 37, 32, 31, 50, 45, 62, 43,\n",
       "       45, 36, 53, 54, 39, 29, 48, 48, 55, 57, 47, 38, 34, 32, 47, 26, 25,\n",
       "       42, 33, 49, 38, 33, 55, 32, 28, 31, 46, 28, 29, 49, 37, 51, 41, 43,\n",
       "       40, 25, 29, 50, 59, 48, 32, 51, 50, 65, 47, 34, 28, 64, 48, 61, 52,\n",
       "       62, 44, 63, 33, 57, 59, 35, 48, 40, 48, 50, 32, 53, 35, 57, 49, 48,\n",
       "       26, 38, 28, 25, 38, 31, 46, 31, 27, 37, 52, 46, 36, 32, 38, 33, 36,\n",
       "       37, 45, 55, 61, 64, 32, 29, 43, 57, 38, 35, 48, 42, 32, 49, 35, 53,\n",
       "       45, 57, 37, 26, 55, 49, 43, 58, 27, 53, 64, 59, 35, 57, 43, 47, 31,\n",
       "       27, 32, 64, 40, 30, 42, 45, 47, 62, 38, 58, 45, 35, 57])"
      ]
     },
     "execution_count": 82,
     "metadata": {},
     "output_type": "execute_result"
    }
   ],
   "source": [
    "##handswon\n",
    "np.random.seed(1)\n",
    "handswon = np.random.randint(low= 25, high=66, size=150)\n",
    "handswon"
   ]
  },
  {
   "cell_type": "code",
   "execution_count": 84,
   "metadata": {},
   "outputs": [],
   "source": [
    "#level\n",
    "np.random.seed(1)\n",
    "three_groups = ('beginner', 'intermediate', 'advanced')\n",
    "level = np.random.choice(three_groups, 150)"
   ]
  },
  {
   "cell_type": "code",
   "execution_count": 130,
   "metadata": {},
   "outputs": [],
   "source": [
    "# sex\n",
    "np.random.seed(1)\n",
    "male = ('male', 'male')\n",
    "female = ('female', 'female')\n",
    "# 10% women calculation\n",
    "sex = (np.append(np.random.choice(male, 135), np.random.choice(female, 15)))\n",
    "np.random.seed(1)\n",
    "gender = np.random.permutation(sex)\n",
    "\n",
    "#gender\n",
    "#dataframe=pd.DataFrame(level, columns=['gender']) \n",
    "#dataframe.head()"
   ]
  },
  {
   "cell_type": "code",
   "execution_count": 133,
   "metadata": {},
   "outputs": [
    {
     "name": "stdout",
     "output_type": "stream",
     "text": [
      "        chips  gwp  totalpts  gender  age         level  handswon%\n",
      "count                                                             \n",
      "1       20000    6        38    male   55  intermediate         62\n",
      "2       71500    9       141    male   61      beginner         37\n",
      "3       37500    6        73    male   30      beginner         33\n",
      "4       70000    1       138    male   26  intermediate         34\n",
      "5       68000    1       134    male   27  intermediate         36\n",
      "6       41000    2        80    male   29      beginner         30\n",
      "7       73500    8       145  female   23      beginner         40\n",
      "8       66000    7       130    male   33  intermediate         25\n",
      "9       37000    3        72    male   18      beginner         41\n",
      "10      68500    5       135    male   34  intermediate         26\n",
      "11      14000    6        26    male   19      beginner         37\n",
      "12      11500    3        21    male   30      advanced         32\n",
      "13      52000    5       102    male   25  intermediate         31\n",
      "14      74500    3       147    male   63      advanced         50\n",
      "15      71000    5       140    male   24      beginner         45\n",
      "16      72500    8       143    male   43      advanced         62\n",
      "17      26500    8        51    male   68  intermediate         43\n",
      "18      35500    2        69    male   38      advanced         45\n",
      "19      49500    8        97    male   55      beginner         36\n",
      "20      44500    1        87    male   36      beginner         53\n",
      "21      72000    7       142    male   38      advanced         54\n",
      "22      70000    8       138    male   29      beginner         39\n",
      "23       5000    7         8    male   60  intermediate         29\n",
      "24      33000    2        64    male   46      advanced         48\n",
      "25      32000    1        62    male   47      advanced         48\n",
      "26      12500    2        23    male   32      beginner         55\n",
      "27      30000    9        58    male   68  intermediate         57\n",
      "28       2000    9         2    male   22  intermediate         47\n",
      "29      65500    4       129    male   41      advanced         38\n",
      "30      31500    9        61  female   41      beginner         34\n",
      "...       ...  ...       ...     ...  ...           ...        ...\n",
      "121    194500   27       387    male   20      beginner         57\n",
      "122    222000   28       442    male   30      advanced         37\n",
      "123    155000   27       308    male   45      beginner         26\n",
      "124    162500   22       323    male   39      beginner         55\n",
      "125    152000   21       302    male   29      beginner         49\n",
      "126    256000   22       510    male   25      beginner         43\n",
      "127    283500   29       565    male   31  intermediate         58\n",
      "128    259500   29       517    male   26      advanced         27\n",
      "129    222000   24       442    male   29      beginner         53\n",
      "130    209000   29       416    male   30  intermediate         64\n",
      "131    212000   28       422    male   61      beginner         59\n",
      "132    166500   24       331    male   38      advanced         35\n",
      "133    187000   27       372    male   48  intermediate         57\n",
      "134    176000   26       350    male   54      advanced         43\n",
      "135    153000   22       304    male   57      beginner         47\n",
      "136    291500   24       581    male   25      beginner         31\n",
      "137    173000   25       344    male   63      advanced         27\n",
      "138    189500   29       377    male   22      advanced         32\n",
      "139    164500   22       327    male   66      advanced         64\n",
      "140    206000   25       410    male   36      beginner         40\n",
      "141    300000   21       598    male   50  intermediate         30\n",
      "142    159000   24       316    male   31      advanced         42\n",
      "143    183500   23       365    male   28      advanced         45\n",
      "144    249500   21       497    male   41      advanced         47\n",
      "145    164000   25       326    male   35      advanced         62\n",
      "146    264500   23       527    male   25      beginner         38\n",
      "147    292500   28       583  female   42      advanced         58\n",
      "148    228000   28       454    male   28  intermediate         45\n",
      "149    203500   29       405  female   46  intermediate         35\n",
      "150    162500   27       323    male   38      advanced         57\n",
      "\n",
      "[150 rows x 7 columns]\n"
     ]
    }
   ],
   "source": [
    "df = pd.DataFrame({'chips': chips, 'gwp': totalgwp, 'totalpts': totalpts, 'gender': gender, 'age':age, 'level': level, 'handswon%': handswon})\n",
    "df.index = dataframe.index + 1\n",
    "df.index.name = 'count'\n",
    "print(df)"
   ]
  },
  {
   "cell_type": "code",
   "execution_count": null,
   "metadata": {},
   "outputs": [],
   "source": []
  },
  {
   "cell_type": "markdown",
   "metadata": {},
   "source": [
    "* chipcount = numeric (500 per point + 1000 bonus)\n",
    "* points = numeric\n",
    "* gameweeksplayed = numeric - 30 total\n",
    "* winpercentage = numeric percentage - ranges out of 100 - highest 65%\n",
    "* level = beginner, intermediate, advanced\n",
    "* sex = Male/Female\n",
    "* age = numeric 18 - 75\n",
    "* size = count of players in the final - 150"
   ]
  },
  {
   "cell_type": "code",
   "execution_count": 40,
   "metadata": {},
   "outputs": [
    {
     "ename": "AssertionError",
     "evalue": "3 columns passed, passed data had 150 columns",
     "output_type": "error",
     "traceback": [
      "\u001b[1;31m---------------------------------------------------------------------------\u001b[0m",
      "\u001b[1;31mAssertionError\u001b[0m                            Traceback (most recent call last)",
      "\u001b[1;32m<ipython-input-40-aeef12d29864>\u001b[0m in \u001b[0;36m<module>\u001b[1;34m\u001b[0m\n\u001b[1;32m----> 1\u001b[1;33m \u001b[0mdf\u001b[0m \u001b[1;33m=\u001b[0m \u001b[0mpd\u001b[0m\u001b[1;33m.\u001b[0m\u001b[0mDataFrame\u001b[0m\u001b[1;33m(\u001b[0m\u001b[1;33m[\u001b[0m\u001b[0msex\u001b[0m\u001b[1;33m,\u001b[0m \u001b[0mtotalpts\u001b[0m\u001b[1;33m,\u001b[0m \u001b[0mfield\u001b[0m\u001b[1;33m]\u001b[0m\u001b[1;33m,\u001b[0m \u001b[0mcolumns\u001b[0m\u001b[1;33m=\u001b[0m\u001b[1;33m[\u001b[0m\u001b[1;34m'A'\u001b[0m\u001b[1;33m,\u001b[0m \u001b[1;34m'B'\u001b[0m\u001b[1;33m,\u001b[0m \u001b[1;34m'C'\u001b[0m\u001b[1;33m]\u001b[0m\u001b[1;33m)\u001b[0m\u001b[1;33m\u001b[0m\u001b[1;33m\u001b[0m\u001b[0m\n\u001b[0m\u001b[0;32m      2\u001b[0m \u001b[0mprint\u001b[0m\u001b[1;33m(\u001b[0m\u001b[0mdf\u001b[0m\u001b[1;33m)\u001b[0m\u001b[1;33m\u001b[0m\u001b[1;33m\u001b[0m\u001b[0m\n",
      "\u001b[1;32m~\\Anaconda3\\lib\\site-packages\\pandas\\core\\frame.py\u001b[0m in \u001b[0;36m__init__\u001b[1;34m(self, data, index, columns, dtype, copy)\u001b[0m\n\u001b[0;32m    433\u001b[0m                     \u001b[1;32mif\u001b[0m \u001b[0mis_named_tuple\u001b[0m\u001b[1;33m(\u001b[0m\u001b[0mdata\u001b[0m\u001b[1;33m[\u001b[0m\u001b[1;36m0\u001b[0m\u001b[1;33m]\u001b[0m\u001b[1;33m)\u001b[0m \u001b[1;32mand\u001b[0m \u001b[0mcolumns\u001b[0m \u001b[1;32mis\u001b[0m \u001b[1;32mNone\u001b[0m\u001b[1;33m:\u001b[0m\u001b[1;33m\u001b[0m\u001b[1;33m\u001b[0m\u001b[0m\n\u001b[0;32m    434\u001b[0m                         \u001b[0mcolumns\u001b[0m \u001b[1;33m=\u001b[0m \u001b[0mdata\u001b[0m\u001b[1;33m[\u001b[0m\u001b[1;36m0\u001b[0m\u001b[1;33m]\u001b[0m\u001b[1;33m.\u001b[0m\u001b[0m_fields\u001b[0m\u001b[1;33m\u001b[0m\u001b[1;33m\u001b[0m\u001b[0m\n\u001b[1;32m--> 435\u001b[1;33m                     \u001b[0marrays\u001b[0m\u001b[1;33m,\u001b[0m \u001b[0mcolumns\u001b[0m \u001b[1;33m=\u001b[0m \u001b[0mto_arrays\u001b[0m\u001b[1;33m(\u001b[0m\u001b[0mdata\u001b[0m\u001b[1;33m,\u001b[0m \u001b[0mcolumns\u001b[0m\u001b[1;33m,\u001b[0m \u001b[0mdtype\u001b[0m\u001b[1;33m=\u001b[0m\u001b[0mdtype\u001b[0m\u001b[1;33m)\u001b[0m\u001b[1;33m\u001b[0m\u001b[1;33m\u001b[0m\u001b[0m\n\u001b[0m\u001b[0;32m    436\u001b[0m                     \u001b[0mcolumns\u001b[0m \u001b[1;33m=\u001b[0m \u001b[0mensure_index\u001b[0m\u001b[1;33m(\u001b[0m\u001b[0mcolumns\u001b[0m\u001b[1;33m)\u001b[0m\u001b[1;33m\u001b[0m\u001b[1;33m\u001b[0m\u001b[0m\n\u001b[0;32m    437\u001b[0m \u001b[1;33m\u001b[0m\u001b[0m\n",
      "\u001b[1;32m~\\Anaconda3\\lib\\site-packages\\pandas\\core\\internals\\construction.py\u001b[0m in \u001b[0;36mto_arrays\u001b[1;34m(data, columns, coerce_float, dtype)\u001b[0m\n\u001b[0;32m    402\u001b[0m     \u001b[1;32mif\u001b[0m \u001b[0misinstance\u001b[0m\u001b[1;33m(\u001b[0m\u001b[0mdata\u001b[0m\u001b[1;33m[\u001b[0m\u001b[1;36m0\u001b[0m\u001b[1;33m]\u001b[0m\u001b[1;33m,\u001b[0m \u001b[1;33m(\u001b[0m\u001b[0mlist\u001b[0m\u001b[1;33m,\u001b[0m \u001b[0mtuple\u001b[0m\u001b[1;33m)\u001b[0m\u001b[1;33m)\u001b[0m\u001b[1;33m:\u001b[0m\u001b[1;33m\u001b[0m\u001b[1;33m\u001b[0m\u001b[0m\n\u001b[0;32m    403\u001b[0m         return _list_to_arrays(data, columns, coerce_float=coerce_float,\n\u001b[1;32m--> 404\u001b[1;33m                                dtype=dtype)\n\u001b[0m\u001b[0;32m    405\u001b[0m     \u001b[1;32melif\u001b[0m \u001b[0misinstance\u001b[0m\u001b[1;33m(\u001b[0m\u001b[0mdata\u001b[0m\u001b[1;33m[\u001b[0m\u001b[1;36m0\u001b[0m\u001b[1;33m]\u001b[0m\u001b[1;33m,\u001b[0m \u001b[0mcompat\u001b[0m\u001b[1;33m.\u001b[0m\u001b[0mMapping\u001b[0m\u001b[1;33m)\u001b[0m\u001b[1;33m:\u001b[0m\u001b[1;33m\u001b[0m\u001b[1;33m\u001b[0m\u001b[0m\n\u001b[0;32m    406\u001b[0m         return _list_of_dict_to_arrays(data, columns,\n",
      "\u001b[1;32m~\\Anaconda3\\lib\\site-packages\\pandas\\core\\internals\\construction.py\u001b[0m in \u001b[0;36m_list_to_arrays\u001b[1;34m(data, columns, coerce_float, dtype)\u001b[0m\n\u001b[0;32m    434\u001b[0m         \u001b[0mcontent\u001b[0m \u001b[1;33m=\u001b[0m \u001b[0mlist\u001b[0m\u001b[1;33m(\u001b[0m\u001b[0mlib\u001b[0m\u001b[1;33m.\u001b[0m\u001b[0mto_object_array\u001b[0m\u001b[1;33m(\u001b[0m\u001b[0mdata\u001b[0m\u001b[1;33m)\u001b[0m\u001b[1;33m.\u001b[0m\u001b[0mT\u001b[0m\u001b[1;33m)\u001b[0m\u001b[1;33m\u001b[0m\u001b[1;33m\u001b[0m\u001b[0m\n\u001b[0;32m    435\u001b[0m     return _convert_object_array(content, columns, dtype=dtype,\n\u001b[1;32m--> 436\u001b[1;33m                                  coerce_float=coerce_float)\n\u001b[0m\u001b[0;32m    437\u001b[0m \u001b[1;33m\u001b[0m\u001b[0m\n\u001b[0;32m    438\u001b[0m \u001b[1;33m\u001b[0m\u001b[0m\n",
      "\u001b[1;32m~\\Anaconda3\\lib\\site-packages\\pandas\\core\\internals\\construction.py\u001b[0m in \u001b[0;36m_convert_object_array\u001b[1;34m(content, columns, coerce_float, dtype)\u001b[0m\n\u001b[0;32m    490\u001b[0m             raise AssertionError('{col:d} columns passed, passed data had '\n\u001b[0;32m    491\u001b[0m                                  '{con} columns'.format(col=len(columns),\n\u001b[1;32m--> 492\u001b[1;33m                                                         con=len(content)))\n\u001b[0m\u001b[0;32m    493\u001b[0m \u001b[1;33m\u001b[0m\u001b[0m\n\u001b[0;32m    494\u001b[0m     \u001b[1;31m# provide soft conversion of object dtypes\u001b[0m\u001b[1;33m\u001b[0m\u001b[1;33m\u001b[0m\u001b[1;33m\u001b[0m\u001b[0m\n",
      "\u001b[1;31mAssertionError\u001b[0m: 3 columns passed, passed data had 150 columns"
     ]
    }
   ],
   "source": []
  },
  {
   "cell_type": "code",
   "execution_count": 16,
   "metadata": {},
   "outputs": [],
   "source": [
    "#########numpy.savetxt(\"mydataset.csv\", totalchip,fmt='%.2f')"
   ]
  },
  {
   "cell_type": "code",
   "execution_count": 17,
   "metadata": {},
   "outputs": [
    {
     "name": "stdout",
     "output_type": "stream",
     "text": [
      "Empty DataFrame\n",
      "Columns: []\n",
      "Index: []\n"
     ]
    }
   ],
   "source": [
    "df = pd.DataFrame()   \n",
    "print(df)"
   ]
  },
  {
   "cell_type": "code",
   "execution_count": 18,
   "metadata": {},
   "outputs": [
    {
     "name": "stdout",
     "output_type": "stream",
     "text": [
      "1 1\n"
     ]
    }
   ],
   "source": [
    "#binomial example 55% tournament win rate)\n",
    "import matplotlib.pyplot as plt\n",
    "cash = np.zeros(10000)\n",
    "cash[0] = 0\n",
    "outcome = np.random.binomial(1, 1, size=len(cash))\n",
    "\n",
    "for i in range(1, len(cash)):\n",
    "    if outcome[i] < 1:\n",
    "        cash[i] = cash[i - 1] - 1\n",
    "    elif outcome[i] < 3:\n",
    "        cash[i] = cash[i - 1] + 1\n",
    "                \n",
    "print(outcome.min(), outcome.max())"
   ]
  },
  {
   "cell_type": "code",
   "execution_count": 19,
   "metadata": {},
   "outputs": [
    {
     "data": {
      "image/png": "[encoded data removed]",
      "text/plain": [
       "<Figure size 432x288 with 1 Axes>"
      ]
     },
     "metadata": {
      "needs_background": "light"
     },
     "output_type": "display_data"
    }
   ],
   "source": [
    "straight = np.arange(len(cash))\n",
    "plt.plot(straight, cash)\n",
    "plt.show()"
   ]
  },
  {
   "cell_type": "code",
   "execution_count": 21,
   "metadata": {},
   "outputs": [
    {
     "data": {
      "text/plain": [
       "7.7e-05"
      ]
     },
     "execution_count": 21,
     "metadata": {},
     "output_type": "execute_result"
    }
   ],
   "source": [
    "n, p = 150, .55  # number of hands, probability of each hand\n",
    "s = np.random.binomial(n, p)\n",
    "\n",
    "sum(np.random.binomial(9, 0.65, 1000000) == 0)/1000000."
   ]
  }
 ],
 "metadata": {
  "kernelspec": {
   "display_name": "Python 3",
   "language": "python",
   "name": "python3"
  },
  "language_info": {
   "codemirror_mode": {
    "name": "ipython",
    "version": 3
   },
   "file_extension": ".py",
   "mimetype": "text/x-python",
   "name": "python",
   "nbconvert_exporter": "python",
   "pygments_lexer": "ipython3",
   "version": "3.7.3"
  }
 },
 "nbformat": 4,
 "nbformat_minor": 2
}
